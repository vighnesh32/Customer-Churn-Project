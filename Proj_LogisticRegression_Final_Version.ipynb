{
 "cells": [
  {
   "cell_type": "code",
   "execution_count": 1,
   "metadata": {
    "id": "C9azwbgeGG69"
   },
   "outputs": [],
   "source": [
    "import pandas as pd\n",
    "\n",
    "import numpy as np\n",
    "import seaborn as sns\n",
    "import matplotlib.pyplot as plt\n",
    "\n",
    "## Import the metrics we'll be using\n",
    "from sklearn import metrics\n",
    "\n",
    "## Import Logistic Regression from sklearn\n",
    "from sklearn.linear_model import LogisticRegression\n",
    "from sklearn.model_selection import train_test_split # module to split our data into train and test sets\n",
    "\n",
    "import statsmodels.api as sm\n",
    "import statsmodels.tools "
   ]
  },
  {
   "cell_type": "code",
   "execution_count": 2,
   "metadata": {
    "id": "lsT77E47Gz3O"
   },
   "outputs": [],
   "source": [
    "# import the dataset\n",
    "churn = pd.read_csv('customer_churn.csv')"
   ]
  },
  {
   "cell_type": "markdown",
   "metadata": {
    "id": "C5Yy08GglrGK"
   },
   "source": [
    "### Step 1 - EDA!\n",
    "### Step 2 - Check for nulls\n",
    "### Step 3 - Data Cleaning!\n",
    "### (Step # - Train test Split )\n",
    "### Step 4 - Feature Engineering ^_^\n",
    "### Step 5 - Create the Model & Fit the model & Do the prediction!\n",
    "### Step 6 - Check Stats / Summary!\n",
    "### Step 7 - Metrics ! Evaluate how well we are performing!\n",
    "### Step 7.5 - change the feature engineering and go back to step 4....\n",
    "### .... if happy with model go to step 8\n",
    "### Step 8 - Run .predict on the test data! and run metrics!"
   ]
  },
  {
   "cell_type": "markdown",
   "metadata": {
    "id": "_Rbgt7ZoktwX"
   },
   "source": [
    "#### Quick Data Checks\n"
   ]
  },
  {
   "cell_type": "code",
   "execution_count": 3,
   "metadata": {
    "colab": {
     "base_uri": "https://localhost:8080/",
     "height": 438
    },
    "id": "7f2eCPkbHpnc",
    "outputId": "66cd1f20-6e0c-4cbc-bf2f-16a4405a5d84"
   },
   "outputs": [
    {
     "data": {
      "text/html": [
       "<div>\n",
       "<style scoped>\n",
       "    .dataframe tbody tr th:only-of-type {\n",
       "        vertical-align: middle;\n",
       "    }\n",
       "\n",
       "    .dataframe tbody tr th {\n",
       "        vertical-align: top;\n",
       "    }\n",
       "\n",
       "    .dataframe thead th {\n",
       "        text-align: right;\n",
       "    }\n",
       "</style>\n",
       "<table border=\"1\" class=\"dataframe\">\n",
       "  <thead>\n",
       "    <tr style=\"text-align: right;\">\n",
       "      <th></th>\n",
       "      <th>CustomerID</th>\n",
       "      <th>Count</th>\n",
       "      <th>Country</th>\n",
       "      <th>State</th>\n",
       "      <th>City</th>\n",
       "      <th>Zip Code</th>\n",
       "      <th>Lat Long</th>\n",
       "      <th>Latitude</th>\n",
       "      <th>Longitude</th>\n",
       "      <th>Gender</th>\n",
       "      <th>...</th>\n",
       "      <th>Streaming TV</th>\n",
       "      <th>Streaming Movies</th>\n",
       "      <th>Contract</th>\n",
       "      <th>Paperless Billing</th>\n",
       "      <th>Payment Method</th>\n",
       "      <th>Monthly Charges</th>\n",
       "      <th>Total Charges</th>\n",
       "      <th>Churn Label</th>\n",
       "      <th>Churn Value</th>\n",
       "      <th>Churn Reason</th>\n",
       "    </tr>\n",
       "  </thead>\n",
       "  <tbody>\n",
       "    <tr>\n",
       "      <th>0</th>\n",
       "      <td>3668-QPYBK</td>\n",
       "      <td>1</td>\n",
       "      <td>United States</td>\n",
       "      <td>California</td>\n",
       "      <td>Los Angeles</td>\n",
       "      <td>90003</td>\n",
       "      <td>33.964131, -118.272783</td>\n",
       "      <td>33.964131</td>\n",
       "      <td>-118.272783</td>\n",
       "      <td>Male</td>\n",
       "      <td>...</td>\n",
       "      <td>No</td>\n",
       "      <td>No</td>\n",
       "      <td>Month-to-month</td>\n",
       "      <td>Yes</td>\n",
       "      <td>Mailed check</td>\n",
       "      <td>53.85</td>\n",
       "      <td>108.15</td>\n",
       "      <td>Yes</td>\n",
       "      <td>1</td>\n",
       "      <td>Competitor made better offer</td>\n",
       "    </tr>\n",
       "    <tr>\n",
       "      <th>1</th>\n",
       "      <td>9237-HQITU</td>\n",
       "      <td>1</td>\n",
       "      <td>United States</td>\n",
       "      <td>California</td>\n",
       "      <td>Los Angeles</td>\n",
       "      <td>90005</td>\n",
       "      <td>34.059281, -118.30742</td>\n",
       "      <td>34.059281</td>\n",
       "      <td>-118.307420</td>\n",
       "      <td>Female</td>\n",
       "      <td>...</td>\n",
       "      <td>No</td>\n",
       "      <td>No</td>\n",
       "      <td>Month-to-month</td>\n",
       "      <td>Yes</td>\n",
       "      <td>Electronic check</td>\n",
       "      <td>70.70</td>\n",
       "      <td>151.65</td>\n",
       "      <td>Yes</td>\n",
       "      <td>1</td>\n",
       "      <td>Moved</td>\n",
       "    </tr>\n",
       "    <tr>\n",
       "      <th>2</th>\n",
       "      <td>9305-CDSKC</td>\n",
       "      <td>1</td>\n",
       "      <td>United States</td>\n",
       "      <td>California</td>\n",
       "      <td>Los Angeles</td>\n",
       "      <td>90006</td>\n",
       "      <td>34.048013, -118.293953</td>\n",
       "      <td>34.048013</td>\n",
       "      <td>-118.293953</td>\n",
       "      <td>Female</td>\n",
       "      <td>...</td>\n",
       "      <td>Yes</td>\n",
       "      <td>Yes</td>\n",
       "      <td>Month-to-month</td>\n",
       "      <td>Yes</td>\n",
       "      <td>Electronic check</td>\n",
       "      <td>99.65</td>\n",
       "      <td>820.5</td>\n",
       "      <td>Yes</td>\n",
       "      <td>1</td>\n",
       "      <td>Moved</td>\n",
       "    </tr>\n",
       "    <tr>\n",
       "      <th>3</th>\n",
       "      <td>7892-POOKP</td>\n",
       "      <td>1</td>\n",
       "      <td>United States</td>\n",
       "      <td>California</td>\n",
       "      <td>Los Angeles</td>\n",
       "      <td>90010</td>\n",
       "      <td>34.062125, -118.315709</td>\n",
       "      <td>34.062125</td>\n",
       "      <td>-118.315709</td>\n",
       "      <td>Female</td>\n",
       "      <td>...</td>\n",
       "      <td>Yes</td>\n",
       "      <td>Yes</td>\n",
       "      <td>Month-to-month</td>\n",
       "      <td>Yes</td>\n",
       "      <td>Electronic check</td>\n",
       "      <td>104.80</td>\n",
       "      <td>3046.05</td>\n",
       "      <td>Yes</td>\n",
       "      <td>1</td>\n",
       "      <td>Moved</td>\n",
       "    </tr>\n",
       "    <tr>\n",
       "      <th>4</th>\n",
       "      <td>0280-XJGEX</td>\n",
       "      <td>1</td>\n",
       "      <td>United States</td>\n",
       "      <td>California</td>\n",
       "      <td>Los Angeles</td>\n",
       "      <td>90015</td>\n",
       "      <td>34.039224, -118.266293</td>\n",
       "      <td>34.039224</td>\n",
       "      <td>-118.266293</td>\n",
       "      <td>Male</td>\n",
       "      <td>...</td>\n",
       "      <td>Yes</td>\n",
       "      <td>Yes</td>\n",
       "      <td>Month-to-month</td>\n",
       "      <td>Yes</td>\n",
       "      <td>Bank transfer (automatic)</td>\n",
       "      <td>103.70</td>\n",
       "      <td>5036.3</td>\n",
       "      <td>Yes</td>\n",
       "      <td>1</td>\n",
       "      <td>Competitor had better devices</td>\n",
       "    </tr>\n",
       "  </tbody>\n",
       "</table>\n",
       "<p>5 rows × 31 columns</p>\n",
       "</div>"
      ],
      "text/plain": [
       "   CustomerID  Count        Country       State         City  Zip Code  \\\n",
       "0  3668-QPYBK      1  United States  California  Los Angeles     90003   \n",
       "1  9237-HQITU      1  United States  California  Los Angeles     90005   \n",
       "2  9305-CDSKC      1  United States  California  Los Angeles     90006   \n",
       "3  7892-POOKP      1  United States  California  Los Angeles     90010   \n",
       "4  0280-XJGEX      1  United States  California  Los Angeles     90015   \n",
       "\n",
       "                 Lat Long   Latitude   Longitude  Gender  ... Streaming TV  \\\n",
       "0  33.964131, -118.272783  33.964131 -118.272783    Male  ...           No   \n",
       "1   34.059281, -118.30742  34.059281 -118.307420  Female  ...           No   \n",
       "2  34.048013, -118.293953  34.048013 -118.293953  Female  ...          Yes   \n",
       "3  34.062125, -118.315709  34.062125 -118.315709  Female  ...          Yes   \n",
       "4  34.039224, -118.266293  34.039224 -118.266293    Male  ...          Yes   \n",
       "\n",
       "  Streaming Movies        Contract  Paperless Billing  \\\n",
       "0               No  Month-to-month                Yes   \n",
       "1               No  Month-to-month                Yes   \n",
       "2              Yes  Month-to-month                Yes   \n",
       "3              Yes  Month-to-month                Yes   \n",
       "4              Yes  Month-to-month                Yes   \n",
       "\n",
       "              Payment Method Monthly Charges Total Charges Churn Label  \\\n",
       "0               Mailed check           53.85        108.15         Yes   \n",
       "1           Electronic check           70.70        151.65         Yes   \n",
       "2           Electronic check           99.65         820.5         Yes   \n",
       "3           Electronic check          104.80       3046.05         Yes   \n",
       "4  Bank transfer (automatic)          103.70        5036.3         Yes   \n",
       "\n",
       "  Churn Value                   Churn Reason  \n",
       "0           1   Competitor made better offer  \n",
       "1           1                          Moved  \n",
       "2           1                          Moved  \n",
       "3           1                          Moved  \n",
       "4           1  Competitor had better devices  \n",
       "\n",
       "[5 rows x 31 columns]"
      ]
     },
     "execution_count": 3,
     "metadata": {},
     "output_type": "execute_result"
    }
   ],
   "source": [
    "# print head of the dataset\n",
    "churn.head()"
   ]
  },
  {
   "cell_type": "code",
   "execution_count": 4,
   "metadata": {
    "colab": {
     "base_uri": "https://localhost:8080/"
    },
    "id": "e8KKsmNjH22a",
    "outputId": "7ed0d69e-062b-4d77-f601-4131dd3088e3"
   },
   "outputs": [
    {
     "data": {
      "text/plain": [
       "Index(['CustomerID', 'Count', 'Country', 'State', 'City', 'Zip Code',\n",
       "       'Lat Long', 'Latitude', 'Longitude', 'Gender', 'Senior Citizen',\n",
       "       'Partner', 'Dependents', 'Tenure Months', 'Phone Service',\n",
       "       'Multiple Lines', 'Internet Service', 'Online Security',\n",
       "       'Online Backup', 'Device Protection', 'Tech Support', 'Streaming TV',\n",
       "       'Streaming Movies', 'Contract', 'Paperless Billing', 'Payment Method',\n",
       "       'Monthly Charges', 'Total Charges', 'Churn Label', 'Churn Value',\n",
       "       'Churn Reason'],\n",
       "      dtype='object')"
      ]
     },
     "execution_count": 4,
     "metadata": {},
     "output_type": "execute_result"
    }
   ],
   "source": [
    "# checking for the dataset columns\n",
    "churn.columns"
   ]
  },
  {
   "cell_type": "code",
   "execution_count": 5,
   "metadata": {
    "colab": {
     "base_uri": "https://localhost:8080/"
    },
    "id": "8-nXbU1aktwY",
    "outputId": "f20d7b5c-bd5d-416c-fbc9-6206bc20476e"
   },
   "outputs": [
    {
     "data": {
      "text/plain": [
       "7043"
      ]
     },
     "execution_count": 5,
     "metadata": {},
     "output_type": "execute_result"
    }
   ],
   "source": [
    "# checking length of the customer id\n",
    "len(churn.CustomerID)\n"
   ]
  },
  {
   "cell_type": "code",
   "execution_count": 6,
   "metadata": {
    "colab": {
     "base_uri": "https://localhost:8080/"
    },
    "id": "2W2VVlPjktwZ",
    "outputId": "7ef6d693-0b63-4e66-90b8-4f42000ebaab"
   },
   "outputs": [
    {
     "data": {
      "text/plain": [
       "CustomerID            object\n",
       "Count                  int64\n",
       "Country               object\n",
       "State                 object\n",
       "City                  object\n",
       "Zip Code               int64\n",
       "Lat Long              object\n",
       "Latitude             float64\n",
       "Longitude            float64\n",
       "Gender                object\n",
       "Senior Citizen        object\n",
       "Partner               object\n",
       "Dependents            object\n",
       "Tenure Months          int64\n",
       "Phone Service         object\n",
       "Multiple Lines        object\n",
       "Internet Service      object\n",
       "Online Security       object\n",
       "Online Backup         object\n",
       "Device Protection     object\n",
       "Tech Support          object\n",
       "Streaming TV          object\n",
       "Streaming Movies      object\n",
       "Contract              object\n",
       "Paperless Billing     object\n",
       "Payment Method        object\n",
       "Monthly Charges      float64\n",
       "Total Charges         object\n",
       "Churn Label           object\n",
       "Churn Value            int64\n",
       "Churn Reason          object\n",
       "dtype: object"
      ]
     },
     "execution_count": 6,
     "metadata": {},
     "output_type": "execute_result"
    }
   ],
   "source": [
    "# checking the data types\n",
    "churn.dtypes\n"
   ]
  },
  {
   "cell_type": "code",
   "execution_count": 7,
   "metadata": {
    "colab": {
     "base_uri": "https://localhost:8080/"
    },
    "id": "blPiu-ZGktwa",
    "outputId": "7fb40996-96e5-4cfc-db75-1db2e5294613"
   },
   "outputs": [
    {
     "data": {
      "text/plain": [
       "(7043, 31)"
      ]
     },
     "execution_count": 7,
     "metadata": {},
     "output_type": "execute_result"
    }
   ],
   "source": [
    "# checking the shape of the data\n",
    "churn.shape"
   ]
  },
  {
   "cell_type": "code",
   "execution_count": 8,
   "metadata": {
    "colab": {
     "base_uri": "https://localhost:8080/"
    },
    "id": "cVhsIe3rktwa",
    "outputId": "5110b5f8-e09e-413a-b7db-4d73d583dea9"
   },
   "outputs": [
    {
     "data": {
      "text/plain": [
       "array(['Competitor made better offer', 'Moved',\n",
       "       'Competitor had better devices',\n",
       "       'Competitor offered higher download speeds',\n",
       "       'Competitor offered more data', 'Price too high',\n",
       "       'Product dissatisfaction', 'Service dissatisfaction',\n",
       "       'Lack of self-service on Website', 'Network reliability',\n",
       "       'Limited range of services',\n",
       "       'Lack of affordable download/upload speed',\n",
       "       'Long distance charges', 'Extra data charges', \"Don't know\",\n",
       "       'Poor expertise of online support',\n",
       "       'Poor expertise of phone support', 'Attitude of service provider',\n",
       "       'Attitude of support person', 'Deceased', nan], dtype=object)"
      ]
     },
     "execution_count": 8,
     "metadata": {},
     "output_type": "execute_result"
    }
   ],
   "source": [
    "# to check the various reasons for churning\n",
    "churn['Churn Reason'].unique()\n"
   ]
  },
  {
   "cell_type": "code",
   "execution_count": 9,
   "metadata": {
    "colab": {
     "base_uri": "https://localhost:8080/"
    },
    "id": "4YqHSuoMktwa",
    "outputId": "109c5295-64aa-49ba-f4b1-b9c5b250cc0a"
   },
   "outputs": [
    {
     "name": "stdout",
     "output_type": "stream",
     "text": [
      "['Competitor made better offer' 'Moved' 'Competitor had better devices'\n",
      " 'Competitor offered higher download speeds'\n",
      " 'Competitor offered more data' 'Price too high' 'Product dissatisfaction'\n",
      " 'Service dissatisfaction' 'Lack of self-service on Website'\n",
      " 'Network reliability' 'Limited range of services'\n",
      " 'Lack of affordable download/upload speed' 'Long distance charges'\n",
      " 'Extra data charges' \"Don't know\" 'Poor expertise of online support'\n",
      " 'Poor expertise of phone support' 'Attitude of service provider'\n",
      " 'Attitude of support person' 'Deceased' nan]\n",
      "['Yes' 'No']\n",
      "['No' 'Yes' 'No phone service']\n",
      "['DSL' 'Fiber optic' 'No']\n",
      "['Yes' 'No' 'No internet service']\n",
      "['No' 'Yes' 'No internet service']\n",
      "['No' 'Yes' 'No internet service']\n",
      "['No' 'Yes' 'No internet service']\n",
      "['No' 'Yes' 'No internet service']\n",
      "['Month-to-month' 'Two year' 'One year']\n",
      "['Yes' 'No']\n",
      "['Mailed check' 'Electronic check' 'Bank transfer (automatic)'\n",
      " 'Credit card (automatic)']\n",
      "[ 53.85  70.7   99.65 ... 108.35  63.1   78.7 ]\n",
      "['108.15' '151.65' '820.5' ... '7362.9' '346.45' '6844.5']\n",
      "['Yes' 'No']\n",
      "[1 0]\n",
      "[ 2  8 28 49 10  1 47 17  5 34 11 15 18  9  7 12 25 68 55 37  3 27 20  4\n",
      " 58 53 13  6 19 59 16 52 24 32 38 54 43 63 21 69 22 61 60 48 40 23 39 35\n",
      " 56 65 33 30 45 46 62 70 50 44 71 26 14 41 66 64 29 42 67 51 31 57 36 72\n",
      "  0]\n",
      "[90003 90005 90006 ... 96128 96134 96146]\n"
     ]
    }
   ],
   "source": [
    "# printing the unique\n",
    "cols = ['Churn Reason','Phone Service', 'Multiple Lines', 'Internet Service', 'Online Backup','Device Protection', 'Tech Support', 'Streaming TV',\n",
    "        'Streaming Movies', 'Contract', 'Paperless Billing', 'Payment Method',\n",
    "        'Monthly Charges', 'Total Charges', 'Churn Label', 'Churn Value', 'Tenure Months','Zip Code']\n",
    "for col in cols:\n",
    "    print(churn[col].unique())"
   ]
  },
  {
   "cell_type": "code",
   "execution_count": 10,
   "metadata": {
    "id": "4FouTLnXKSAz"
   },
   "outputs": [],
   "source": [
    "# select the category columns\n",
    "category_columns = ['Dependents', 'Phone Service', 'Multiple Lines', 'Gender', 'Churn Reason',\n",
    "                      'Internet Service', 'Online Security', 'Online Backup',\n",
    "                    'Device Protection','Tech Support', 'Streaming TV', 'Streaming Movies']"
   ]
  },
  {
   "cell_type": "code",
   "execution_count": 11,
   "metadata": {
    "id": "H-xx3SWqd1dK"
   },
   "outputs": [],
   "source": [
    "# This is dataframe with all the people who have not yet churned\n",
    "df_churn = churn[churn['Churn Reason'].isnull()].copy()"
   ]
  },
  {
   "cell_type": "code",
   "execution_count": 12,
   "metadata": {},
   "outputs": [],
   "source": [
    "churn_backup = churn.copy()"
   ]
  },
  {
   "cell_type": "code",
   "execution_count": 13,
   "metadata": {},
   "outputs": [
    {
     "data": {
      "text/plain": [
       "(7043, 31)"
      ]
     },
     "execution_count": 13,
     "metadata": {},
     "output_type": "execute_result"
    }
   ],
   "source": [
    "churn_backup.shape"
   ]
  },
  {
   "cell_type": "code",
   "execution_count": 14,
   "metadata": {
    "id": "HfZV-B2ad1dL",
    "outputId": "c5c91c26-e199-457a-a850-3a2e1ea9942d"
   },
   "outputs": [
    {
     "data": {
      "text/plain": [
       "(5174, 31)"
      ]
     },
     "execution_count": 14,
     "metadata": {},
     "output_type": "execute_result"
    }
   ],
   "source": [
    "# shape of the df_churn\n",
    "df_churn.shape"
   ]
  },
  {
   "cell_type": "markdown",
   "metadata": {
    "id": "PI6dVvFcktwb"
   },
   "source": [
    "### EDA\n"
   ]
  },
  {
   "cell_type": "code",
   "execution_count": 15,
   "metadata": {
    "colab": {
     "base_uri": "https://localhost:8080/",
     "height": 1000
    },
    "id": "MUYpHYMMh0XW",
    "outputId": "34de8993-cff4-4453-cb07-79e44289fa0f"
   },
   "outputs": [
    {
     "data": {
      "image/png": "[encoded data removed]",
      "text/plain": [
       "<Figure size 432x288 with 1 Axes>"
      ]
     },
     "metadata": {
      "needs_background": "light"
     },
     "output_type": "display_data"
    },
    {
     "data": {
      "image/png": "[encoded data removed]",
      "text/plain": [
       "<Figure size 432x288 with 1 Axes>"
      ]
     },
     "metadata": {
      "needs_background": "light"
     },
     "output_type": "display_data"
    },
    {
     "data": {
      "image/png": "[encoded data removed]",
      "text/plain": [
       "<Figure size 432x288 with 1 Axes>"
      ]
     },
     "metadata": {
      "needs_background": "light"
     },
     "output_type": "display_data"
    },
    {
     "data": {
      "image/png": "[encoded data removed]",
      "text/plain": [
       "<Figure size 432x288 with 1 Axes>"
      ]
     },
     "metadata": {
      "needs_background": "light"
     },
     "output_type": "display_data"
    },
    {
     "data": {
      "image/png": "[encoded data removed]",
      "text/plain": [
       "<Figure size 432x288 with 1 Axes>"
      ]
     },
     "metadata": {
      "needs_background": "light"
     },
     "output_type": "display_data"
    },
    {
     "data": {
      "image/png": "[encoded data removed]",
      "text/plain": [
       "<Figure size 432x288 with 1 Axes>"
      ]
     },
     "metadata": {
      "needs_background": "light"
     },
     "output_type": "display_data"
    },
    {
     "data": {
      "image/png": "[encoded data removed]",
      "text/plain": [
       "<Figure size 432x288 with 1 Axes>"
      ]
     },
     "metadata": {
      "needs_background": "light"
     },
     "output_type": "display_data"
    },
    {
     "data": {
      "image/png": "[encoded data removed]",
      "text/plain": [
       "<Figure size 432x288 with 1 Axes>"
      ]
     },
     "metadata": {
      "needs_background": "light"
     },
     "output_type": "display_data"
    },
    {
     "data": {
      "image/png": "[encoded data removed]",
      "text/plain": [
       "<Figure size 432x288 with 1 Axes>"
      ]
     },
     "metadata": {
      "needs_background": "light"
     },
     "output_type": "display_data"
    },
    {
     "data": {
      "image/png": "[encoded data removed]",
      "text/plain": [
       "<Figure size 432x288 with 1 Axes>"
      ]
     },
     "metadata": {
      "needs_background": "light"
     },
     "output_type": "display_data"
    },
    {
     "data": {
      "image/png": "[encoded data removed]",
      "text/plain": [
       "<Figure size 432x288 with 1 Axes>"
      ]
     },
     "metadata": {
      "needs_background": "light"
     },
     "output_type": "display_data"
    },
    {
     "data": {
      "image/png": "[encoded data removed]",
      "text/plain": [
       "<Figure size 432x288 with 1 Axes>"
      ]
     },
     "metadata": {
      "needs_background": "light"
     },
     "output_type": "display_data"
    }
   ],
   "source": [
    "# generate the countplot\n",
    "for col in category_columns:\n",
    "    ax = sns.countplot(data=churn, x=col, orient = 'h')\n",
    "    if col == 'Churn Reason':\n",
    "        ax.set_xticklabels(ax.get_xticklabels(), rotation=45, ha=\"right\")\n",
    "    plt.tight_layout()\n",
    "    plt.show()"
   ]
  },
  {
   "cell_type": "code",
   "execution_count": 16,
   "metadata": {},
   "outputs": [
    {
     "data": {
      "text/html": [
       "<div>\n",
       "<style scoped>\n",
       "    .dataframe tbody tr th:only-of-type {\n",
       "        vertical-align: middle;\n",
       "    }\n",
       "\n",
       "    .dataframe tbody tr th {\n",
       "        vertical-align: top;\n",
       "    }\n",
       "\n",
       "    .dataframe thead th {\n",
       "        text-align: right;\n",
       "    }\n",
       "</style>\n",
       "<table border=\"1\" class=\"dataframe\">\n",
       "  <thead>\n",
       "    <tr style=\"text-align: right;\">\n",
       "      <th></th>\n",
       "      <th>CustomerID</th>\n",
       "      <th>Count</th>\n",
       "      <th>Country</th>\n",
       "      <th>State</th>\n",
       "      <th>City</th>\n",
       "      <th>Zip Code</th>\n",
       "      <th>Lat Long</th>\n",
       "      <th>Latitude</th>\n",
       "      <th>Longitude</th>\n",
       "      <th>Gender</th>\n",
       "      <th>...</th>\n",
       "      <th>Streaming TV</th>\n",
       "      <th>Streaming Movies</th>\n",
       "      <th>Contract</th>\n",
       "      <th>Paperless Billing</th>\n",
       "      <th>Payment Method</th>\n",
       "      <th>Monthly Charges</th>\n",
       "      <th>Total Charges</th>\n",
       "      <th>Churn Label</th>\n",
       "      <th>Churn Value</th>\n",
       "      <th>Churn Reason</th>\n",
       "    </tr>\n",
       "  </thead>\n",
       "  <tbody>\n",
       "    <tr>\n",
       "      <th>0</th>\n",
       "      <td>3668-QPYBK</td>\n",
       "      <td>1</td>\n",
       "      <td>United States</td>\n",
       "      <td>California</td>\n",
       "      <td>Los Angeles</td>\n",
       "      <td>90003</td>\n",
       "      <td>33.964131, -118.272783</td>\n",
       "      <td>33.964131</td>\n",
       "      <td>-118.272783</td>\n",
       "      <td>Male</td>\n",
       "      <td>...</td>\n",
       "      <td>No</td>\n",
       "      <td>No</td>\n",
       "      <td>Month-to-month</td>\n",
       "      <td>Yes</td>\n",
       "      <td>Mailed check</td>\n",
       "      <td>53.85</td>\n",
       "      <td>108.15</td>\n",
       "      <td>Yes</td>\n",
       "      <td>1</td>\n",
       "      <td>Competitor made better offer</td>\n",
       "    </tr>\n",
       "    <tr>\n",
       "      <th>1</th>\n",
       "      <td>9237-HQITU</td>\n",
       "      <td>1</td>\n",
       "      <td>United States</td>\n",
       "      <td>California</td>\n",
       "      <td>Los Angeles</td>\n",
       "      <td>90005</td>\n",
       "      <td>34.059281, -118.30742</td>\n",
       "      <td>34.059281</td>\n",
       "      <td>-118.307420</td>\n",
       "      <td>Female</td>\n",
       "      <td>...</td>\n",
       "      <td>No</td>\n",
       "      <td>No</td>\n",
       "      <td>Month-to-month</td>\n",
       "      <td>Yes</td>\n",
       "      <td>Electronic check</td>\n",
       "      <td>70.70</td>\n",
       "      <td>151.65</td>\n",
       "      <td>Yes</td>\n",
       "      <td>1</td>\n",
       "      <td>Moved</td>\n",
       "    </tr>\n",
       "    <tr>\n",
       "      <th>2</th>\n",
       "      <td>9305-CDSKC</td>\n",
       "      <td>1</td>\n",
       "      <td>United States</td>\n",
       "      <td>California</td>\n",
       "      <td>Los Angeles</td>\n",
       "      <td>90006</td>\n",
       "      <td>34.048013, -118.293953</td>\n",
       "      <td>34.048013</td>\n",
       "      <td>-118.293953</td>\n",
       "      <td>Female</td>\n",
       "      <td>...</td>\n",
       "      <td>Yes</td>\n",
       "      <td>Yes</td>\n",
       "      <td>Month-to-month</td>\n",
       "      <td>Yes</td>\n",
       "      <td>Electronic check</td>\n",
       "      <td>99.65</td>\n",
       "      <td>820.5</td>\n",
       "      <td>Yes</td>\n",
       "      <td>1</td>\n",
       "      <td>Moved</td>\n",
       "    </tr>\n",
       "    <tr>\n",
       "      <th>3</th>\n",
       "      <td>7892-POOKP</td>\n",
       "      <td>1</td>\n",
       "      <td>United States</td>\n",
       "      <td>California</td>\n",
       "      <td>Los Angeles</td>\n",
       "      <td>90010</td>\n",
       "      <td>34.062125, -118.315709</td>\n",
       "      <td>34.062125</td>\n",
       "      <td>-118.315709</td>\n",
       "      <td>Female</td>\n",
       "      <td>...</td>\n",
       "      <td>Yes</td>\n",
       "      <td>Yes</td>\n",
       "      <td>Month-to-month</td>\n",
       "      <td>Yes</td>\n",
       "      <td>Electronic check</td>\n",
       "      <td>104.80</td>\n",
       "      <td>3046.05</td>\n",
       "      <td>Yes</td>\n",
       "      <td>1</td>\n",
       "      <td>Moved</td>\n",
       "    </tr>\n",
       "    <tr>\n",
       "      <th>4</th>\n",
       "      <td>0280-XJGEX</td>\n",
       "      <td>1</td>\n",
       "      <td>United States</td>\n",
       "      <td>California</td>\n",
       "      <td>Los Angeles</td>\n",
       "      <td>90015</td>\n",
       "      <td>34.039224, -118.266293</td>\n",
       "      <td>34.039224</td>\n",
       "      <td>-118.266293</td>\n",
       "      <td>Male</td>\n",
       "      <td>...</td>\n",
       "      <td>Yes</td>\n",
       "      <td>Yes</td>\n",
       "      <td>Month-to-month</td>\n",
       "      <td>Yes</td>\n",
       "      <td>Bank transfer (automatic)</td>\n",
       "      <td>103.70</td>\n",
       "      <td>5036.3</td>\n",
       "      <td>Yes</td>\n",
       "      <td>1</td>\n",
       "      <td>Competitor had better devices</td>\n",
       "    </tr>\n",
       "  </tbody>\n",
       "</table>\n",
       "<p>5 rows × 31 columns</p>\n",
       "</div>"
      ],
      "text/plain": [
       "   CustomerID  Count        Country       State         City  Zip Code  \\\n",
       "0  3668-QPYBK      1  United States  California  Los Angeles     90003   \n",
       "1  9237-HQITU      1  United States  California  Los Angeles     90005   \n",
       "2  9305-CDSKC      1  United States  California  Los Angeles     90006   \n",
       "3  7892-POOKP      1  United States  California  Los Angeles     90010   \n",
       "4  0280-XJGEX      1  United States  California  Los Angeles     90015   \n",
       "\n",
       "                 Lat Long   Latitude   Longitude  Gender  ... Streaming TV  \\\n",
       "0  33.964131, -118.272783  33.964131 -118.272783    Male  ...           No   \n",
       "1   34.059281, -118.30742  34.059281 -118.307420  Female  ...           No   \n",
       "2  34.048013, -118.293953  34.048013 -118.293953  Female  ...          Yes   \n",
       "3  34.062125, -118.315709  34.062125 -118.315709  Female  ...          Yes   \n",
       "4  34.039224, -118.266293  34.039224 -118.266293    Male  ...          Yes   \n",
       "\n",
       "  Streaming Movies        Contract  Paperless Billing  \\\n",
       "0               No  Month-to-month                Yes   \n",
       "1               No  Month-to-month                Yes   \n",
       "2              Yes  Month-to-month                Yes   \n",
       "3              Yes  Month-to-month                Yes   \n",
       "4              Yes  Month-to-month                Yes   \n",
       "\n",
       "              Payment Method Monthly Charges Total Charges Churn Label  \\\n",
       "0               Mailed check           53.85        108.15         Yes   \n",
       "1           Electronic check           70.70        151.65         Yes   \n",
       "2           Electronic check           99.65         820.5         Yes   \n",
       "3           Electronic check          104.80       3046.05         Yes   \n",
       "4  Bank transfer (automatic)          103.70        5036.3         Yes   \n",
       "\n",
       "  Churn Value                   Churn Reason  \n",
       "0           1   Competitor made better offer  \n",
       "1           1                          Moved  \n",
       "2           1                          Moved  \n",
       "3           1                          Moved  \n",
       "4           1  Competitor had better devices  \n",
       "\n",
       "[5 rows x 31 columns]"
      ]
     },
     "execution_count": 16,
     "metadata": {},
     "output_type": "execute_result"
    }
   ],
   "source": [
    "# Define a new dataframe including only the customers who have churned\n",
    "churners = churn[churn[\"Churn Label\"] == \"Yes\"]\n",
    "churners.head()"
   ]
  },
  {
   "cell_type": "code",
   "execution_count": 115,
   "metadata": {},
   "outputs": [
    {
     "name": "stdout",
     "output_type": "stream",
     "text": [
      "Counts for churn dataframe:\n",
      "{'Partner': {'Yes': 3393, 'No': 3639}, 'Dependents': {'Yes': 1620, 'No': 5412}, 'Gender': {'Male': 3549, 'Female': 3483}, 'Senior Citizen': {'Yes': 1142, 'No': 5890}}\n",
      "Counts for churners dataframe:\n",
      "{'Partner': {'Yes': 669, 'No': 1200}, 'Dependents': {'Yes': 106, 'No': 1763}, 'Gender': {'Male': 930, 'Female': 939}, 'Senior Citizen': {'Yes': 476, 'No': 1393}}\n"
     ]
    }
   ],
   "source": [
    "def get_category_counts(dataframe):\n",
    "    # Partner column\n",
    "    No_count_partner = (dataframe['Partner'] == 'No').sum()\n",
    "    Yes_count_partner = (dataframe['Partner'] == 'Yes').sum()\n",
    "\n",
    "    # Dependents column\n",
    "    No_count_dependents = (dataframe['Dependents'] == 'No').sum()\n",
    "    Yes_count_dependents = (dataframe['Dependents'] == 'Yes').sum()\n",
    "\n",
    "    # Gender column\n",
    "    Male_count = (dataframe['Gender'] == 'Male').sum()\n",
    "    Female_count = (dataframe['Gender'] == 'Female').sum()\n",
    "\n",
    "    # Senior Citizen column\n",
    "    No_count_senior = (dataframe['Senior Citizen'] == 'No').sum()\n",
    "    Yes_count_senior = (dataframe['Senior Citizen'] == 'Yes').sum()\n",
    "\n",
    "    # Return counts\n",
    "    return {\n",
    "        'Partner': {'Yes': Yes_count_partner, 'No': No_count_partner},\n",
    "        'Dependents': {'Yes': Yes_count_dependents, 'No': No_count_dependents},\n",
    "        'Gender': {'Male': Male_count, 'Female': Female_count},\n",
    "        'Senior Citizen': {'Yes': Yes_count_senior, 'No': No_count_senior}\n",
    "    }\n",
    "\n",
    "# Example usage\n",
    "churn_counts = get_category_counts(churn)\n",
    "print(\"Counts for churn dataframe:\")\n",
    "print(churn_counts)\n",
    "\n",
    "churners_counts = get_category_counts(churners)\n",
    "print(\"Counts for churners dataframe:\")\n",
    "print(churners_counts)\n"
   ]
  },
  {
   "cell_type": "code",
   "execution_count": 18,
   "metadata": {},
   "outputs": [
    {
     "data": {
      "image/png": "[encoded data removed]",
      "text/plain": [
       "<Figure size 432x288 with 1 Axes>"
      ]
     },
     "metadata": {
      "needs_background": "light"
     },
     "output_type": "display_data"
    }
   ],
   "source": [
    "# Gender distribution of churners\n",
    "sns.set_palette([\"#F08010\", \"#F08090\"])\n",
    "\n",
    "# Plot gender distribution of churners\n",
    "sns.countplot(x=\"Gender\", data=churners)\n",
    "\n",
    "# Add title\n",
    "plt.title(\"Gender Distribution of Customers who Churned\", fontweight=\"bold\", fontsize = 13)\n",
    "\n",
    "# Show plot\n",
    "plt.show()"
   ]
  },
  {
   "cell_type": "code",
   "execution_count": 19,
   "metadata": {
    "colab": {
     "base_uri": "https://localhost:8080/",
     "height": 295
    },
    "id": "hGnJ_FZKktwc",
    "outputId": "e3311e65-5668-494f-949d-2e7dc5013475"
   },
   "outputs": [
    {
     "data": {
      "image/png": "[encoded data removed]",
      "text/plain": [
       "<Figure size 432x288 with 1 Axes>"
      ]
     },
     "metadata": {
      "needs_background": "light"
     },
     "output_type": "display_data"
    }
   ],
   "source": [
    "# Gender distribution of customers\n",
    "sns.set_palette([\"#78C850\", \"#F08030\"])\n",
    "\n",
    "# Plot gender distribution of customers\n",
    "sns.countplot(x=\"Gender\", hue=\"Churn Label\", data=churn)\n",
    "\n",
    "# Add title\n",
    "plt.title(\"Gender Distribution of Customers\", fontweight=\"bold\")\n",
    "\n",
    "# Show plot\n",
    "plt.show()"
   ]
  },
  {
   "cell_type": "code",
   "execution_count": 20,
   "metadata": {},
   "outputs": [
    {
     "data": {
      "image/png": "[encoded data removed]",
      "text/plain": [
       "<Figure size 432x288 with 1 Axes>"
      ]
     },
     "metadata": {
      "needs_background": "light"
     },
     "output_type": "display_data"
    }
   ],
   "source": [
    "# Gender distribution of customers\n",
    "sns.set_palette([\"#78C850\", \"#F08030\"])\n",
    "\n",
    "# Plot gender distribution of customers\n",
    "sns.countplot(x=\"Senior Citizen\", hue=\"Churn Label\", data=churn)\n",
    "\n",
    "# Add title\n",
    "plt.title(\"Age Distribution of Customers\", fontweight=\"bold\")\n",
    "\n",
    "# Show plot\n",
    "plt.show()"
   ]
  },
  {
   "cell_type": "code",
   "execution_count": 21,
   "metadata": {
    "colab": {
     "base_uri": "https://localhost:8080/",
     "height": 298
    },
    "id": "reZTpYvaktwc",
    "outputId": "d160dfbe-db57-490a-fb10-04ecc0169933"
   },
   "outputs": [
    {
     "data": {
      "image/png": "[encoded data removed]",
      "text/plain": [
       "<Figure size 432x288 with 1 Axes>"
      ]
     },
     "metadata": {
      "needs_background": "light"
     },
     "output_type": "display_data"
    }
   ],
   "source": [
    "\n",
    "# Age distribution of customers\n",
    "age_summary = churners[\"Senior Citizen\"].value_counts()\n",
    "\n",
    "# Create a bar plot with custom colors\n",
    "sns.barplot(y=age_summary.index, x=age_summary.values, palette=[\"tab:blue\", \"tab:red\"])\n",
    "\n",
    "# Add a title and axis labels\n",
    "plt.title(\"Age Distribution of Customers who Churned\", fontweight=\"bold\")\n",
    "plt.xlabel(\"Total numbers\", fontsize=12, fontweight=\"bold\")\n",
    "plt.ylabel(\"Senior Citizen\", fontsize=12, fontweight=\"bold\")\n",
    "\n",
    "plt.show()\n"
   ]
  },
  {
   "cell_type": "code",
   "execution_count": 22,
   "metadata": {},
   "outputs": [
    {
     "data": {
      "image/png": "[encoded data removed]",
      "text/plain": [
       "<Figure size 432x288 with 1 Axes>"
      ]
     },
     "metadata": {
      "needs_background": "light"
     },
     "output_type": "display_data"
    }
   ],
   "source": [
    "# Family makeup of customers:\n",
    "dependents_summary = churn[\"Dependents\"].value_counts()\n",
    "partner_summary = churn[\"Partner\"].value_counts()\n",
    "\n",
    "fig, ax = plt.subplots()\n",
    "ax.bar(dependents_summary.index, dependents_summary.values, label=\"Dependents\", color=\"blue\")\n",
    "ax.bar(partner_summary.index, partner_summary.values, bottom=dependents_summary.values, label=\"Partner\", color=\"orange\")\n",
    "ax.set_title(\"Family makeup of Customers\",fontweight=\"bold\")\n",
    "ax.set_xlabel(\"Status\",fontweight=\"bold\")\n",
    "ax.set_ylabel(\"Total Count\",fontweight=\"bold\")\n",
    "ax.legend()\n",
    "plt.show()"
   ]
  },
  {
   "cell_type": "code",
   "execution_count": 23,
   "metadata": {
    "colab": {
     "base_uri": "https://localhost:8080/",
     "height": 295
    },
    "id": "F8xNDdKPktwd",
    "outputId": "fba40457-4ec4-4adf-fbae-312a04e94980"
   },
   "outputs": [
    {
     "data": {
      "image/png": "[encoded data removed]",
      "text/plain": [
       "<Figure size 432x288 with 1 Axes>"
      ]
     },
     "metadata": {
      "needs_background": "light"
     },
     "output_type": "display_data"
    }
   ],
   "source": [
    "# Family makeup of churners:\n",
    "dependents_summary = churners[\"Dependents\"].value_counts()\n",
    "partner_summary = churners[\"Partner\"].value_counts()\n",
    "\n",
    "fig, ax = plt.subplots()\n",
    "ax.bar(dependents_summary.index, dependents_summary.values, label=\"Dependents\", color=\"blue\")\n",
    "ax.bar(partner_summary.index, partner_summary.values, bottom=dependents_summary.values, label=\"Partner\", color=\"orange\")\n",
    "ax.set_title(\"Family makeup of Churners\",fontweight=\"bold\")\n",
    "ax.set_xlabel(\"Status\",fontweight=\"bold\")\n",
    "ax.set_ylabel(\"Total Count\",fontweight=\"bold\")\n",
    "ax.legend()\n",
    "plt.show()\n"
   ]
  },
  {
   "cell_type": "code",
   "execution_count": 24,
   "metadata": {
    "colab": {
     "base_uri": "https://localhost:8080/",
     "height": 441
    },
    "id": "S1Dnr19rktwd",
    "outputId": "8febee05-636d-4242-d877-5569e727d127"
   },
   "outputs": [
    {
     "data": {
      "image/png": "[encoded data removed]",
      "text/plain": [
       "<Figure size 720x432 with 1 Axes>"
      ]
     },
     "metadata": {
      "needs_background": "light"
     },
     "output_type": "display_data"
    }
   ],
   "source": [
    "# Products used by the Customers\n",
    "products = ['Phone Service', 'Multiple Lines', 'Internet Service', 'Online Security', 'Online Backup', 'Device Protection', 'Tech Support', 'Streaming TV', 'Streaming Movies']\n",
    "product_counts = [churn[churn[product] == 'Yes'].shape[0] for product in products]\n",
    "\n",
    "plt.figure(figsize=(10, 6))\n",
    "plt.bar(products, product_counts, color=['#FF5733', '#FFC300', '#DAF7A6', '#C70039', '#900C3F', '#581845', '#F6511D', '#7C0A02', '#7D3C98'])\n",
    "plt.xticks(rotation=45, ha='right')\n",
    "plt.xlabel('Product',fontweight=\"bold\")\n",
    "plt.ylabel('Number of Customers')\n",
    "plt.title('Products Used by Customers',fontweight=\"bold\")\n",
    "plt.tight_layout()\n",
    "plt.show()\n"
   ]
  },
  {
   "cell_type": "markdown",
   "metadata": {
    "id": "1ZwSa_c4ktwe"
   },
   "source": []
  },
  {
   "cell_type": "code",
   "execution_count": 25,
   "metadata": {},
   "outputs": [
    {
     "data": {
      "text/html": [
       "<div>\n",
       "<style scoped>\n",
       "    .dataframe tbody tr th:only-of-type {\n",
       "        vertical-align: middle;\n",
       "    }\n",
       "\n",
       "    .dataframe tbody tr th {\n",
       "        vertical-align: top;\n",
       "    }\n",
       "\n",
       "    .dataframe thead th {\n",
       "        text-align: right;\n",
       "    }\n",
       "</style>\n",
       "<table border=\"1\" class=\"dataframe\">\n",
       "  <thead>\n",
       "    <tr style=\"text-align: right;\">\n",
       "      <th></th>\n",
       "      <th>CustomerID</th>\n",
       "      <th>Count</th>\n",
       "      <th>Country</th>\n",
       "      <th>State</th>\n",
       "      <th>City</th>\n",
       "      <th>Zip Code</th>\n",
       "      <th>Lat Long</th>\n",
       "      <th>Latitude</th>\n",
       "      <th>Longitude</th>\n",
       "      <th>Gender</th>\n",
       "      <th>...</th>\n",
       "      <th>Streaming TV</th>\n",
       "      <th>Streaming Movies</th>\n",
       "      <th>Contract</th>\n",
       "      <th>Paperless Billing</th>\n",
       "      <th>Payment Method</th>\n",
       "      <th>Monthly Charges</th>\n",
       "      <th>Total Charges</th>\n",
       "      <th>Churn Label</th>\n",
       "      <th>Churn Value</th>\n",
       "      <th>Churn Reason</th>\n",
       "    </tr>\n",
       "  </thead>\n",
       "  <tbody>\n",
       "    <tr>\n",
       "      <th>0</th>\n",
       "      <td>3668-QPYBK</td>\n",
       "      <td>1</td>\n",
       "      <td>United States</td>\n",
       "      <td>California</td>\n",
       "      <td>Los Angeles</td>\n",
       "      <td>90003</td>\n",
       "      <td>33.964131, -118.272783</td>\n",
       "      <td>33.964131</td>\n",
       "      <td>-118.272783</td>\n",
       "      <td>Male</td>\n",
       "      <td>...</td>\n",
       "      <td>No</td>\n",
       "      <td>No</td>\n",
       "      <td>Month-to-month</td>\n",
       "      <td>Yes</td>\n",
       "      <td>Mailed check</td>\n",
       "      <td>53.85</td>\n",
       "      <td>108.15</td>\n",
       "      <td>Yes</td>\n",
       "      <td>1</td>\n",
       "      <td>Competitor made better offer</td>\n",
       "    </tr>\n",
       "    <tr>\n",
       "      <th>1</th>\n",
       "      <td>9237-HQITU</td>\n",
       "      <td>1</td>\n",
       "      <td>United States</td>\n",
       "      <td>California</td>\n",
       "      <td>Los Angeles</td>\n",
       "      <td>90005</td>\n",
       "      <td>34.059281, -118.30742</td>\n",
       "      <td>34.059281</td>\n",
       "      <td>-118.307420</td>\n",
       "      <td>Female</td>\n",
       "      <td>...</td>\n",
       "      <td>No</td>\n",
       "      <td>No</td>\n",
       "      <td>Month-to-month</td>\n",
       "      <td>Yes</td>\n",
       "      <td>Electronic check</td>\n",
       "      <td>70.70</td>\n",
       "      <td>151.65</td>\n",
       "      <td>Yes</td>\n",
       "      <td>1</td>\n",
       "      <td>Moved</td>\n",
       "    </tr>\n",
       "    <tr>\n",
       "      <th>2</th>\n",
       "      <td>9305-CDSKC</td>\n",
       "      <td>1</td>\n",
       "      <td>United States</td>\n",
       "      <td>California</td>\n",
       "      <td>Los Angeles</td>\n",
       "      <td>90006</td>\n",
       "      <td>34.048013, -118.293953</td>\n",
       "      <td>34.048013</td>\n",
       "      <td>-118.293953</td>\n",
       "      <td>Female</td>\n",
       "      <td>...</td>\n",
       "      <td>Yes</td>\n",
       "      <td>Yes</td>\n",
       "      <td>Month-to-month</td>\n",
       "      <td>Yes</td>\n",
       "      <td>Electronic check</td>\n",
       "      <td>99.65</td>\n",
       "      <td>820.5</td>\n",
       "      <td>Yes</td>\n",
       "      <td>1</td>\n",
       "      <td>Moved</td>\n",
       "    </tr>\n",
       "    <tr>\n",
       "      <th>3</th>\n",
       "      <td>7892-POOKP</td>\n",
       "      <td>1</td>\n",
       "      <td>United States</td>\n",
       "      <td>California</td>\n",
       "      <td>Los Angeles</td>\n",
       "      <td>90010</td>\n",
       "      <td>34.062125, -118.315709</td>\n",
       "      <td>34.062125</td>\n",
       "      <td>-118.315709</td>\n",
       "      <td>Female</td>\n",
       "      <td>...</td>\n",
       "      <td>Yes</td>\n",
       "      <td>Yes</td>\n",
       "      <td>Month-to-month</td>\n",
       "      <td>Yes</td>\n",
       "      <td>Electronic check</td>\n",
       "      <td>104.80</td>\n",
       "      <td>3046.05</td>\n",
       "      <td>Yes</td>\n",
       "      <td>1</td>\n",
       "      <td>Moved</td>\n",
       "    </tr>\n",
       "    <tr>\n",
       "      <th>4</th>\n",
       "      <td>0280-XJGEX</td>\n",
       "      <td>1</td>\n",
       "      <td>United States</td>\n",
       "      <td>California</td>\n",
       "      <td>Los Angeles</td>\n",
       "      <td>90015</td>\n",
       "      <td>34.039224, -118.266293</td>\n",
       "      <td>34.039224</td>\n",
       "      <td>-118.266293</td>\n",
       "      <td>Male</td>\n",
       "      <td>...</td>\n",
       "      <td>Yes</td>\n",
       "      <td>Yes</td>\n",
       "      <td>Month-to-month</td>\n",
       "      <td>Yes</td>\n",
       "      <td>Bank transfer (automatic)</td>\n",
       "      <td>103.70</td>\n",
       "      <td>5036.3</td>\n",
       "      <td>Yes</td>\n",
       "      <td>1</td>\n",
       "      <td>Competitor had better devices</td>\n",
       "    </tr>\n",
       "  </tbody>\n",
       "</table>\n",
       "<p>5 rows × 31 columns</p>\n",
       "</div>"
      ],
      "text/plain": [
       "   CustomerID  Count        Country       State         City  Zip Code  \\\n",
       "0  3668-QPYBK      1  United States  California  Los Angeles     90003   \n",
       "1  9237-HQITU      1  United States  California  Los Angeles     90005   \n",
       "2  9305-CDSKC      1  United States  California  Los Angeles     90006   \n",
       "3  7892-POOKP      1  United States  California  Los Angeles     90010   \n",
       "4  0280-XJGEX      1  United States  California  Los Angeles     90015   \n",
       "\n",
       "                 Lat Long   Latitude   Longitude  Gender  ... Streaming TV  \\\n",
       "0  33.964131, -118.272783  33.964131 -118.272783    Male  ...           No   \n",
       "1   34.059281, -118.30742  34.059281 -118.307420  Female  ...           No   \n",
       "2  34.048013, -118.293953  34.048013 -118.293953  Female  ...          Yes   \n",
       "3  34.062125, -118.315709  34.062125 -118.315709  Female  ...          Yes   \n",
       "4  34.039224, -118.266293  34.039224 -118.266293    Male  ...          Yes   \n",
       "\n",
       "  Streaming Movies        Contract  Paperless Billing  \\\n",
       "0               No  Month-to-month                Yes   \n",
       "1               No  Month-to-month                Yes   \n",
       "2              Yes  Month-to-month                Yes   \n",
       "3              Yes  Month-to-month                Yes   \n",
       "4              Yes  Month-to-month                Yes   \n",
       "\n",
       "              Payment Method Monthly Charges Total Charges Churn Label  \\\n",
       "0               Mailed check           53.85        108.15         Yes   \n",
       "1           Electronic check           70.70        151.65         Yes   \n",
       "2           Electronic check           99.65         820.5         Yes   \n",
       "3           Electronic check          104.80       3046.05         Yes   \n",
       "4  Bank transfer (automatic)          103.70        5036.3         Yes   \n",
       "\n",
       "  Churn Value                   Churn Reason  \n",
       "0           1   Competitor made better offer  \n",
       "1           1                          Moved  \n",
       "2           1                          Moved  \n",
       "3           1                          Moved  \n",
       "4           1  Competitor had better devices  \n",
       "\n",
       "[5 rows x 31 columns]"
      ]
     },
     "execution_count": 25,
     "metadata": {},
     "output_type": "execute_result"
    }
   ],
   "source": [
    "churn.head()"
   ]
  },
  {
   "cell_type": "code",
   "execution_count": 26,
   "metadata": {},
   "outputs": [
    {
     "data": {
      "image/png": "[encoded data removed]",
      "text/plain": [
       "<Figure size 720x432 with 1 Axes>"
      ]
     },
     "metadata": {
      "needs_background": "light"
     },
     "output_type": "display_data"
    }
   ],
   "source": [
    "# Products used by the Churners\n",
    "products = ['Phone Service', 'Multiple Lines', 'Internet Service', 'Online Security', 'Online Backup', 'Device Protection', 'Tech Support', 'Streaming TV', 'Streaming Movies']\n",
    "product_counts = [churners[churners[product] == 'Yes'].shape[0] for product in products]\n",
    "\n",
    "plt.figure(figsize=(10, 6))\n",
    "plt.bar(products, product_counts, color=['#FF5733', '#FFC300', '#DAF7A6', '#C70039', '#900C3F', '#581845', '#F6511D', '#7C0A02', '#7D3C98'])\n",
    "plt.xticks(rotation=45, ha='right')\n",
    "plt.xlabel('Product',fontweight=\"bold\")\n",
    "plt.ylabel('Number of Churners')\n",
    "plt.title('Products Used by Churners',fontweight=\"bold\")\n",
    "plt.tight_layout()\n",
    "plt.show()\n"
   ]
  },
  {
   "cell_type": "code",
   "execution_count": 27,
   "metadata": {
    "colab": {
     "base_uri": "https://localhost:8080/",
     "height": 441
    },
    "id": "bC59zWgHktwe",
    "outputId": "169f6bf2-c4f9-4494-e87a-69ece7572a09"
   },
   "outputs": [
    {
     "data": {
      "image/png": "[encoded data removed]",
      "text/plain": [
       "<Figure size 576x432 with 1 Axes>"
      ]
     },
     "metadata": {},
     "output_type": "display_data"
    }
   ],
   "source": [
    "### To find the various churn reasons for customers, we plot one graph\n",
    "# Churn Reasons\n",
    "\n",
    "sns.set_style(\"whitegrid\")\n",
    "\n",
    "fig, ax = plt.subplots(figsize=(8, 6))\n",
    "\n",
    "sns.countplot(y=\"Churn Reason\", data=churners, order=churners[\"Churn Reason\"].value_counts().index, ax=ax)\n",
    "\n",
    "ax.set_xlabel(\"Count\")\n",
    "ax.set_ylabel(\"Churn Reason\")\n",
    "ax.set_title(\"Reasons for Churning\", fontweight=\"bold\", fontsize=13)\n",
    "\n",
    "plt.tight_layout()\n",
    "plt.show()\n"
   ]
  },
  {
   "cell_type": "code",
   "execution_count": 28,
   "metadata": {
    "id": "xALwTE92d1dO"
   },
   "outputs": [],
   "source": [
    "# drop the churn column\n",
    "churn.drop(columns = [ 'Count'], inplace = True)"
   ]
  },
  {
   "cell_type": "code",
   "execution_count": 29,
   "metadata": {
    "colab": {
     "base_uri": "https://localhost:8080/",
     "height": 581
    },
    "id": "7iyabII6ktwf",
    "outputId": "1086e0ca-aa13-4a99-ca97-55235bec2fd5"
   },
   "outputs": [
    {
     "data": {
      "image/png": "[encoded data removed]",
      "text/plain": [
       "<Figure size 1080x720 with 2 Axes>"
      ]
     },
     "metadata": {},
     "output_type": "display_data"
    }
   ],
   "source": [
    "#using correlation matrix\n",
    "# plotting correlation matrix\n",
    "corr_mat = churn.corr()\n",
    "fig = plt.figure(figsize=(15,10))\n",
    "plt.title(\"Correlation Matrix\", fontsize=20,fontweight=\"bold\")\n",
    "sns.heatmap(corr_mat,annot=True,cmap = 'coolwarm' ,fmt=\"2g\")\n",
    "plt.show()\n"
   ]
  },
  {
   "cell_type": "markdown",
   "metadata": {
    "id": "_OBtphNxktwg"
   },
   "source": [
    "### Data Cleaning"
   ]
  },
  {
   "cell_type": "code",
   "execution_count": 30,
   "metadata": {
    "id": "NE3DeZ8Cktwh"
   },
   "outputs": [],
   "source": [
    "# converting to numeric values\n",
    "churn['Total Charges'] = pd.to_numeric(churn['Total Charges'], errors='coerce')\n"
   ]
  },
  {
   "cell_type": "code",
   "execution_count": 31,
   "metadata": {
    "id": "gJHk8Mc4ktwh"
   },
   "outputs": [],
   "source": [
    "# To fill the null values for customers who did not churn yet\n",
    "churn['Churn Reason'] = churn['Churn Reason'].fillna('Not Churned')\n"
   ]
  },
  {
   "cell_type": "code",
   "execution_count": 32,
   "metadata": {
    "colab": {
     "base_uri": "https://localhost:8080/"
    },
    "id": "ssXFKXnWktwh",
    "outputId": "8ba76c93-6624-4f77-e8e0-729ef4ba52de"
   },
   "outputs": [
    {
     "data": {
      "text/plain": [
       "CustomerID            0\n",
       "Country               0\n",
       "State                 0\n",
       "City                  0\n",
       "Zip Code              0\n",
       "Lat Long              0\n",
       "Latitude              0\n",
       "Longitude             0\n",
       "Gender                0\n",
       "Senior Citizen        0\n",
       "Partner               0\n",
       "Dependents            0\n",
       "Tenure Months         0\n",
       "Phone Service         0\n",
       "Multiple Lines        0\n",
       "Internet Service      0\n",
       "Online Security       0\n",
       "Online Backup         0\n",
       "Device Protection     0\n",
       "Tech Support          0\n",
       "Streaming TV          0\n",
       "Streaming Movies      0\n",
       "Contract              0\n",
       "Paperless Billing     0\n",
       "Payment Method        0\n",
       "Monthly Charges       0\n",
       "Total Charges        11\n",
       "Churn Label           0\n",
       "Churn Value           0\n",
       "Churn Reason          0\n",
       "dtype: int64"
      ]
     },
     "execution_count": 32,
     "metadata": {},
     "output_type": "execute_result"
    }
   ],
   "source": [
    "# checking for the missing values\n",
    "churn.isnull().sum()"
   ]
  },
  {
   "cell_type": "code",
   "execution_count": 33,
   "metadata": {
    "id": "NXWv8cAgqd5x"
   },
   "outputs": [],
   "source": [
    "# drop the total charges column\n",
    "churn.dropna(axis = 0, subset = ['Total Charges'], inplace=True)"
   ]
  },
  {
   "cell_type": "code",
   "execution_count": 34,
   "metadata": {
    "colab": {
     "base_uri": "https://localhost:8080/",
     "height": 800
    },
    "id": "dgFVa2F6ktwi",
    "outputId": "213eefe0-64f7-4f03-eef6-ed2af8816bf4"
   },
   "outputs": [
    {
     "data": {
      "text/html": [
       "<div>\n",
       "<style scoped>\n",
       "    .dataframe tbody tr th:only-of-type {\n",
       "        vertical-align: middle;\n",
       "    }\n",
       "\n",
       "    .dataframe tbody tr th {\n",
       "        vertical-align: top;\n",
       "    }\n",
       "\n",
       "    .dataframe thead th {\n",
       "        text-align: right;\n",
       "    }\n",
       "</style>\n",
       "<table border=\"1\" class=\"dataframe\">\n",
       "  <thead>\n",
       "    <tr style=\"text-align: right;\">\n",
       "      <th></th>\n",
       "      <th>CustomerID</th>\n",
       "      <th>Country</th>\n",
       "      <th>State</th>\n",
       "      <th>City</th>\n",
       "      <th>Zip Code</th>\n",
       "      <th>Lat Long</th>\n",
       "      <th>Latitude</th>\n",
       "      <th>Longitude</th>\n",
       "      <th>Gender</th>\n",
       "      <th>Senior Citizen</th>\n",
       "      <th>...</th>\n",
       "      <th>Streaming Movies</th>\n",
       "      <th>Contract</th>\n",
       "      <th>Paperless Billing</th>\n",
       "      <th>Payment Method</th>\n",
       "      <th>Monthly Charges</th>\n",
       "      <th>Total Charges</th>\n",
       "      <th>Churn Label</th>\n",
       "      <th>Churn Value</th>\n",
       "      <th>Churn Reason</th>\n",
       "      <th>churn_category</th>\n",
       "    </tr>\n",
       "  </thead>\n",
       "  <tbody>\n",
       "    <tr>\n",
       "      <th>0</th>\n",
       "      <td>3668-QPYBK</td>\n",
       "      <td>United States</td>\n",
       "      <td>California</td>\n",
       "      <td>Los Angeles</td>\n",
       "      <td>90003</td>\n",
       "      <td>33.964131, -118.272783</td>\n",
       "      <td>33.964131</td>\n",
       "      <td>-118.272783</td>\n",
       "      <td>Male</td>\n",
       "      <td>No</td>\n",
       "      <td>...</td>\n",
       "      <td>No</td>\n",
       "      <td>Month-to-month</td>\n",
       "      <td>Yes</td>\n",
       "      <td>Mailed check</td>\n",
       "      <td>53.85</td>\n",
       "      <td>108.15</td>\n",
       "      <td>Yes</td>\n",
       "      <td>1</td>\n",
       "      <td>Competitor made better offer</td>\n",
       "      <td>Low Churning City</td>\n",
       "    </tr>\n",
       "    <tr>\n",
       "      <th>1</th>\n",
       "      <td>9237-HQITU</td>\n",
       "      <td>United States</td>\n",
       "      <td>California</td>\n",
       "      <td>Los Angeles</td>\n",
       "      <td>90005</td>\n",
       "      <td>34.059281, -118.30742</td>\n",
       "      <td>34.059281</td>\n",
       "      <td>-118.307420</td>\n",
       "      <td>Female</td>\n",
       "      <td>No</td>\n",
       "      <td>...</td>\n",
       "      <td>No</td>\n",
       "      <td>Month-to-month</td>\n",
       "      <td>Yes</td>\n",
       "      <td>Electronic check</td>\n",
       "      <td>70.70</td>\n",
       "      <td>151.65</td>\n",
       "      <td>Yes</td>\n",
       "      <td>1</td>\n",
       "      <td>Moved</td>\n",
       "      <td>Low Churning City</td>\n",
       "    </tr>\n",
       "    <tr>\n",
       "      <th>2</th>\n",
       "      <td>9305-CDSKC</td>\n",
       "      <td>United States</td>\n",
       "      <td>California</td>\n",
       "      <td>Los Angeles</td>\n",
       "      <td>90006</td>\n",
       "      <td>34.048013, -118.293953</td>\n",
       "      <td>34.048013</td>\n",
       "      <td>-118.293953</td>\n",
       "      <td>Female</td>\n",
       "      <td>No</td>\n",
       "      <td>...</td>\n",
       "      <td>Yes</td>\n",
       "      <td>Month-to-month</td>\n",
       "      <td>Yes</td>\n",
       "      <td>Electronic check</td>\n",
       "      <td>99.65</td>\n",
       "      <td>820.50</td>\n",
       "      <td>Yes</td>\n",
       "      <td>1</td>\n",
       "      <td>Moved</td>\n",
       "      <td>Low Churning City</td>\n",
       "    </tr>\n",
       "    <tr>\n",
       "      <th>3</th>\n",
       "      <td>7892-POOKP</td>\n",
       "      <td>United States</td>\n",
       "      <td>California</td>\n",
       "      <td>Los Angeles</td>\n",
       "      <td>90010</td>\n",
       "      <td>34.062125, -118.315709</td>\n",
       "      <td>34.062125</td>\n",
       "      <td>-118.315709</td>\n",
       "      <td>Female</td>\n",
       "      <td>No</td>\n",
       "      <td>...</td>\n",
       "      <td>Yes</td>\n",
       "      <td>Month-to-month</td>\n",
       "      <td>Yes</td>\n",
       "      <td>Electronic check</td>\n",
       "      <td>104.80</td>\n",
       "      <td>3046.05</td>\n",
       "      <td>Yes</td>\n",
       "      <td>1</td>\n",
       "      <td>Moved</td>\n",
       "      <td>Low Churning City</td>\n",
       "    </tr>\n",
       "    <tr>\n",
       "      <th>4</th>\n",
       "      <td>0280-XJGEX</td>\n",
       "      <td>United States</td>\n",
       "      <td>California</td>\n",
       "      <td>Los Angeles</td>\n",
       "      <td>90015</td>\n",
       "      <td>34.039224, -118.266293</td>\n",
       "      <td>34.039224</td>\n",
       "      <td>-118.266293</td>\n",
       "      <td>Male</td>\n",
       "      <td>No</td>\n",
       "      <td>...</td>\n",
       "      <td>Yes</td>\n",
       "      <td>Month-to-month</td>\n",
       "      <td>Yes</td>\n",
       "      <td>Bank transfer (automatic)</td>\n",
       "      <td>103.70</td>\n",
       "      <td>5036.30</td>\n",
       "      <td>Yes</td>\n",
       "      <td>1</td>\n",
       "      <td>Competitor had better devices</td>\n",
       "      <td>Low Churning City</td>\n",
       "    </tr>\n",
       "    <tr>\n",
       "      <th>...</th>\n",
       "      <td>...</td>\n",
       "      <td>...</td>\n",
       "      <td>...</td>\n",
       "      <td>...</td>\n",
       "      <td>...</td>\n",
       "      <td>...</td>\n",
       "      <td>...</td>\n",
       "      <td>...</td>\n",
       "      <td>...</td>\n",
       "      <td>...</td>\n",
       "      <td>...</td>\n",
       "      <td>...</td>\n",
       "      <td>...</td>\n",
       "      <td>...</td>\n",
       "      <td>...</td>\n",
       "      <td>...</td>\n",
       "      <td>...</td>\n",
       "      <td>...</td>\n",
       "      <td>...</td>\n",
       "      <td>...</td>\n",
       "      <td>...</td>\n",
       "    </tr>\n",
       "    <tr>\n",
       "      <th>195</th>\n",
       "      <td>0691-IFBQW</td>\n",
       "      <td>United States</td>\n",
       "      <td>California</td>\n",
       "      <td>Biola</td>\n",
       "      <td>93606</td>\n",
       "      <td>36.798882, -120.019511</td>\n",
       "      <td>36.798882</td>\n",
       "      <td>-120.019511</td>\n",
       "      <td>Female</td>\n",
       "      <td>Yes</td>\n",
       "      <td>...</td>\n",
       "      <td>Yes</td>\n",
       "      <td>One year</td>\n",
       "      <td>Yes</td>\n",
       "      <td>Electronic check</td>\n",
       "      <td>110.00</td>\n",
       "      <td>4874.80</td>\n",
       "      <td>Yes</td>\n",
       "      <td>1</td>\n",
       "      <td>Competitor made better offer</td>\n",
       "      <td>High Churning City</td>\n",
       "    </tr>\n",
       "    <tr>\n",
       "      <th>196</th>\n",
       "      <td>3009-JWMPU</td>\n",
       "      <td>United States</td>\n",
       "      <td>California</td>\n",
       "      <td>Five Points</td>\n",
       "      <td>93624</td>\n",
       "      <td>36.397745, -120.119911</td>\n",
       "      <td>36.397745</td>\n",
       "      <td>-120.119911</td>\n",
       "      <td>Male</td>\n",
       "      <td>No</td>\n",
       "      <td>...</td>\n",
       "      <td>Yes</td>\n",
       "      <td>One year</td>\n",
       "      <td>Yes</td>\n",
       "      <td>Electronic check</td>\n",
       "      <td>96.75</td>\n",
       "      <td>6125.40</td>\n",
       "      <td>Yes</td>\n",
       "      <td>1</td>\n",
       "      <td>Attitude of service provider</td>\n",
       "      <td>High Churning City</td>\n",
       "    </tr>\n",
       "    <tr>\n",
       "      <th>197</th>\n",
       "      <td>1450-GALXR</td>\n",
       "      <td>United States</td>\n",
       "      <td>California</td>\n",
       "      <td>Friant</td>\n",
       "      <td>93626</td>\n",
       "      <td>37.027663, -119.69056</td>\n",
       "      <td>37.027663</td>\n",
       "      <td>-119.690560</td>\n",
       "      <td>Female</td>\n",
       "      <td>No</td>\n",
       "      <td>...</td>\n",
       "      <td>Yes</td>\n",
       "      <td>Month-to-month</td>\n",
       "      <td>Yes</td>\n",
       "      <td>Electronic check</td>\n",
       "      <td>98.50</td>\n",
       "      <td>1058.25</td>\n",
       "      <td>Yes</td>\n",
       "      <td>1</td>\n",
       "      <td>Attitude of service provider</td>\n",
       "      <td>Low Churning City</td>\n",
       "    </tr>\n",
       "    <tr>\n",
       "      <th>198</th>\n",
       "      <td>3138-BKYAV</td>\n",
       "      <td>United States</td>\n",
       "      <td>California</td>\n",
       "      <td>Kerman</td>\n",
       "      <td>93630</td>\n",
       "      <td>36.727418, -120.123526</td>\n",
       "      <td>36.727418</td>\n",
       "      <td>-120.123526</td>\n",
       "      <td>Male</td>\n",
       "      <td>No</td>\n",
       "      <td>...</td>\n",
       "      <td>No</td>\n",
       "      <td>Month-to-month</td>\n",
       "      <td>Yes</td>\n",
       "      <td>Electronic check</td>\n",
       "      <td>85.35</td>\n",
       "      <td>489.45</td>\n",
       "      <td>Yes</td>\n",
       "      <td>1</td>\n",
       "      <td>Attitude of service provider</td>\n",
       "      <td>Low Churning City</td>\n",
       "    </tr>\n",
       "    <tr>\n",
       "      <th>199</th>\n",
       "      <td>4289-DTDKW</td>\n",
       "      <td>United States</td>\n",
       "      <td>California</td>\n",
       "      <td>Madera</td>\n",
       "      <td>93637</td>\n",
       "      <td>36.902954, -120.194274</td>\n",
       "      <td>36.902954</td>\n",
       "      <td>-120.194274</td>\n",
       "      <td>Male</td>\n",
       "      <td>No</td>\n",
       "      <td>...</td>\n",
       "      <td>Yes</td>\n",
       "      <td>Month-to-month</td>\n",
       "      <td>Yes</td>\n",
       "      <td>Electronic check</td>\n",
       "      <td>101.30</td>\n",
       "      <td>4113.10</td>\n",
       "      <td>Yes</td>\n",
       "      <td>1</td>\n",
       "      <td>Attitude of support person</td>\n",
       "      <td>Low Churning City</td>\n",
       "    </tr>\n",
       "  </tbody>\n",
       "</table>\n",
       "<p>200 rows × 31 columns</p>\n",
       "</div>"
      ],
      "text/plain": [
       "     CustomerID        Country       State         City  Zip Code  \\\n",
       "0    3668-QPYBK  United States  California  Los Angeles     90003   \n",
       "1    9237-HQITU  United States  California  Los Angeles     90005   \n",
       "2    9305-CDSKC  United States  California  Los Angeles     90006   \n",
       "3    7892-POOKP  United States  California  Los Angeles     90010   \n",
       "4    0280-XJGEX  United States  California  Los Angeles     90015   \n",
       "..          ...            ...         ...          ...       ...   \n",
       "195  0691-IFBQW  United States  California        Biola     93606   \n",
       "196  3009-JWMPU  United States  California  Five Points     93624   \n",
       "197  1450-GALXR  United States  California       Friant     93626   \n",
       "198  3138-BKYAV  United States  California       Kerman     93630   \n",
       "199  4289-DTDKW  United States  California       Madera     93637   \n",
       "\n",
       "                   Lat Long   Latitude   Longitude  Gender Senior Citizen  \\\n",
       "0    33.964131, -118.272783  33.964131 -118.272783    Male             No   \n",
       "1     34.059281, -118.30742  34.059281 -118.307420  Female             No   \n",
       "2    34.048013, -118.293953  34.048013 -118.293953  Female             No   \n",
       "3    34.062125, -118.315709  34.062125 -118.315709  Female             No   \n",
       "4    34.039224, -118.266293  34.039224 -118.266293    Male             No   \n",
       "..                      ...        ...         ...     ...            ...   \n",
       "195  36.798882, -120.019511  36.798882 -120.019511  Female            Yes   \n",
       "196  36.397745, -120.119911  36.397745 -120.119911    Male             No   \n",
       "197   37.027663, -119.69056  37.027663 -119.690560  Female             No   \n",
       "198  36.727418, -120.123526  36.727418 -120.123526    Male             No   \n",
       "199  36.902954, -120.194274  36.902954 -120.194274    Male             No   \n",
       "\n",
       "     ... Streaming Movies        Contract  Paperless Billing  \\\n",
       "0    ...               No  Month-to-month                Yes   \n",
       "1    ...               No  Month-to-month                Yes   \n",
       "2    ...              Yes  Month-to-month                Yes   \n",
       "3    ...              Yes  Month-to-month                Yes   \n",
       "4    ...              Yes  Month-to-month                Yes   \n",
       "..   ...              ...             ...                ...   \n",
       "195  ...              Yes        One year                Yes   \n",
       "196  ...              Yes        One year                Yes   \n",
       "197  ...              Yes  Month-to-month                Yes   \n",
       "198  ...               No  Month-to-month                Yes   \n",
       "199  ...              Yes  Month-to-month                Yes   \n",
       "\n",
       "                Payment Method Monthly Charges Total Charges Churn Label  \\\n",
       "0                 Mailed check           53.85        108.15         Yes   \n",
       "1             Electronic check           70.70        151.65         Yes   \n",
       "2             Electronic check           99.65        820.50         Yes   \n",
       "3             Electronic check          104.80       3046.05         Yes   \n",
       "4    Bank transfer (automatic)          103.70       5036.30         Yes   \n",
       "..                         ...             ...           ...         ...   \n",
       "195           Electronic check          110.00       4874.80         Yes   \n",
       "196           Electronic check           96.75       6125.40         Yes   \n",
       "197           Electronic check           98.50       1058.25         Yes   \n",
       "198           Electronic check           85.35        489.45         Yes   \n",
       "199           Electronic check          101.30       4113.10         Yes   \n",
       "\n",
       "    Churn Value                   Churn Reason      churn_category  \n",
       "0             1   Competitor made better offer   Low Churning City  \n",
       "1             1                          Moved   Low Churning City  \n",
       "2             1                          Moved   Low Churning City  \n",
       "3             1                          Moved   Low Churning City  \n",
       "4             1  Competitor had better devices   Low Churning City  \n",
       "..          ...                            ...                 ...  \n",
       "195           1   Competitor made better offer  High Churning City  \n",
       "196           1   Attitude of service provider  High Churning City  \n",
       "197           1   Attitude of service provider   Low Churning City  \n",
       "198           1   Attitude of service provider   Low Churning City  \n",
       "199           1     Attitude of support person   Low Churning City  \n",
       "\n",
       "[200 rows x 31 columns]"
      ]
     },
     "execution_count": 34,
     "metadata": {},
     "output_type": "execute_result"
    }
   ],
   "source": [
    "#to Find the churn rate based on city\n",
    "churn_counts = churn.groupby(\"City\")[\"Churn Value\"].sum()\n",
    "\n",
    "customer_counts = churn.groupby(\"City\")[\"CustomerID\"].nunique()\n",
    "\n",
    "churn_rate = churn_counts / customer_counts\n",
    "\n",
    "\n",
    "def categorise_city(churn_rate):\n",
    "    if churn_rate >= 0.5:\n",
    "        return \"High Churning City\"\n",
    "    else:\n",
    "        return \"Low Churning City\"\n",
    "\n",
    "\n",
    "churn[\"churn_category\"] = churn[\"City\"].map(churn_rate.apply(categorise_city))\n",
    "\n",
    "churn.head(200)"
   ]
  },
  {
   "cell_type": "code",
   "execution_count": 35,
   "metadata": {
    "colab": {
     "base_uri": "https://localhost:8080/"
    },
    "id": "nt3e3U2Qktwi",
    "outputId": "7c3c1092-e49a-4364-cb9e-6adff39f3b77"
   },
   "outputs": [
    {
     "data": {
      "text/plain": [
       "Index(['CustomerID', 'Country', 'State', 'City', 'Zip Code', 'Lat Long',\n",
       "       'Latitude', 'Longitude', 'Gender', 'Senior Citizen', 'Partner',\n",
       "       'Dependents', 'Tenure Months', 'Phone Service', 'Multiple Lines',\n",
       "       'Internet Service', 'Online Security', 'Online Backup',\n",
       "       'Device Protection', 'Tech Support', 'Streaming TV', 'Streaming Movies',\n",
       "       'Contract', 'Paperless Billing', 'Payment Method', 'Monthly Charges',\n",
       "       'Total Charges', 'Churn Label', 'Churn Value', 'Churn Reason',\n",
       "       'churn_category'],\n",
       "      dtype='object')"
      ]
     },
     "execution_count": 35,
     "metadata": {},
     "output_type": "execute_result"
    }
   ],
   "source": [
    "# printing the churn columns\n",
    "churn.columns"
   ]
  },
  {
   "cell_type": "code",
   "execution_count": 36,
   "metadata": {
    "colab": {
     "base_uri": "https://localhost:8080/"
    },
    "id": "f6RyhArektwi",
    "outputId": "70fb4e2c-d3f8-4945-e104-08f4ede0c9ff"
   },
   "outputs": [
    {
     "name": "stdout",
     "output_type": "stream",
     "text": [
      "Low Churning City     5909\n",
      "High Churning City    1123\n",
      "Name: churn_category, dtype: int64\n"
     ]
    }
   ],
   "source": [
    "## Counting the number in each churn category\n",
    "# Count the number of low churning and high churning cities\n",
    "counts = churn[\"churn_category\"].value_counts()\n",
    "\n",
    "# Print the counts\n",
    "print(counts)\n"
   ]
  },
  {
   "cell_type": "code",
   "execution_count": 37,
   "metadata": {
    "id": "1wt2E8UVqd9M"
   },
   "outputs": [],
   "source": [
    "# drop the customer id,country, state, churn label\n",
    "churn.drop(columns = ['CustomerID', 'Country', 'State', 'Churn Label'], inplace = True)"
   ]
  },
  {
   "cell_type": "code",
   "execution_count": 38,
   "metadata": {
    "colab": {
     "base_uri": "https://localhost:8080/"
    },
    "id": "_rQIZpxeqd_7",
    "outputId": "c9ea1bbb-f79c-4a2c-fbc1-5788edbbbd8d"
   },
   "outputs": [
    {
     "data": {
      "text/plain": [
       "City                 0\n",
       "Zip Code             0\n",
       "Lat Long             0\n",
       "Latitude             0\n",
       "Longitude            0\n",
       "Gender               0\n",
       "Senior Citizen       0\n",
       "Partner              0\n",
       "Dependents           0\n",
       "Tenure Months        0\n",
       "Phone Service        0\n",
       "Multiple Lines       0\n",
       "Internet Service     0\n",
       "Online Security      0\n",
       "Online Backup        0\n",
       "Device Protection    0\n",
       "Tech Support         0\n",
       "Streaming TV         0\n",
       "Streaming Movies     0\n",
       "Contract             0\n",
       "Paperless Billing    0\n",
       "Payment Method       0\n",
       "Monthly Charges      0\n",
       "Total Charges        0\n",
       "Churn Value          0\n",
       "Churn Reason         0\n",
       "churn_category       0\n",
       "dtype: int64"
      ]
     },
     "execution_count": 38,
     "metadata": {},
     "output_type": "execute_result"
    }
   ],
   "source": [
    "# checking for the missing values\n",
    "churn.isnull().sum()\n"
   ]
  },
  {
   "cell_type": "markdown",
   "metadata": {
    "id": "vHl50NPAktwj"
   },
   "source": [
    "### Test Train Split"
   ]
  },
  {
   "cell_type": "code",
   "execution_count": 39,
   "metadata": {
    "colab": {
     "base_uri": "https://localhost:8080/"
    },
    "id": "2vxFRUVEktwj",
    "outputId": "81b3b1f9-e50e-4432-96b9-66e1d5be06c8"
   },
   "outputs": [
    {
     "data": {
      "text/plain": [
       "Index(['City', 'Zip Code', 'Lat Long', 'Latitude', 'Longitude', 'Gender',\n",
       "       'Senior Citizen', 'Partner', 'Dependents', 'Tenure Months',\n",
       "       'Phone Service', 'Multiple Lines', 'Internet Service',\n",
       "       'Online Security', 'Online Backup', 'Device Protection', 'Tech Support',\n",
       "       'Streaming TV', 'Streaming Movies', 'Contract', 'Paperless Billing',\n",
       "       'Payment Method', 'Monthly Charges', 'Total Charges', 'Churn Value',\n",
       "       'Churn Reason', 'churn_category'],\n",
       "      dtype='object')"
      ]
     },
     "execution_count": 39,
     "metadata": {},
     "output_type": "execute_result"
    }
   ],
   "source": [
    "# checking for the churn columns\n",
    "churn.columns"
   ]
  },
  {
   "cell_type": "code",
   "execution_count": 40,
   "metadata": {
    "id": "OlCnpmNrktwj"
   },
   "outputs": [],
   "source": [
    "# First we make a list of our base feature_cols.\n",
    "# This is everything but we're removing price - since that's our target!\n",
    "\n",
    "feature_cols = list(churn.columns)\n",
    "feature_cols.remove('Churn Value')"
   ]
  },
  {
   "cell_type": "code",
   "execution_count": 41,
   "metadata": {
    "id": "ct8pcTemktwk"
   },
   "outputs": [],
   "source": [
    "# remove the city, latitude, longitude, zip code, lat long and churn reason for the purpose of feature engineering\n",
    "to_remove = ['City','Latitude', 'Longitude','Zip Code','Lat Long', 'Churn Reason']\n",
    "for col in to_remove:\n",
    "  feature_cols.remove(col)"
   ]
  },
  {
   "cell_type": "code",
   "execution_count": 42,
   "metadata": {
    "id": "5BiFVIRlktwk"
   },
   "outputs": [],
   "source": [
    "# Create X and y. For train test split\n",
    "\n",
    "X = churn[feature_cols]\n",
    "y = churn['Churn Value']"
   ]
  },
  {
   "cell_type": "code",
   "execution_count": 43,
   "metadata": {
    "colab": {
     "base_uri": "https://localhost:8080/",
     "height": 391
    },
    "id": "d3oMbIbfktwk",
    "outputId": "830c7ba0-9745-4518-ef5b-b85b6412777d"
   },
   "outputs": [
    {
     "data": {
      "text/html": [
       "<div>\n",
       "<style scoped>\n",
       "    .dataframe tbody tr th:only-of-type {\n",
       "        vertical-align: middle;\n",
       "    }\n",
       "\n",
       "    .dataframe tbody tr th {\n",
       "        vertical-align: top;\n",
       "    }\n",
       "\n",
       "    .dataframe thead th {\n",
       "        text-align: right;\n",
       "    }\n",
       "</style>\n",
       "<table border=\"1\" class=\"dataframe\">\n",
       "  <thead>\n",
       "    <tr style=\"text-align: right;\">\n",
       "      <th></th>\n",
       "      <th>Gender</th>\n",
       "      <th>Senior Citizen</th>\n",
       "      <th>Partner</th>\n",
       "      <th>Dependents</th>\n",
       "      <th>Tenure Months</th>\n",
       "      <th>Phone Service</th>\n",
       "      <th>Multiple Lines</th>\n",
       "      <th>Internet Service</th>\n",
       "      <th>Online Security</th>\n",
       "      <th>Online Backup</th>\n",
       "      <th>Device Protection</th>\n",
       "      <th>Tech Support</th>\n",
       "      <th>Streaming TV</th>\n",
       "      <th>Streaming Movies</th>\n",
       "      <th>Contract</th>\n",
       "      <th>Paperless Billing</th>\n",
       "      <th>Payment Method</th>\n",
       "      <th>Monthly Charges</th>\n",
       "      <th>Total Charges</th>\n",
       "      <th>churn_category</th>\n",
       "    </tr>\n",
       "  </thead>\n",
       "  <tbody>\n",
       "    <tr>\n",
       "      <th>0</th>\n",
       "      <td>Male</td>\n",
       "      <td>No</td>\n",
       "      <td>No</td>\n",
       "      <td>No</td>\n",
       "      <td>2</td>\n",
       "      <td>Yes</td>\n",
       "      <td>No</td>\n",
       "      <td>DSL</td>\n",
       "      <td>Yes</td>\n",
       "      <td>Yes</td>\n",
       "      <td>No</td>\n",
       "      <td>No</td>\n",
       "      <td>No</td>\n",
       "      <td>No</td>\n",
       "      <td>Month-to-month</td>\n",
       "      <td>Yes</td>\n",
       "      <td>Mailed check</td>\n",
       "      <td>53.85</td>\n",
       "      <td>108.15</td>\n",
       "      <td>Low Churning City</td>\n",
       "    </tr>\n",
       "    <tr>\n",
       "      <th>1</th>\n",
       "      <td>Female</td>\n",
       "      <td>No</td>\n",
       "      <td>No</td>\n",
       "      <td>Yes</td>\n",
       "      <td>2</td>\n",
       "      <td>Yes</td>\n",
       "      <td>No</td>\n",
       "      <td>Fiber optic</td>\n",
       "      <td>No</td>\n",
       "      <td>No</td>\n",
       "      <td>No</td>\n",
       "      <td>No</td>\n",
       "      <td>No</td>\n",
       "      <td>No</td>\n",
       "      <td>Month-to-month</td>\n",
       "      <td>Yes</td>\n",
       "      <td>Electronic check</td>\n",
       "      <td>70.70</td>\n",
       "      <td>151.65</td>\n",
       "      <td>Low Churning City</td>\n",
       "    </tr>\n",
       "    <tr>\n",
       "      <th>2</th>\n",
       "      <td>Female</td>\n",
       "      <td>No</td>\n",
       "      <td>No</td>\n",
       "      <td>Yes</td>\n",
       "      <td>8</td>\n",
       "      <td>Yes</td>\n",
       "      <td>Yes</td>\n",
       "      <td>Fiber optic</td>\n",
       "      <td>No</td>\n",
       "      <td>No</td>\n",
       "      <td>Yes</td>\n",
       "      <td>No</td>\n",
       "      <td>Yes</td>\n",
       "      <td>Yes</td>\n",
       "      <td>Month-to-month</td>\n",
       "      <td>Yes</td>\n",
       "      <td>Electronic check</td>\n",
       "      <td>99.65</td>\n",
       "      <td>820.50</td>\n",
       "      <td>Low Churning City</td>\n",
       "    </tr>\n",
       "    <tr>\n",
       "      <th>3</th>\n",
       "      <td>Female</td>\n",
       "      <td>No</td>\n",
       "      <td>Yes</td>\n",
       "      <td>Yes</td>\n",
       "      <td>28</td>\n",
       "      <td>Yes</td>\n",
       "      <td>Yes</td>\n",
       "      <td>Fiber optic</td>\n",
       "      <td>No</td>\n",
       "      <td>No</td>\n",
       "      <td>Yes</td>\n",
       "      <td>Yes</td>\n",
       "      <td>Yes</td>\n",
       "      <td>Yes</td>\n",
       "      <td>Month-to-month</td>\n",
       "      <td>Yes</td>\n",
       "      <td>Electronic check</td>\n",
       "      <td>104.80</td>\n",
       "      <td>3046.05</td>\n",
       "      <td>Low Churning City</td>\n",
       "    </tr>\n",
       "    <tr>\n",
       "      <th>4</th>\n",
       "      <td>Male</td>\n",
       "      <td>No</td>\n",
       "      <td>No</td>\n",
       "      <td>Yes</td>\n",
       "      <td>49</td>\n",
       "      <td>Yes</td>\n",
       "      <td>Yes</td>\n",
       "      <td>Fiber optic</td>\n",
       "      <td>No</td>\n",
       "      <td>Yes</td>\n",
       "      <td>Yes</td>\n",
       "      <td>No</td>\n",
       "      <td>Yes</td>\n",
       "      <td>Yes</td>\n",
       "      <td>Month-to-month</td>\n",
       "      <td>Yes</td>\n",
       "      <td>Bank transfer (automatic)</td>\n",
       "      <td>103.70</td>\n",
       "      <td>5036.30</td>\n",
       "      <td>Low Churning City</td>\n",
       "    </tr>\n",
       "  </tbody>\n",
       "</table>\n",
       "</div>"
      ],
      "text/plain": [
       "   Gender Senior Citizen Partner Dependents  Tenure Months Phone Service  \\\n",
       "0    Male             No      No         No              2           Yes   \n",
       "1  Female             No      No        Yes              2           Yes   \n",
       "2  Female             No      No        Yes              8           Yes   \n",
       "3  Female             No     Yes        Yes             28           Yes   \n",
       "4    Male             No      No        Yes             49           Yes   \n",
       "\n",
       "  Multiple Lines Internet Service Online Security Online Backup  \\\n",
       "0             No              DSL             Yes           Yes   \n",
       "1             No      Fiber optic              No            No   \n",
       "2            Yes      Fiber optic              No            No   \n",
       "3            Yes      Fiber optic              No            No   \n",
       "4            Yes      Fiber optic              No           Yes   \n",
       "\n",
       "  Device Protection Tech Support Streaming TV Streaming Movies  \\\n",
       "0                No           No           No               No   \n",
       "1                No           No           No               No   \n",
       "2               Yes           No          Yes              Yes   \n",
       "3               Yes          Yes          Yes              Yes   \n",
       "4               Yes           No          Yes              Yes   \n",
       "\n",
       "         Contract Paperless Billing             Payment Method  \\\n",
       "0  Month-to-month               Yes               Mailed check   \n",
       "1  Month-to-month               Yes           Electronic check   \n",
       "2  Month-to-month               Yes           Electronic check   \n",
       "3  Month-to-month               Yes           Electronic check   \n",
       "4  Month-to-month               Yes  Bank transfer (automatic)   \n",
       "\n",
       "   Monthly Charges  Total Charges     churn_category  \n",
       "0            53.85         108.15  Low Churning City  \n",
       "1            70.70         151.65  Low Churning City  \n",
       "2            99.65         820.50  Low Churning City  \n",
       "3           104.80        3046.05  Low Churning City  \n",
       "4           103.70        5036.30  Low Churning City  "
      ]
     },
     "execution_count": 43,
     "metadata": {},
     "output_type": "execute_result"
    }
   ],
   "source": [
    "# print the X head\n",
    "X.head()"
   ]
  },
  {
   "cell_type": "code",
   "execution_count": 44,
   "metadata": {
    "id": "j1JfWvAQktwk"
   },
   "outputs": [],
   "source": [
    "## The train_test_split function returns 4 items.\n",
    "## We have to specify 4 names in their specific order to receive each item:\n",
    "## 1. X train set, 2. X test set, 3. y train set, 4. y test set\n",
    "\n",
    "## The 'train_test_split()' function takes the following arguments: dataframe of X, dataframe of y, 'test_size' this\n",
    "## parameter is a decimal value that specifies the proportion of the test data (e.g. 0.25 results in a quarter of the\n",
    "## data being used as test), 'random_state' with this parameter you can set a random seed so your split can be\n",
    "## replicated.\n",
    "## The function takes many more argument which you can find in the documentation:\n",
    "# https://scikit-learn.org/stable/modules/generated/sklearn.model_selection.train_test_split.html\n",
    "\n",
    "## Let's see an example of train test split!\n",
    "\n",
    "X_train, X_test, y_train, y_test = train_test_split(X, y, test_size = 0.25, random_state = 55) # for Statsmodel\n"
   ]
  },
  {
   "cell_type": "code",
   "execution_count": 45,
   "metadata": {
    "colab": {
     "base_uri": "https://localhost:8080/"
    },
    "id": "MY3E9DA9ktwl",
    "outputId": "270ed828-3046-475e-be85-91869fa97dad"
   },
   "outputs": [
    {
     "data": {
      "text/plain": [
       "6694    0\n",
       "968     1\n",
       "4397    0\n",
       "4769    0\n",
       "4563    0\n",
       "Name: Churn Value, dtype: int64"
      ]
     },
     "execution_count": 45,
     "metadata": {},
     "output_type": "execute_result"
    }
   ],
   "source": [
    "# print the y_train tail\n",
    "y_train.tail()"
   ]
  },
  {
   "cell_type": "markdown",
   "metadata": {
    "id": "3_xn7wvBktwl"
   },
   "source": [
    "####  Feature Engineering\n",
    "##### Changing to Numerical values for object type\n"
   ]
  },
  {
   "cell_type": "code",
   "execution_count": 46,
   "metadata": {
    "id": "6ZBzP5R9e6NN"
   },
   "outputs": [],
   "source": [
    "## We'll do the cleaning properly all in 1 go, since we now know what to do\n",
    "def feature_engineering(df):\n",
    "   my_dict = {'Senior Citizen': {'Yes': 1, 'No': 0},'Partner': {'Yes':1, 'No':0},'Dependents': {'Yes': 1, 'No':0}, 'Phone Service' : {'Yes': 1, 'No':0},'Paperless Billing' : {'Yes': 1, 'No':0}, 'Gender': {'Male':1, 'Female':0}, 'churn_category':{'High Churning City': 1, 'Low Churning City': 0 }\n",
    "              }\n",
    "   \n",
    "   for col, col_map in my_dict.items():\n",
    "     df[col] = df[col].map(col_map)\n",
    "\n",
    "   my_columns = {'Payment Method':'Pay','Multiple Lines': 'ML', 'Internet Service': 'IS', 'Online Security' : 'OS', 'Online Backup': 'OB', 'Device Protection': 'DP', 'Tech Support': 'TS', 'Streaming TV' : 'ST', 'Streaming Movies' : 'SM', 'Contract' : 'Con'}#OHE\n",
    "   \n",
    "   for location,pref in my_columns.items():\n",
    "     df = pd.get_dummies(data = df, columns=[location], prefix=pref, drop_first=True)\n",
    "\n",
    "   return df\n",
    "   "
   ]
  },
  {
   "cell_type": "code",
   "execution_count": 47,
   "metadata": {
    "colab": {
     "base_uri": "https://localhost:8080/",
     "height": 391
    },
    "id": "EDD_JhjT68sZ",
    "outputId": "45b89260-892c-4c09-c841-d85f04207046"
   },
   "outputs": [
    {
     "data": {
      "text/html": [
       "<div>\n",
       "<style scoped>\n",
       "    .dataframe tbody tr th:only-of-type {\n",
       "        vertical-align: middle;\n",
       "    }\n",
       "\n",
       "    .dataframe tbody tr th {\n",
       "        vertical-align: top;\n",
       "    }\n",
       "\n",
       "    .dataframe thead th {\n",
       "        text-align: right;\n",
       "    }\n",
       "</style>\n",
       "<table border=\"1\" class=\"dataframe\">\n",
       "  <thead>\n",
       "    <tr style=\"text-align: right;\">\n",
       "      <th></th>\n",
       "      <th>Gender</th>\n",
       "      <th>Senior Citizen</th>\n",
       "      <th>Partner</th>\n",
       "      <th>Dependents</th>\n",
       "      <th>Tenure Months</th>\n",
       "      <th>Phone Service</th>\n",
       "      <th>Multiple Lines</th>\n",
       "      <th>Internet Service</th>\n",
       "      <th>Online Security</th>\n",
       "      <th>Online Backup</th>\n",
       "      <th>Device Protection</th>\n",
       "      <th>Tech Support</th>\n",
       "      <th>Streaming TV</th>\n",
       "      <th>Streaming Movies</th>\n",
       "      <th>Contract</th>\n",
       "      <th>Paperless Billing</th>\n",
       "      <th>Payment Method</th>\n",
       "      <th>Monthly Charges</th>\n",
       "      <th>Total Charges</th>\n",
       "      <th>churn_category</th>\n",
       "    </tr>\n",
       "  </thead>\n",
       "  <tbody>\n",
       "    <tr>\n",
       "      <th>5522</th>\n",
       "      <td>Male</td>\n",
       "      <td>No</td>\n",
       "      <td>Yes</td>\n",
       "      <td>Yes</td>\n",
       "      <td>20</td>\n",
       "      <td>Yes</td>\n",
       "      <td>No</td>\n",
       "      <td>No</td>\n",
       "      <td>No internet service</td>\n",
       "      <td>No internet service</td>\n",
       "      <td>No internet service</td>\n",
       "      <td>No internet service</td>\n",
       "      <td>No internet service</td>\n",
       "      <td>No internet service</td>\n",
       "      <td>Two year</td>\n",
       "      <td>No</td>\n",
       "      <td>Mailed check</td>\n",
       "      <td>20.05</td>\n",
       "      <td>400.00</td>\n",
       "      <td>Low Churning City</td>\n",
       "    </tr>\n",
       "    <tr>\n",
       "      <th>3282</th>\n",
       "      <td>Female</td>\n",
       "      <td>No</td>\n",
       "      <td>No</td>\n",
       "      <td>No</td>\n",
       "      <td>65</td>\n",
       "      <td>Yes</td>\n",
       "      <td>Yes</td>\n",
       "      <td>Fiber optic</td>\n",
       "      <td>No</td>\n",
       "      <td>Yes</td>\n",
       "      <td>Yes</td>\n",
       "      <td>No</td>\n",
       "      <td>Yes</td>\n",
       "      <td>No</td>\n",
       "      <td>One year</td>\n",
       "      <td>Yes</td>\n",
       "      <td>Electronic check</td>\n",
       "      <td>95.50</td>\n",
       "      <td>6153.85</td>\n",
       "      <td>High Churning City</td>\n",
       "    </tr>\n",
       "    <tr>\n",
       "      <th>1432</th>\n",
       "      <td>Female</td>\n",
       "      <td>Yes</td>\n",
       "      <td>Yes</td>\n",
       "      <td>No</td>\n",
       "      <td>1</td>\n",
       "      <td>Yes</td>\n",
       "      <td>No</td>\n",
       "      <td>Fiber optic</td>\n",
       "      <td>No</td>\n",
       "      <td>No</td>\n",
       "      <td>No</td>\n",
       "      <td>No</td>\n",
       "      <td>No</td>\n",
       "      <td>No</td>\n",
       "      <td>Month-to-month</td>\n",
       "      <td>Yes</td>\n",
       "      <td>Electronic check</td>\n",
       "      <td>69.55</td>\n",
       "      <td>69.55</td>\n",
       "      <td>Low Churning City</td>\n",
       "    </tr>\n",
       "    <tr>\n",
       "      <th>6016</th>\n",
       "      <td>Male</td>\n",
       "      <td>No</td>\n",
       "      <td>Yes</td>\n",
       "      <td>Yes</td>\n",
       "      <td>64</td>\n",
       "      <td>Yes</td>\n",
       "      <td>Yes</td>\n",
       "      <td>Fiber optic</td>\n",
       "      <td>No</td>\n",
       "      <td>No</td>\n",
       "      <td>Yes</td>\n",
       "      <td>No</td>\n",
       "      <td>No</td>\n",
       "      <td>Yes</td>\n",
       "      <td>One year</td>\n",
       "      <td>No</td>\n",
       "      <td>Credit card (automatic)</td>\n",
       "      <td>90.25</td>\n",
       "      <td>5629.15</td>\n",
       "      <td>Low Churning City</td>\n",
       "    </tr>\n",
       "    <tr>\n",
       "      <th>330</th>\n",
       "      <td>Female</td>\n",
       "      <td>No</td>\n",
       "      <td>No</td>\n",
       "      <td>No</td>\n",
       "      <td>2</td>\n",
       "      <td>No</td>\n",
       "      <td>No phone service</td>\n",
       "      <td>DSL</td>\n",
       "      <td>No</td>\n",
       "      <td>No</td>\n",
       "      <td>No</td>\n",
       "      <td>Yes</td>\n",
       "      <td>No</td>\n",
       "      <td>No</td>\n",
       "      <td>Month-to-month</td>\n",
       "      <td>Yes</td>\n",
       "      <td>Electronic check</td>\n",
       "      <td>30.90</td>\n",
       "      <td>59.05</td>\n",
       "      <td>High Churning City</td>\n",
       "    </tr>\n",
       "  </tbody>\n",
       "</table>\n",
       "</div>"
      ],
      "text/plain": [
       "      Gender Senior Citizen Partner Dependents  Tenure Months Phone Service  \\\n",
       "5522    Male             No     Yes        Yes             20           Yes   \n",
       "3282  Female             No      No         No             65           Yes   \n",
       "1432  Female            Yes     Yes         No              1           Yes   \n",
       "6016    Male             No     Yes        Yes             64           Yes   \n",
       "330   Female             No      No         No              2            No   \n",
       "\n",
       "        Multiple Lines Internet Service      Online Security  \\\n",
       "5522                No               No  No internet service   \n",
       "3282               Yes      Fiber optic                   No   \n",
       "1432                No      Fiber optic                   No   \n",
       "6016               Yes      Fiber optic                   No   \n",
       "330   No phone service              DSL                   No   \n",
       "\n",
       "            Online Backup    Device Protection         Tech Support  \\\n",
       "5522  No internet service  No internet service  No internet service   \n",
       "3282                  Yes                  Yes                   No   \n",
       "1432                   No                   No                   No   \n",
       "6016                   No                  Yes                   No   \n",
       "330                    No                   No                  Yes   \n",
       "\n",
       "             Streaming TV     Streaming Movies        Contract  \\\n",
       "5522  No internet service  No internet service        Two year   \n",
       "3282                  Yes                   No        One year   \n",
       "1432                   No                   No  Month-to-month   \n",
       "6016                   No                  Yes        One year   \n",
       "330                    No                   No  Month-to-month   \n",
       "\n",
       "     Paperless Billing           Payment Method  Monthly Charges  \\\n",
       "5522                No             Mailed check            20.05   \n",
       "3282               Yes         Electronic check            95.50   \n",
       "1432               Yes         Electronic check            69.55   \n",
       "6016                No  Credit card (automatic)            90.25   \n",
       "330                Yes         Electronic check            30.90   \n",
       "\n",
       "      Total Charges      churn_category  \n",
       "5522         400.00   Low Churning City  \n",
       "3282        6153.85  High Churning City  \n",
       "1432          69.55   Low Churning City  \n",
       "6016        5629.15   Low Churning City  \n",
       "330           59.05  High Churning City  "
      ]
     },
     "execution_count": 47,
     "metadata": {},
     "output_type": "execute_result"
    }
   ],
   "source": [
    "# print the X_train head\n",
    "X_train.head()"
   ]
  },
  {
   "cell_type": "code",
   "execution_count": 48,
   "metadata": {
    "id": "ZdB4g3JHheLb"
   },
   "outputs": [],
   "source": [
    "##   Feature Engineering is applied to training data\n",
    "X_train_f = feature_engineering(X_train)"
   ]
  },
  {
   "cell_type": "code",
   "execution_count": 49,
   "metadata": {
    "id": "9hBNIdItktwm"
   },
   "outputs": [],
   "source": [
    "# converting the X_train feature to csv\n",
    "X_train_f.to_csv('X_train_f.csv')"
   ]
  },
  {
   "cell_type": "markdown",
   "metadata": {
    "id": "BRffXQk3ktwn"
   },
   "source": [
    "### Model 1 - Base Model\n"
   ]
  },
  {
   "cell_type": "code",
   "execution_count": 50,
   "metadata": {
    "id": "zCMngOnUktwn"
   },
   "outputs": [],
   "source": [
    "#building the model using statsmodel\n",
    "X_train_f = sm.add_constant(X_train_f, has_constant='skip')"
   ]
  },
  {
   "cell_type": "code",
   "execution_count": 51,
   "metadata": {},
   "outputs": [
    {
     "data": {
      "text/html": [
       "<div>\n",
       "<style scoped>\n",
       "    .dataframe tbody tr th:only-of-type {\n",
       "        vertical-align: middle;\n",
       "    }\n",
       "\n",
       "    .dataframe tbody tr th {\n",
       "        vertical-align: top;\n",
       "    }\n",
       "\n",
       "    .dataframe thead th {\n",
       "        text-align: right;\n",
       "    }\n",
       "</style>\n",
       "<table border=\"1\" class=\"dataframe\">\n",
       "  <thead>\n",
       "    <tr style=\"text-align: right;\">\n",
       "      <th></th>\n",
       "      <th>const</th>\n",
       "      <th>Gender</th>\n",
       "      <th>Senior Citizen</th>\n",
       "      <th>Partner</th>\n",
       "      <th>Dependents</th>\n",
       "      <th>Tenure Months</th>\n",
       "      <th>Phone Service</th>\n",
       "      <th>Paperless Billing</th>\n",
       "      <th>Monthly Charges</th>\n",
       "      <th>Total Charges</th>\n",
       "      <th>...</th>\n",
       "      <th>DP_No internet service</th>\n",
       "      <th>DP_Yes</th>\n",
       "      <th>TS_No internet service</th>\n",
       "      <th>TS_Yes</th>\n",
       "      <th>ST_No internet service</th>\n",
       "      <th>ST_Yes</th>\n",
       "      <th>SM_No internet service</th>\n",
       "      <th>SM_Yes</th>\n",
       "      <th>Con_One year</th>\n",
       "      <th>Con_Two year</th>\n",
       "    </tr>\n",
       "  </thead>\n",
       "  <tbody>\n",
       "    <tr>\n",
       "      <th>5522</th>\n",
       "      <td>1.0</td>\n",
       "      <td>1</td>\n",
       "      <td>0</td>\n",
       "      <td>1</td>\n",
       "      <td>1</td>\n",
       "      <td>20</td>\n",
       "      <td>1</td>\n",
       "      <td>0</td>\n",
       "      <td>20.05</td>\n",
       "      <td>400.00</td>\n",
       "      <td>...</td>\n",
       "      <td>1</td>\n",
       "      <td>0</td>\n",
       "      <td>1</td>\n",
       "      <td>0</td>\n",
       "      <td>1</td>\n",
       "      <td>0</td>\n",
       "      <td>1</td>\n",
       "      <td>0</td>\n",
       "      <td>0</td>\n",
       "      <td>1</td>\n",
       "    </tr>\n",
       "    <tr>\n",
       "      <th>3282</th>\n",
       "      <td>1.0</td>\n",
       "      <td>0</td>\n",
       "      <td>0</td>\n",
       "      <td>0</td>\n",
       "      <td>0</td>\n",
       "      <td>65</td>\n",
       "      <td>1</td>\n",
       "      <td>1</td>\n",
       "      <td>95.50</td>\n",
       "      <td>6153.85</td>\n",
       "      <td>...</td>\n",
       "      <td>0</td>\n",
       "      <td>1</td>\n",
       "      <td>0</td>\n",
       "      <td>0</td>\n",
       "      <td>0</td>\n",
       "      <td>1</td>\n",
       "      <td>0</td>\n",
       "      <td>0</td>\n",
       "      <td>1</td>\n",
       "      <td>0</td>\n",
       "    </tr>\n",
       "    <tr>\n",
       "      <th>1432</th>\n",
       "      <td>1.0</td>\n",
       "      <td>0</td>\n",
       "      <td>1</td>\n",
       "      <td>1</td>\n",
       "      <td>0</td>\n",
       "      <td>1</td>\n",
       "      <td>1</td>\n",
       "      <td>1</td>\n",
       "      <td>69.55</td>\n",
       "      <td>69.55</td>\n",
       "      <td>...</td>\n",
       "      <td>0</td>\n",
       "      <td>0</td>\n",
       "      <td>0</td>\n",
       "      <td>0</td>\n",
       "      <td>0</td>\n",
       "      <td>0</td>\n",
       "      <td>0</td>\n",
       "      <td>0</td>\n",
       "      <td>0</td>\n",
       "      <td>0</td>\n",
       "    </tr>\n",
       "    <tr>\n",
       "      <th>6016</th>\n",
       "      <td>1.0</td>\n",
       "      <td>1</td>\n",
       "      <td>0</td>\n",
       "      <td>1</td>\n",
       "      <td>1</td>\n",
       "      <td>64</td>\n",
       "      <td>1</td>\n",
       "      <td>0</td>\n",
       "      <td>90.25</td>\n",
       "      <td>5629.15</td>\n",
       "      <td>...</td>\n",
       "      <td>0</td>\n",
       "      <td>1</td>\n",
       "      <td>0</td>\n",
       "      <td>0</td>\n",
       "      <td>0</td>\n",
       "      <td>0</td>\n",
       "      <td>0</td>\n",
       "      <td>1</td>\n",
       "      <td>1</td>\n",
       "      <td>0</td>\n",
       "    </tr>\n",
       "    <tr>\n",
       "      <th>330</th>\n",
       "      <td>1.0</td>\n",
       "      <td>0</td>\n",
       "      <td>0</td>\n",
       "      <td>0</td>\n",
       "      <td>0</td>\n",
       "      <td>2</td>\n",
       "      <td>0</td>\n",
       "      <td>1</td>\n",
       "      <td>30.90</td>\n",
       "      <td>59.05</td>\n",
       "      <td>...</td>\n",
       "      <td>0</td>\n",
       "      <td>0</td>\n",
       "      <td>0</td>\n",
       "      <td>1</td>\n",
       "      <td>0</td>\n",
       "      <td>0</td>\n",
       "      <td>0</td>\n",
       "      <td>0</td>\n",
       "      <td>0</td>\n",
       "      <td>0</td>\n",
       "    </tr>\n",
       "    <tr>\n",
       "      <th>...</th>\n",
       "      <td>...</td>\n",
       "      <td>...</td>\n",
       "      <td>...</td>\n",
       "      <td>...</td>\n",
       "      <td>...</td>\n",
       "      <td>...</td>\n",
       "      <td>...</td>\n",
       "      <td>...</td>\n",
       "      <td>...</td>\n",
       "      <td>...</td>\n",
       "      <td>...</td>\n",
       "      <td>...</td>\n",
       "      <td>...</td>\n",
       "      <td>...</td>\n",
       "      <td>...</td>\n",
       "      <td>...</td>\n",
       "      <td>...</td>\n",
       "      <td>...</td>\n",
       "      <td>...</td>\n",
       "      <td>...</td>\n",
       "      <td>...</td>\n",
       "    </tr>\n",
       "    <tr>\n",
       "      <th>6694</th>\n",
       "      <td>1.0</td>\n",
       "      <td>1</td>\n",
       "      <td>0</td>\n",
       "      <td>1</td>\n",
       "      <td>1</td>\n",
       "      <td>70</td>\n",
       "      <td>1</td>\n",
       "      <td>1</td>\n",
       "      <td>116.55</td>\n",
       "      <td>8152.30</td>\n",
       "      <td>...</td>\n",
       "      <td>0</td>\n",
       "      <td>1</td>\n",
       "      <td>0</td>\n",
       "      <td>1</td>\n",
       "      <td>0</td>\n",
       "      <td>1</td>\n",
       "      <td>0</td>\n",
       "      <td>1</td>\n",
       "      <td>0</td>\n",
       "      <td>1</td>\n",
       "    </tr>\n",
       "    <tr>\n",
       "      <th>968</th>\n",
       "      <td>1.0</td>\n",
       "      <td>0</td>\n",
       "      <td>0</td>\n",
       "      <td>0</td>\n",
       "      <td>0</td>\n",
       "      <td>24</td>\n",
       "      <td>0</td>\n",
       "      <td>1</td>\n",
       "      <td>54.15</td>\n",
       "      <td>1240.25</td>\n",
       "      <td>...</td>\n",
       "      <td>0</td>\n",
       "      <td>1</td>\n",
       "      <td>0</td>\n",
       "      <td>0</td>\n",
       "      <td>0</td>\n",
       "      <td>1</td>\n",
       "      <td>0</td>\n",
       "      <td>1</td>\n",
       "      <td>0</td>\n",
       "      <td>0</td>\n",
       "    </tr>\n",
       "    <tr>\n",
       "      <th>4397</th>\n",
       "      <td>1.0</td>\n",
       "      <td>0</td>\n",
       "      <td>0</td>\n",
       "      <td>1</td>\n",
       "      <td>1</td>\n",
       "      <td>28</td>\n",
       "      <td>1</td>\n",
       "      <td>1</td>\n",
       "      <td>70.40</td>\n",
       "      <td>1992.20</td>\n",
       "      <td>...</td>\n",
       "      <td>0</td>\n",
       "      <td>0</td>\n",
       "      <td>0</td>\n",
       "      <td>0</td>\n",
       "      <td>0</td>\n",
       "      <td>0</td>\n",
       "      <td>0</td>\n",
       "      <td>0</td>\n",
       "      <td>1</td>\n",
       "      <td>0</td>\n",
       "    </tr>\n",
       "    <tr>\n",
       "      <th>4769</th>\n",
       "      <td>1.0</td>\n",
       "      <td>0</td>\n",
       "      <td>0</td>\n",
       "      <td>0</td>\n",
       "      <td>0</td>\n",
       "      <td>2</td>\n",
       "      <td>1</td>\n",
       "      <td>0</td>\n",
       "      <td>50.95</td>\n",
       "      <td>123.05</td>\n",
       "      <td>...</td>\n",
       "      <td>0</td>\n",
       "      <td>0</td>\n",
       "      <td>0</td>\n",
       "      <td>0</td>\n",
       "      <td>0</td>\n",
       "      <td>0</td>\n",
       "      <td>0</td>\n",
       "      <td>0</td>\n",
       "      <td>0</td>\n",
       "      <td>0</td>\n",
       "    </tr>\n",
       "    <tr>\n",
       "      <th>4563</th>\n",
       "      <td>1.0</td>\n",
       "      <td>0</td>\n",
       "      <td>0</td>\n",
       "      <td>1</td>\n",
       "      <td>1</td>\n",
       "      <td>51</td>\n",
       "      <td>1</td>\n",
       "      <td>1</td>\n",
       "      <td>90.15</td>\n",
       "      <td>4554.85</td>\n",
       "      <td>...</td>\n",
       "      <td>0</td>\n",
       "      <td>1</td>\n",
       "      <td>0</td>\n",
       "      <td>0</td>\n",
       "      <td>0</td>\n",
       "      <td>0</td>\n",
       "      <td>0</td>\n",
       "      <td>1</td>\n",
       "      <td>1</td>\n",
       "      <td>0</td>\n",
       "    </tr>\n",
       "  </tbody>\n",
       "</table>\n",
       "<p>5274 rows × 32 columns</p>\n",
       "</div>"
      ],
      "text/plain": [
       "      const  Gender  Senior Citizen  Partner  Dependents  Tenure Months  \\\n",
       "5522    1.0       1               0        1           1             20   \n",
       "3282    1.0       0               0        0           0             65   \n",
       "1432    1.0       0               1        1           0              1   \n",
       "6016    1.0       1               0        1           1             64   \n",
       "330     1.0       0               0        0           0              2   \n",
       "...     ...     ...             ...      ...         ...            ...   \n",
       "6694    1.0       1               0        1           1             70   \n",
       "968     1.0       0               0        0           0             24   \n",
       "4397    1.0       0               0        1           1             28   \n",
       "4769    1.0       0               0        0           0              2   \n",
       "4563    1.0       0               0        1           1             51   \n",
       "\n",
       "      Phone Service  Paperless Billing  Monthly Charges  Total Charges  ...  \\\n",
       "5522              1                  0            20.05         400.00  ...   \n",
       "3282              1                  1            95.50        6153.85  ...   \n",
       "1432              1                  1            69.55          69.55  ...   \n",
       "6016              1                  0            90.25        5629.15  ...   \n",
       "330               0                  1            30.90          59.05  ...   \n",
       "...             ...                ...              ...            ...  ...   \n",
       "6694              1                  1           116.55        8152.30  ...   \n",
       "968               0                  1            54.15        1240.25  ...   \n",
       "4397              1                  1            70.40        1992.20  ...   \n",
       "4769              1                  0            50.95         123.05  ...   \n",
       "4563              1                  1            90.15        4554.85  ...   \n",
       "\n",
       "      DP_No internet service  DP_Yes  TS_No internet service  TS_Yes  \\\n",
       "5522                       1       0                       1       0   \n",
       "3282                       0       1                       0       0   \n",
       "1432                       0       0                       0       0   \n",
       "6016                       0       1                       0       0   \n",
       "330                        0       0                       0       1   \n",
       "...                      ...     ...                     ...     ...   \n",
       "6694                       0       1                       0       1   \n",
       "968                        0       1                       0       0   \n",
       "4397                       0       0                       0       0   \n",
       "4769                       0       0                       0       0   \n",
       "4563                       0       1                       0       0   \n",
       "\n",
       "      ST_No internet service  ST_Yes  SM_No internet service  SM_Yes  \\\n",
       "5522                       1       0                       1       0   \n",
       "3282                       0       1                       0       0   \n",
       "1432                       0       0                       0       0   \n",
       "6016                       0       0                       0       1   \n",
       "330                        0       0                       0       0   \n",
       "...                      ...     ...                     ...     ...   \n",
       "6694                       0       1                       0       1   \n",
       "968                        0       1                       0       1   \n",
       "4397                       0       0                       0       0   \n",
       "4769                       0       0                       0       0   \n",
       "4563                       0       0                       0       1   \n",
       "\n",
       "      Con_One year  Con_Two year  \n",
       "5522             0             1  \n",
       "3282             1             0  \n",
       "1432             0             0  \n",
       "6016             1             0  \n",
       "330              0             0  \n",
       "...            ...           ...  \n",
       "6694             0             1  \n",
       "968              0             0  \n",
       "4397             1             0  \n",
       "4769             0             0  \n",
       "4563             1             0  \n",
       "\n",
       "[5274 rows x 32 columns]"
      ]
     },
     "execution_count": 51,
     "metadata": {},
     "output_type": "execute_result"
    }
   ],
   "source": [
    "X_train_f"
   ]
  },
  {
   "cell_type": "code",
   "execution_count": 52,
   "metadata": {},
   "outputs": [
    {
     "name": "stderr",
     "output_type": "stream",
     "text": [
      "C:\\Users\\vigne\\anaconda3\\lib\\site-packages\\statsmodels\\regression\\linear_model.py:1752: RuntimeWarning: divide by zero encountered in double_scalars\n",
      "  return 1 - self.ssr/self.centered_tss\n",
      "C:\\Users\\vigne\\anaconda3\\lib\\site-packages\\statsmodels\\stats\\outliers_influence.py:195: RuntimeWarning: divide by zero encountered in double_scalars\n",
      "  vif = 1. / (1. - r_squared_i)\n"
     ]
    }
   ],
   "source": [
    "import statsmodels.api as sm\n",
    "from statsmodels.stats.outliers_influence import variance_inflation_factor\n",
    "\n",
    "# Check for multicollinearity\n",
    "vif = pd.DataFrame()\n",
    "vif[\"VIF Factor\"] = [variance_inflation_factor(X_train_f.values, i) for i in range(X_train_f.shape[1])]\n",
    "vif[\"features\"] = X_train_f.columns\n",
    "\n",
    "# Remove variables with high VIF scores\n",
    "X_train_f = X_train_f.drop(columns=vif[vif[\"VIF Factor\"] > 10].features)"
   ]
  },
  {
   "cell_type": "code",
   "execution_count": 53,
   "metadata": {
    "id": "pBOd1MBVktwn"
   },
   "outputs": [
    {
     "name": "stdout",
     "output_type": "stream",
     "text": [
      "Optimization terminated successfully.\n",
      "         Current function value: 0.388794\n",
      "         Iterations 8\n"
     ]
    }
   ],
   "source": [
    "# define the model\n",
    "log_reg = sm.Logit(y_train, X_train_f).fit()\n"
   ]
  },
  {
   "cell_type": "code",
   "execution_count": 54,
   "metadata": {},
   "outputs": [
    {
     "data": {
      "text/html": [
       "<table class=\"simpletable\">\n",
       "<caption>Logit Regression Results</caption>\n",
       "<tr>\n",
       "  <th>Dep. Variable:</th>      <td>Churn Value</td>   <th>  No. Observations:  </th>  <td>  5274</td> \n",
       "</tr>\n",
       "<tr>\n",
       "  <th>Model:</th>                 <td>Logit</td>      <th>  Df Residuals:      </th>  <td>  5256</td> \n",
       "</tr>\n",
       "<tr>\n",
       "  <th>Method:</th>                 <td>MLE</td>       <th>  Df Model:          </th>  <td>    17</td> \n",
       "</tr>\n",
       "<tr>\n",
       "  <th>Date:</th>            <td>Fri, 03 Mar 2023</td> <th>  Pseudo R-squ.:     </th>  <td>0.3215</td> \n",
       "</tr>\n",
       "<tr>\n",
       "  <th>Time:</th>                <td>00:00:42</td>     <th>  Log-Likelihood:    </th> <td> -2050.5</td>\n",
       "</tr>\n",
       "<tr>\n",
       "  <th>converged:</th>             <td>True</td>       <th>  LL-Null:           </th> <td> -3022.1</td>\n",
       "</tr>\n",
       "<tr>\n",
       "  <th>Covariance Type:</th>     <td>nonrobust</td>    <th>  LLR p-value:       </th>  <td> 0.000</td> \n",
       "</tr>\n",
       "</table>\n",
       "<table class=\"simpletable\">\n",
       "<tr>\n",
       "               <td></td>                  <th>coef</th>     <th>std err</th>      <th>z</th>      <th>P>|z|</th>  <th>[0.025</th>    <th>0.975]</th>  \n",
       "</tr>\n",
       "<tr>\n",
       "  <th>const</th>                       <td>   -0.7048</td> <td>    0.133</td> <td>   -5.282</td> <td> 0.000</td> <td>   -0.966</td> <td>   -0.443</td>\n",
       "</tr>\n",
       "<tr>\n",
       "  <th>Gender</th>                      <td>   -0.0399</td> <td>    0.078</td> <td>   -0.512</td> <td> 0.609</td> <td>   -0.193</td> <td>    0.113</td>\n",
       "</tr>\n",
       "<tr>\n",
       "  <th>Senior Citizen</th>              <td>    0.2453</td> <td>    0.102</td> <td>    2.410</td> <td> 0.016</td> <td>    0.046</td> <td>    0.445</td>\n",
       "</tr>\n",
       "<tr>\n",
       "  <th>Partner</th>                     <td>    0.1757</td> <td>    0.091</td> <td>    1.937</td> <td> 0.053</td> <td>   -0.002</td> <td>    0.354</td>\n",
       "</tr>\n",
       "<tr>\n",
       "  <th>Dependents</th>                  <td>   -1.5069</td> <td>    0.136</td> <td>  -11.088</td> <td> 0.000</td> <td>   -1.773</td> <td>   -1.241</td>\n",
       "</tr>\n",
       "<tr>\n",
       "  <th>Tenure Months</th>               <td>   -0.0318</td> <td>    0.003</td> <td>  -11.180</td> <td> 0.000</td> <td>   -0.037</td> <td>   -0.026</td>\n",
       "</tr>\n",
       "<tr>\n",
       "  <th>Paperless Billing</th>           <td>    0.5863</td> <td>    0.087</td> <td>    6.735</td> <td> 0.000</td> <td>    0.416</td> <td>    0.757</td>\n",
       "</tr>\n",
       "<tr>\n",
       "  <th>churn_category</th>              <td>    1.6177</td> <td>    0.100</td> <td>   16.193</td> <td> 0.000</td> <td>    1.422</td> <td>    1.814</td>\n",
       "</tr>\n",
       "<tr>\n",
       "  <th>Pay_Credit card (automatic)</th> <td>   -0.1982</td> <td>    0.138</td> <td>   -1.440</td> <td> 0.150</td> <td>   -0.468</td> <td>    0.072</td>\n",
       "</tr>\n",
       "<tr>\n",
       "  <th>Pay_Electronic check</th>        <td>    0.4346</td> <td>    0.112</td> <td>    3.872</td> <td> 0.000</td> <td>    0.215</td> <td>    0.655</td>\n",
       "</tr>\n",
       "<tr>\n",
       "  <th>Pay_Mailed check</th>            <td>   -0.3288</td> <td>    0.132</td> <td>   -2.486</td> <td> 0.013</td> <td>   -0.588</td> <td>   -0.070</td>\n",
       "</tr>\n",
       "<tr>\n",
       "  <th>ML_Yes</th>                      <td>    0.5958</td> <td>    0.089</td> <td>    6.674</td> <td> 0.000</td> <td>    0.421</td> <td>    0.771</td>\n",
       "</tr>\n",
       "<tr>\n",
       "  <th>OS_Yes</th>                      <td>   -0.3231</td> <td>    0.101</td> <td>   -3.184</td> <td> 0.001</td> <td>   -0.522</td> <td>   -0.124</td>\n",
       "</tr>\n",
       "<tr>\n",
       "  <th>OB_Yes</th>                      <td>    0.1125</td> <td>    0.093</td> <td>    1.205</td> <td> 0.228</td> <td>   -0.070</td> <td>    0.295</td>\n",
       "</tr>\n",
       "<tr>\n",
       "  <th>DP_Yes</th>                      <td>    0.2289</td> <td>    0.093</td> <td>    2.467</td> <td> 0.014</td> <td>    0.047</td> <td>    0.411</td>\n",
       "</tr>\n",
       "<tr>\n",
       "  <th>TS_Yes</th>                      <td>   -0.1760</td> <td>    0.101</td> <td>   -1.736</td> <td> 0.082</td> <td>   -0.375</td> <td>    0.023</td>\n",
       "</tr>\n",
       "<tr>\n",
       "  <th>Con_One year</th>                <td>   -0.9307</td> <td>    0.126</td> <td>   -7.363</td> <td> 0.000</td> <td>   -1.178</td> <td>   -0.683</td>\n",
       "</tr>\n",
       "<tr>\n",
       "  <th>Con_Two year</th>                <td>   -1.7533</td> <td>    0.206</td> <td>   -8.514</td> <td> 0.000</td> <td>   -2.157</td> <td>   -1.350</td>\n",
       "</tr>\n",
       "</table>"
      ],
      "text/plain": [
       "<class 'statsmodels.iolib.summary.Summary'>\n",
       "\"\"\"\n",
       "                           Logit Regression Results                           \n",
       "==============================================================================\n",
       "Dep. Variable:            Churn Value   No. Observations:                 5274\n",
       "Model:                          Logit   Df Residuals:                     5256\n",
       "Method:                           MLE   Df Model:                           17\n",
       "Date:                Fri, 03 Mar 2023   Pseudo R-squ.:                  0.3215\n",
       "Time:                        00:00:42   Log-Likelihood:                -2050.5\n",
       "converged:                       True   LL-Null:                       -3022.1\n",
       "Covariance Type:            nonrobust   LLR p-value:                     0.000\n",
       "===============================================================================================\n",
       "                                  coef    std err          z      P>|z|      [0.025      0.975]\n",
       "-----------------------------------------------------------------------------------------------\n",
       "const                          -0.7048      0.133     -5.282      0.000      -0.966      -0.443\n",
       "Gender                         -0.0399      0.078     -0.512      0.609      -0.193       0.113\n",
       "Senior Citizen                  0.2453      0.102      2.410      0.016       0.046       0.445\n",
       "Partner                         0.1757      0.091      1.937      0.053      -0.002       0.354\n",
       "Dependents                     -1.5069      0.136    -11.088      0.000      -1.773      -1.241\n",
       "Tenure Months                  -0.0318      0.003    -11.180      0.000      -0.037      -0.026\n",
       "Paperless Billing               0.5863      0.087      6.735      0.000       0.416       0.757\n",
       "churn_category                  1.6177      0.100     16.193      0.000       1.422       1.814\n",
       "Pay_Credit card (automatic)    -0.1982      0.138     -1.440      0.150      -0.468       0.072\n",
       "Pay_Electronic check            0.4346      0.112      3.872      0.000       0.215       0.655\n",
       "Pay_Mailed check               -0.3288      0.132     -2.486      0.013      -0.588      -0.070\n",
       "ML_Yes                          0.5958      0.089      6.674      0.000       0.421       0.771\n",
       "OS_Yes                         -0.3231      0.101     -3.184      0.001      -0.522      -0.124\n",
       "OB_Yes                          0.1125      0.093      1.205      0.228      -0.070       0.295\n",
       "DP_Yes                          0.2289      0.093      2.467      0.014       0.047       0.411\n",
       "TS_Yes                         -0.1760      0.101     -1.736      0.082      -0.375       0.023\n",
       "Con_One year                   -0.9307      0.126     -7.363      0.000      -1.178      -0.683\n",
       "Con_Two year                   -1.7533      0.206     -8.514      0.000      -2.157      -1.350\n",
       "===============================================================================================\n",
       "\"\"\""
      ]
     },
     "execution_count": 54,
     "metadata": {},
     "output_type": "execute_result"
    }
   ],
   "source": [
    "log_reg.summary()"
   ]
  },
  {
   "cell_type": "code",
   "execution_count": 55,
   "metadata": {
    "id": "9n1ZDmpwktwn"
   },
   "outputs": [],
   "source": [
    "#building the Logistic Regression object\n",
    "lr = LogisticRegression(max_iter=500, random_state=10)\n"
   ]
  },
  {
   "cell_type": "code",
   "execution_count": 56,
   "metadata": {
    "colab": {
     "base_uri": "https://localhost:8080/"
    },
    "id": "pFyF6dTTktwn",
    "outputId": "f4bfef68-e54d-40f6-f4a8-208d2663fce1"
   },
   "outputs": [
    {
     "data": {
      "text/plain": [
       "LogisticRegression(max_iter=500, random_state=10)"
      ]
     },
     "execution_count": 56,
     "metadata": {},
     "output_type": "execute_result"
    }
   ],
   "source": [
    "## So, we have an empty LogisticRegression() object. This needs to be fit on our data first and foremost\n",
    "## Since we're using sklearn, the rule of thumb is: first parameter = features, second parameter = target\n",
    "lr.fit(X_train_f, y_train)\n"
   ]
  },
  {
   "cell_type": "code",
   "execution_count": 57,
   "metadata": {
    "id": "nENJTiiiktwo"
   },
   "outputs": [],
   "source": [
    "## Here one is the probability of outcome 0 (No Churn), the other the probability of outcome 1 (Churn)\n",
    "## Since these are the only 2 options, it adds up (quite literally! They add up to 1)\n",
    "\n",
    "## Let's store them in 2 columns then, called 'prob_no_Churn' and 'prob_Churn'\n",
    "X_train_f[['prob_no_Churn', 'prob_Churn']] = lr.predict_proba(X_train_f)"
   ]
  },
  {
   "cell_type": "code",
   "execution_count": 58,
   "metadata": {
    "id": "s6yy8jZKktwo"
   },
   "outputs": [],
   "source": [
    "## Fantastic! However.. we still need to make a binary prediction: Has this customer got churn?\n",
    "## This will be based on the probabilities offered. If prob_churn > .5, we can say they will churn.\n",
    "## Why .5? This is what we call a CUT-OFF POINT - and it's yet another parameter we can pick! We'll try .5, but it might indeed\n",
    "## not be the optimum value. Maybe we need to use .6, maybe .65: You should explore this on your own\n",
    "## We'll store our prediction in a column called 'y_pred' and use the np.where() method to do so\n",
    "\n",
    "cut_off = 0.50\n",
    "X_train_f['y_pred'] = np.where(X_train_f['prob_Churn']>= cut_off, 1, 0)"
   ]
  },
  {
   "cell_type": "markdown",
   "metadata": {
    "id": "wy2DAroAktwo"
   },
   "source": [
    "Evaluate Performance"
   ]
  },
  {
   "cell_type": "code",
   "execution_count": 59,
   "metadata": {
    "id": "FQGxKlXgktwo"
   },
   "outputs": [],
   "source": [
    "## The 'metrics' module from sklearn covers all of them (and more!) So we can use a function like the one below\n",
    "\n",
    "def get_results(actual, predicted):\n",
    "    print(\"The confusion matrix for the Churning predictions is:\")\n",
    "    print(metrics.confusion_matrix(predicted, actual), \"\\n\")\n",
    "    print(f'The accuracy of the Churning prediction model is: {metrics.accuracy_score(predicted, actual)}')\n",
    "    print(f'The recall of the Churning prediction model is: {metrics.recall_score(predicted, actual)}')\n",
    "    print(f'The precision of the Churning prediction model is: {metrics.precision_score(predicted, actual)}')\n",
    "    print(f'The F1-score of the Churning prediction model is: {metrics.f1_score(predicted, actual)}')"
   ]
  },
  {
   "cell_type": "code",
   "execution_count": 60,
   "metadata": {
    "colab": {
     "base_uri": "https://localhost:8080/"
    },
    "id": "irW0VD1cktwp",
    "outputId": "75a77610-210e-4b84-c3a5-0cb32abedcc0"
   },
   "outputs": [
    {
     "name": "stdout",
     "output_type": "stream",
     "text": [
      "The confusion matrix for the Churning predictions is:\n",
      "[[3578  643]\n",
      " [ 325  728]] \n",
      "\n",
      "The accuracy of the Churning prediction model is: 0.8164580963215775\n",
      "The recall of the Churning prediction model is: 0.691358024691358\n",
      "The precision of the Churning prediction model is: 0.5309992706053975\n",
      "The F1-score of the Churning prediction model is: 0.6006600660066006\n"
     ]
    }
   ],
   "source": [
    "## Now, we simply apply the function on our predictions\n",
    "get_results(y_train, X_train_f['y_pred'])"
   ]
  },
  {
   "cell_type": "code",
   "execution_count": 61,
   "metadata": {
    "colab": {
     "base_uri": "https://localhost:8080/"
    },
    "id": "soYqumu2ktwp",
    "outputId": "cf7c1805-649e-4954-84fa-f8a230f09804"
   },
   "outputs": [
    {
     "name": "stdout",
     "output_type": "stream",
     "text": [
      "              precision    recall  f1-score   support\n",
      "\n",
      "           0       0.85      0.92      0.88      3903\n",
      "           1       0.69      0.53      0.60      1371\n",
      "\n",
      "    accuracy                           0.82      5274\n",
      "   macro avg       0.77      0.72      0.74      5274\n",
      "weighted avg       0.81      0.82      0.81      5274\n",
      "\n"
     ]
    }
   ],
   "source": [
    "# print the classification report\n",
    "print(metrics.classification_report(y_train, X_train_f['y_pred']))\n"
   ]
  },
  {
   "cell_type": "code",
   "execution_count": 62,
   "metadata": {
    "colab": {
     "base_uri": "https://localhost:8080/",
     "height": 279
    },
    "id": "zIOM0rbmktwp",
    "outputId": "e4d6fed8-ee52-41bf-e621-0d2303fa6269"
   },
   "outputs": [
    {
     "data": {
      "image/png": "[encoded data removed]",
      "text/plain": [
       "<Figure size 504x360 with 2 Axes>"
      ]
     },
     "metadata": {},
     "output_type": "display_data"
    }
   ],
   "source": [
    "## Much better! using the ConfusionMatrixDisplay tool\n",
    "\n",
    "cm = metrics.confusion_matrix(y_train, X_train_f['y_pred'])\n",
    "sns.set(font_scale=1.2)\n",
    "fig, ax = plt.subplots(figsize=(7, 5))\n",
    "sns.heatmap(cm, annot=True, fmt='g', cmap='cividis', cbar_kws={'label': 'Count'}, ax=ax)\n",
    "ax.set_xlabel('Predicted label', fontsize=14)\n",
    "ax.set_ylabel('True label', fontsize=14)\n",
    "ax.set_title('Confusion Matrix', fontsize=16,fontweight=\"bold\")\n",
    "\n",
    "plt.show()"
   ]
  },
  {
   "cell_type": "markdown",
   "metadata": {
    "id": "BIrdBe5jktwp"
   },
   "source": [
    "### Model Improvement FM\n",
    "for multi collinearity : Use Step wise , VIF\n",
    "We can use tweaking and change the parameters and check training model results to evaluate.\n",
    "\n",
    "apply model to testing data after FM changes\n",
    "X_test_f, y_test"
   ]
  },
  {
   "cell_type": "markdown",
   "metadata": {
    "id": "8hfKfZ-2ktwp"
   },
   "source": [
    "### Model 2 (using StepWise)\n"
   ]
  },
  {
   "cell_type": "code",
   "execution_count": 63,
   "metadata": {
    "id": "w4mRUp-fktwp"
   },
   "outputs": [],
   "source": [
    "# create the function for the stepwise selection\n",
    "def stepwise_selection(X, y, threshold_in = 0.01, threshold_out = 0.05, verbose = True):\n",
    "    # The function is checking for p-values (whether features are statistically significant), the lower the better\n",
    "    included = [] # this is going to be the list of features we keep\n",
    "    while True:\n",
    "        changed = False\n",
    "        # forward step\n",
    "        excluded = list(set(X.columns) - set(included))\n",
    "        new_pval = pd.Series(index = excluded, dtype = 'float64')\n",
    "        for new_column in excluded:\n",
    "            model = sm.OLS(y, sm.add_constant(pd.DataFrame(X[included + [new_column]]))).fit()\n",
    "            new_pval[new_column] = model.pvalues[new_column]\n",
    "        best_pval = new_pval.min()\n",
    "        # we add the feature with the lowest (best) p-value under the threshold to our 'included' list\n",
    "        if best_pval < threshold_in:\n",
    "            best_feature = new_pval.idxmin()\n",
    "            included.append(best_feature)\n",
    "            changed = True\n",
    "            if verbose:\n",
    "                print('Add  {:30} with p-value {:.6}'.format(best_feature, best_pval)) # specifying the verbose text\n",
    "\n",
    "        # backward step: removing features if new features added to the list make them statistically insignificant\n",
    "        model = sm.OLS(y, sm.add_constant(pd.DataFrame(X[included]))).fit()\n",
    "\n",
    "        # use all coefs except intercept\n",
    "        pvalues = model.pvalues.iloc[1:]\n",
    "        worst_pval = pvalues.max() # null if pvalues is empty\n",
    "        # if the p-value exceeds the upper threshold, the feature will be dropped from the 'included' list\n",
    "        if worst_pval > threshold_out:\n",
    "            changed = True\n",
    "            worst_feature = pvalues.idxmax()\n",
    "            included.remove(worst_feature)\n",
    "            if verbose:\n",
    "                print('Drop {:30} with p-value {:.6}'.format(worst_feature, worst_pval))\n",
    "        if not changed:\n",
    "            break\n",
    "    return included"
   ]
  },
  {
   "cell_type": "code",
   "execution_count": 64,
   "metadata": {},
   "outputs": [
    {
     "name": "stdout",
     "output_type": "stream",
     "text": [
      "['const', 'Gender', 'Senior Citizen', 'Partner', 'Dependents', 'Tenure Months', 'Paperless Billing', 'churn_category', 'Pay_Credit card (automatic)', 'Pay_Electronic check', 'Pay_Mailed check', 'ML_Yes', 'OS_Yes', 'OB_Yes', 'DP_Yes', 'TS_Yes', 'Con_One year', 'Con_Two year', 'prob_no_Churn', 'prob_Churn', 'y_pred']\n"
     ]
    }
   ],
   "source": [
    "# printing columns to list\n",
    "print(X_train_f.columns.tolist())\n"
   ]
  },
  {
   "cell_type": "code",
   "execution_count": 65,
   "metadata": {
    "scrolled": true
   },
   "outputs": [
    {
     "name": "stdout",
     "output_type": "stream",
     "text": [
      "Add  Tenure Months                  with p-value 1.10369e-154\n",
      "Add  churn_category                 with p-value 5.7642e-104\n",
      "Add  Pay_Electronic check           with p-value 1.94875e-64\n",
      "Add  Dependents                     with p-value 2.58649e-41\n",
      "Add  Paperless Billing              with p-value 2.77449e-25\n",
      "Add  ML_Yes                         with p-value 4.42071e-17\n",
      "Add  Con_One year                   with p-value 9.37251e-12\n",
      "Add  Con_Two year                   with p-value 2.35654e-14\n",
      "Add  Senior Citizen                 with p-value 0.000142407\n",
      "Add  OS_Yes                         with p-value 0.000368218\n",
      "Add  Pay_Mailed check               with p-value 0.00213874\n",
      "resulting features:\n",
      "['Tenure Months', 'churn_category', 'Pay_Electronic check', 'Dependents', 'Paperless Billing', 'ML_Yes', 'Con_One year', 'Con_Two year', 'Senior Citizen', 'OS_Yes', 'Pay_Mailed check']\n"
     ]
    }
   ],
   "source": [
    "# printing the result of the stepwise selection\n",
    "result = stepwise_selection(X_train_f[['Gender', 'Senior Citizen', 'Partner', 'Dependents', 'Tenure Months', \n",
    "                                       'Paperless Billing', 'churn_category', 'Pay_Credit card (automatic)', \n",
    "                                       'Pay_Electronic check', 'Pay_Mailed check'\n",
    "                                       , 'ML_Yes', 'OS_Yes', 'OB_Yes', 'DP_Yes', 'TS_Yes',\n",
    "                                       'Con_One year', 'Con_Two year',]], y_train)\n",
    "\n",
    "print('resulting features:')\n",
    "print(result)"
   ]
  },
  {
   "cell_type": "code",
   "execution_count": 114,
   "metadata": {},
   "outputs": [
    {
     "name": "stdout",
     "output_type": "stream",
     "text": [
      "['0.000000', '0.000000', '0.000000', '0.000000', '0.000000', '0.000000', '0.000000', '0.000000', '0.000142', '0.000368', '0.002139']\n"
     ]
    }
   ],
   "source": [
    "p_values = [1.10369e-154, 5.7642e-104, 1.94875e-64, 2.58649e-41, 2.77449e-25, 4.42071e-17, 9.37251e-12, 2.35654e-14, 0.000142407, 0.000368218, 0.00213874]\n",
    "\n",
    "p_values_decimal = [format(p, '.6f') for p in p_values]\n",
    "print(p_values_decimal)"
   ]
  },
  {
   "cell_type": "code",
   "execution_count": 66,
   "metadata": {},
   "outputs": [
    {
     "data": {
      "text/html": [
       "<div>\n",
       "<style scoped>\n",
       "    .dataframe tbody tr th:only-of-type {\n",
       "        vertical-align: middle;\n",
       "    }\n",
       "\n",
       "    .dataframe tbody tr th {\n",
       "        vertical-align: top;\n",
       "    }\n",
       "\n",
       "    .dataframe thead th {\n",
       "        text-align: right;\n",
       "    }\n",
       "</style>\n",
       "<table border=\"1\" class=\"dataframe\">\n",
       "  <thead>\n",
       "    <tr style=\"text-align: right;\">\n",
       "      <th></th>\n",
       "      <th>const</th>\n",
       "      <th>Gender</th>\n",
       "      <th>Senior Citizen</th>\n",
       "      <th>Partner</th>\n",
       "      <th>Dependents</th>\n",
       "      <th>Tenure Months</th>\n",
       "      <th>Paperless Billing</th>\n",
       "      <th>churn_category</th>\n",
       "      <th>Pay_Credit card (automatic)</th>\n",
       "      <th>Pay_Electronic check</th>\n",
       "      <th>...</th>\n",
       "      <th>ML_Yes</th>\n",
       "      <th>OS_Yes</th>\n",
       "      <th>OB_Yes</th>\n",
       "      <th>DP_Yes</th>\n",
       "      <th>TS_Yes</th>\n",
       "      <th>Con_One year</th>\n",
       "      <th>Con_Two year</th>\n",
       "      <th>prob_no_Churn</th>\n",
       "      <th>prob_Churn</th>\n",
       "      <th>y_pred</th>\n",
       "    </tr>\n",
       "  </thead>\n",
       "  <tbody>\n",
       "    <tr>\n",
       "      <th>5522</th>\n",
       "      <td>1.0</td>\n",
       "      <td>1</td>\n",
       "      <td>0</td>\n",
       "      <td>1</td>\n",
       "      <td>1</td>\n",
       "      <td>20</td>\n",
       "      <td>0</td>\n",
       "      <td>0</td>\n",
       "      <td>0</td>\n",
       "      <td>0</td>\n",
       "      <td>...</td>\n",
       "      <td>0</td>\n",
       "      <td>0</td>\n",
       "      <td>0</td>\n",
       "      <td>0</td>\n",
       "      <td>0</td>\n",
       "      <td>0</td>\n",
       "      <td>1</td>\n",
       "      <td>0.991050</td>\n",
       "      <td>0.008950</td>\n",
       "      <td>0</td>\n",
       "    </tr>\n",
       "    <tr>\n",
       "      <th>3282</th>\n",
       "      <td>1.0</td>\n",
       "      <td>0</td>\n",
       "      <td>0</td>\n",
       "      <td>0</td>\n",
       "      <td>0</td>\n",
       "      <td>65</td>\n",
       "      <td>1</td>\n",
       "      <td>1</td>\n",
       "      <td>0</td>\n",
       "      <td>1</td>\n",
       "      <td>...</td>\n",
       "      <td>1</td>\n",
       "      <td>0</td>\n",
       "      <td>1</td>\n",
       "      <td>1</td>\n",
       "      <td>0</td>\n",
       "      <td>1</td>\n",
       "      <td>0</td>\n",
       "      <td>0.535140</td>\n",
       "      <td>0.464860</td>\n",
       "      <td>0</td>\n",
       "    </tr>\n",
       "    <tr>\n",
       "      <th>1432</th>\n",
       "      <td>1.0</td>\n",
       "      <td>0</td>\n",
       "      <td>1</td>\n",
       "      <td>1</td>\n",
       "      <td>0</td>\n",
       "      <td>1</td>\n",
       "      <td>1</td>\n",
       "      <td>0</td>\n",
       "      <td>0</td>\n",
       "      <td>1</td>\n",
       "      <td>...</td>\n",
       "      <td>0</td>\n",
       "      <td>0</td>\n",
       "      <td>0</td>\n",
       "      <td>0</td>\n",
       "      <td>0</td>\n",
       "      <td>0</td>\n",
       "      <td>0</td>\n",
       "      <td>0.330539</td>\n",
       "      <td>0.669461</td>\n",
       "      <td>1</td>\n",
       "    </tr>\n",
       "    <tr>\n",
       "      <th>6016</th>\n",
       "      <td>1.0</td>\n",
       "      <td>1</td>\n",
       "      <td>0</td>\n",
       "      <td>1</td>\n",
       "      <td>1</td>\n",
       "      <td>64</td>\n",
       "      <td>0</td>\n",
       "      <td>0</td>\n",
       "      <td>1</td>\n",
       "      <td>0</td>\n",
       "      <td>...</td>\n",
       "      <td>1</td>\n",
       "      <td>0</td>\n",
       "      <td>0</td>\n",
       "      <td>1</td>\n",
       "      <td>0</td>\n",
       "      <td>1</td>\n",
       "      <td>0</td>\n",
       "      <td>0.987754</td>\n",
       "      <td>0.012246</td>\n",
       "      <td>0</td>\n",
       "    </tr>\n",
       "    <tr>\n",
       "      <th>330</th>\n",
       "      <td>1.0</td>\n",
       "      <td>0</td>\n",
       "      <td>0</td>\n",
       "      <td>0</td>\n",
       "      <td>0</td>\n",
       "      <td>2</td>\n",
       "      <td>1</td>\n",
       "      <td>1</td>\n",
       "      <td>0</td>\n",
       "      <td>1</td>\n",
       "      <td>...</td>\n",
       "      <td>0</td>\n",
       "      <td>0</td>\n",
       "      <td>0</td>\n",
       "      <td>0</td>\n",
       "      <td>1</td>\n",
       "      <td>0</td>\n",
       "      <td>0</td>\n",
       "      <td>0.157547</td>\n",
       "      <td>0.842453</td>\n",
       "      <td>1</td>\n",
       "    </tr>\n",
       "  </tbody>\n",
       "</table>\n",
       "<p>5 rows × 21 columns</p>\n",
       "</div>"
      ],
      "text/plain": [
       "      const  Gender  Senior Citizen  Partner  Dependents  Tenure Months  \\\n",
       "5522    1.0       1               0        1           1             20   \n",
       "3282    1.0       0               0        0           0             65   \n",
       "1432    1.0       0               1        1           0              1   \n",
       "6016    1.0       1               0        1           1             64   \n",
       "330     1.0       0               0        0           0              2   \n",
       "\n",
       "      Paperless Billing  churn_category  Pay_Credit card (automatic)  \\\n",
       "5522                  0               0                            0   \n",
       "3282                  1               1                            0   \n",
       "1432                  1               0                            0   \n",
       "6016                  0               0                            1   \n",
       "330                   1               1                            0   \n",
       "\n",
       "      Pay_Electronic check  ...  ML_Yes  OS_Yes  OB_Yes  DP_Yes  TS_Yes  \\\n",
       "5522                     0  ...       0       0       0       0       0   \n",
       "3282                     1  ...       1       0       1       1       0   \n",
       "1432                     1  ...       0       0       0       0       0   \n",
       "6016                     0  ...       1       0       0       1       0   \n",
       "330                      1  ...       0       0       0       0       1   \n",
       "\n",
       "      Con_One year  Con_Two year  prob_no_Churn  prob_Churn  y_pred  \n",
       "5522             0             1       0.991050    0.008950       0  \n",
       "3282             1             0       0.535140    0.464860       0  \n",
       "1432             0             0       0.330539    0.669461       1  \n",
       "6016             1             0       0.987754    0.012246       0  \n",
       "330              0             0       0.157547    0.842453       1  \n",
       "\n",
       "[5 rows x 21 columns]"
      ]
     },
     "execution_count": 66,
     "metadata": {},
     "output_type": "execute_result"
    }
   ],
   "source": [
    "# print the X_train feature head\n",
    "X_train_f.head()"
   ]
  },
  {
   "cell_type": "code",
   "execution_count": 67,
   "metadata": {
    "id": "7eTj__EIktwq"
   },
   "outputs": [],
   "source": [
    "# define the feature cloumns that were selected using stepwise\n",
    "feature_cols_2 = ['Tenure Months', 'churn_category', 'Pay_Electronic check', 'Dependents', 'Paperless Billing', 'ML_Yes', 'Con_One year', 'Con_Two year', 'Senior Citizen', 'OS_Yes', 'Pay_Mailed check']\n"
   ]
  },
  {
   "cell_type": "code",
   "execution_count": 68,
   "metadata": {
    "id": "w_e92brLktwq"
   },
   "outputs": [],
   "source": [
    "# define the x_train_2 and y_train_2 and add constant\n",
    "x_train_2 = X_train_f[feature_cols_2]\n",
    "y_train_2 = y_train\n",
    "x_train_2 = sm.add_constant(x_train_2, has_constant= 'skip')"
   ]
  },
  {
   "cell_type": "code",
   "execution_count": 69,
   "metadata": {},
   "outputs": [
    {
     "data": {
      "text/html": [
       "<div>\n",
       "<style scoped>\n",
       "    .dataframe tbody tr th:only-of-type {\n",
       "        vertical-align: middle;\n",
       "    }\n",
       "\n",
       "    .dataframe tbody tr th {\n",
       "        vertical-align: top;\n",
       "    }\n",
       "\n",
       "    .dataframe thead th {\n",
       "        text-align: right;\n",
       "    }\n",
       "</style>\n",
       "<table border=\"1\" class=\"dataframe\">\n",
       "  <thead>\n",
       "    <tr style=\"text-align: right;\">\n",
       "      <th></th>\n",
       "      <th>const</th>\n",
       "      <th>Tenure Months</th>\n",
       "      <th>churn_category</th>\n",
       "      <th>Pay_Electronic check</th>\n",
       "      <th>Dependents</th>\n",
       "      <th>Paperless Billing</th>\n",
       "      <th>ML_Yes</th>\n",
       "      <th>Con_One year</th>\n",
       "      <th>Con_Two year</th>\n",
       "      <th>Senior Citizen</th>\n",
       "      <th>OS_Yes</th>\n",
       "      <th>Pay_Mailed check</th>\n",
       "    </tr>\n",
       "  </thead>\n",
       "  <tbody>\n",
       "    <tr>\n",
       "      <th>5522</th>\n",
       "      <td>1.0</td>\n",
       "      <td>20</td>\n",
       "      <td>0</td>\n",
       "      <td>0</td>\n",
       "      <td>1</td>\n",
       "      <td>0</td>\n",
       "      <td>0</td>\n",
       "      <td>0</td>\n",
       "      <td>1</td>\n",
       "      <td>0</td>\n",
       "      <td>0</td>\n",
       "      <td>1</td>\n",
       "    </tr>\n",
       "    <tr>\n",
       "      <th>3282</th>\n",
       "      <td>1.0</td>\n",
       "      <td>65</td>\n",
       "      <td>1</td>\n",
       "      <td>1</td>\n",
       "      <td>0</td>\n",
       "      <td>1</td>\n",
       "      <td>1</td>\n",
       "      <td>1</td>\n",
       "      <td>0</td>\n",
       "      <td>0</td>\n",
       "      <td>0</td>\n",
       "      <td>0</td>\n",
       "    </tr>\n",
       "    <tr>\n",
       "      <th>1432</th>\n",
       "      <td>1.0</td>\n",
       "      <td>1</td>\n",
       "      <td>0</td>\n",
       "      <td>1</td>\n",
       "      <td>0</td>\n",
       "      <td>1</td>\n",
       "      <td>0</td>\n",
       "      <td>0</td>\n",
       "      <td>0</td>\n",
       "      <td>1</td>\n",
       "      <td>0</td>\n",
       "      <td>0</td>\n",
       "    </tr>\n",
       "    <tr>\n",
       "      <th>6016</th>\n",
       "      <td>1.0</td>\n",
       "      <td>64</td>\n",
       "      <td>0</td>\n",
       "      <td>0</td>\n",
       "      <td>1</td>\n",
       "      <td>0</td>\n",
       "      <td>1</td>\n",
       "      <td>1</td>\n",
       "      <td>0</td>\n",
       "      <td>0</td>\n",
       "      <td>0</td>\n",
       "      <td>0</td>\n",
       "    </tr>\n",
       "    <tr>\n",
       "      <th>330</th>\n",
       "      <td>1.0</td>\n",
       "      <td>2</td>\n",
       "      <td>1</td>\n",
       "      <td>1</td>\n",
       "      <td>0</td>\n",
       "      <td>1</td>\n",
       "      <td>0</td>\n",
       "      <td>0</td>\n",
       "      <td>0</td>\n",
       "      <td>0</td>\n",
       "      <td>0</td>\n",
       "      <td>0</td>\n",
       "    </tr>\n",
       "    <tr>\n",
       "      <th>...</th>\n",
       "      <td>...</td>\n",
       "      <td>...</td>\n",
       "      <td>...</td>\n",
       "      <td>...</td>\n",
       "      <td>...</td>\n",
       "      <td>...</td>\n",
       "      <td>...</td>\n",
       "      <td>...</td>\n",
       "      <td>...</td>\n",
       "      <td>...</td>\n",
       "      <td>...</td>\n",
       "      <td>...</td>\n",
       "    </tr>\n",
       "    <tr>\n",
       "      <th>6694</th>\n",
       "      <td>1.0</td>\n",
       "      <td>70</td>\n",
       "      <td>0</td>\n",
       "      <td>0</td>\n",
       "      <td>1</td>\n",
       "      <td>1</td>\n",
       "      <td>1</td>\n",
       "      <td>0</td>\n",
       "      <td>1</td>\n",
       "      <td>0</td>\n",
       "      <td>1</td>\n",
       "      <td>0</td>\n",
       "    </tr>\n",
       "    <tr>\n",
       "      <th>968</th>\n",
       "      <td>1.0</td>\n",
       "      <td>24</td>\n",
       "      <td>0</td>\n",
       "      <td>0</td>\n",
       "      <td>0</td>\n",
       "      <td>1</td>\n",
       "      <td>0</td>\n",
       "      <td>0</td>\n",
       "      <td>0</td>\n",
       "      <td>0</td>\n",
       "      <td>0</td>\n",
       "      <td>0</td>\n",
       "    </tr>\n",
       "    <tr>\n",
       "      <th>4397</th>\n",
       "      <td>1.0</td>\n",
       "      <td>28</td>\n",
       "      <td>0</td>\n",
       "      <td>0</td>\n",
       "      <td>1</td>\n",
       "      <td>1</td>\n",
       "      <td>0</td>\n",
       "      <td>1</td>\n",
       "      <td>0</td>\n",
       "      <td>0</td>\n",
       "      <td>0</td>\n",
       "      <td>0</td>\n",
       "    </tr>\n",
       "    <tr>\n",
       "      <th>4769</th>\n",
       "      <td>1.0</td>\n",
       "      <td>2</td>\n",
       "      <td>0</td>\n",
       "      <td>0</td>\n",
       "      <td>0</td>\n",
       "      <td>0</td>\n",
       "      <td>0</td>\n",
       "      <td>0</td>\n",
       "      <td>0</td>\n",
       "      <td>0</td>\n",
       "      <td>1</td>\n",
       "      <td>1</td>\n",
       "    </tr>\n",
       "    <tr>\n",
       "      <th>4563</th>\n",
       "      <td>1.0</td>\n",
       "      <td>51</td>\n",
       "      <td>0</td>\n",
       "      <td>1</td>\n",
       "      <td>1</td>\n",
       "      <td>1</td>\n",
       "      <td>1</td>\n",
       "      <td>1</td>\n",
       "      <td>0</td>\n",
       "      <td>0</td>\n",
       "      <td>0</td>\n",
       "      <td>0</td>\n",
       "    </tr>\n",
       "  </tbody>\n",
       "</table>\n",
       "<p>5274 rows × 12 columns</p>\n",
       "</div>"
      ],
      "text/plain": [
       "      const  Tenure Months  churn_category  Pay_Electronic check  Dependents  \\\n",
       "5522    1.0             20               0                     0           1   \n",
       "3282    1.0             65               1                     1           0   \n",
       "1432    1.0              1               0                     1           0   \n",
       "6016    1.0             64               0                     0           1   \n",
       "330     1.0              2               1                     1           0   \n",
       "...     ...            ...             ...                   ...         ...   \n",
       "6694    1.0             70               0                     0           1   \n",
       "968     1.0             24               0                     0           0   \n",
       "4397    1.0             28               0                     0           1   \n",
       "4769    1.0              2               0                     0           0   \n",
       "4563    1.0             51               0                     1           1   \n",
       "\n",
       "      Paperless Billing  ML_Yes  Con_One year  Con_Two year  Senior Citizen  \\\n",
       "5522                  0       0             0             1               0   \n",
       "3282                  1       1             1             0               0   \n",
       "1432                  1       0             0             0               1   \n",
       "6016                  0       1             1             0               0   \n",
       "330                   1       0             0             0               0   \n",
       "...                 ...     ...           ...           ...             ...   \n",
       "6694                  1       1             0             1               0   \n",
       "968                   1       0             0             0               0   \n",
       "4397                  1       0             1             0               0   \n",
       "4769                  0       0             0             0               0   \n",
       "4563                  1       1             1             0               0   \n",
       "\n",
       "      OS_Yes  Pay_Mailed check  \n",
       "5522       0                 1  \n",
       "3282       0                 0  \n",
       "1432       0                 0  \n",
       "6016       0                 0  \n",
       "330        0                 0  \n",
       "...      ...               ...  \n",
       "6694       1                 0  \n",
       "968        0                 0  \n",
       "4397       0                 0  \n",
       "4769       1                 1  \n",
       "4563       0                 0  \n",
       "\n",
       "[5274 rows x 12 columns]"
      ]
     },
     "execution_count": 69,
     "metadata": {},
     "output_type": "execute_result"
    }
   ],
   "source": [
    "x_train_2"
   ]
  },
  {
   "cell_type": "code",
   "execution_count": 70,
   "metadata": {},
   "outputs": [
    {
     "name": "stdout",
     "output_type": "stream",
     "text": [
      "Optimization terminated successfully.\n",
      "         Current function value: 0.390339\n",
      "         Iterations 8\n"
     ]
    }
   ],
   "source": [
    "# define the model\n",
    "log_reg_2 = sm.Logit(y_train_2 ,x_train_2).fit()"
   ]
  },
  {
   "cell_type": "code",
   "execution_count": 71,
   "metadata": {},
   "outputs": [
    {
     "data": {
      "text/html": [
       "<table class=\"simpletable\">\n",
       "<caption>Logit Regression Results</caption>\n",
       "<tr>\n",
       "  <th>Dep. Variable:</th>      <td>Churn Value</td>   <th>  No. Observations:  </th>  <td>  5274</td> \n",
       "</tr>\n",
       "<tr>\n",
       "  <th>Model:</th>                 <td>Logit</td>      <th>  Df Residuals:      </th>  <td>  5262</td> \n",
       "</tr>\n",
       "<tr>\n",
       "  <th>Method:</th>                 <td>MLE</td>       <th>  Df Model:          </th>  <td>    11</td> \n",
       "</tr>\n",
       "<tr>\n",
       "  <th>Date:</th>            <td>Fri, 03 Mar 2023</td> <th>  Pseudo R-squ.:     </th>  <td>0.3188</td> \n",
       "</tr>\n",
       "<tr>\n",
       "  <th>Time:</th>                <td>00:00:45</td>     <th>  Log-Likelihood:    </th> <td> -2058.6</td>\n",
       "</tr>\n",
       "<tr>\n",
       "  <th>converged:</th>             <td>True</td>       <th>  LL-Null:           </th> <td> -3022.1</td>\n",
       "</tr>\n",
       "<tr>\n",
       "  <th>Covariance Type:</th>     <td>nonrobust</td>    <th>  LLR p-value:       </th>  <td> 0.000</td> \n",
       "</tr>\n",
       "</table>\n",
       "<table class=\"simpletable\">\n",
       "<tr>\n",
       "            <td></td>              <th>coef</th>     <th>std err</th>      <th>z</th>      <th>P>|z|</th>  <th>[0.025</th>    <th>0.975]</th>  \n",
       "</tr>\n",
       "<tr>\n",
       "  <th>const</th>                <td>   -0.7875</td> <td>    0.109</td> <td>   -7.219</td> <td> 0.000</td> <td>   -1.001</td> <td>   -0.574</td>\n",
       "</tr>\n",
       "<tr>\n",
       "  <th>Tenure Months</th>        <td>   -0.0288</td> <td>    0.003</td> <td>  -11.077</td> <td> 0.000</td> <td>   -0.034</td> <td>   -0.024</td>\n",
       "</tr>\n",
       "<tr>\n",
       "  <th>churn_category</th>       <td>    1.6286</td> <td>    0.100</td> <td>   16.361</td> <td> 0.000</td> <td>    1.434</td> <td>    1.824</td>\n",
       "</tr>\n",
       "<tr>\n",
       "  <th>Pay_Electronic check</th> <td>    0.5393</td> <td>    0.092</td> <td>    5.868</td> <td> 0.000</td> <td>    0.359</td> <td>    0.719</td>\n",
       "</tr>\n",
       "<tr>\n",
       "  <th>Dependents</th>           <td>   -1.4384</td> <td>    0.130</td> <td>  -11.091</td> <td> 0.000</td> <td>   -1.693</td> <td>   -1.184</td>\n",
       "</tr>\n",
       "<tr>\n",
       "  <th>Paperless Billing</th>    <td>    0.5954</td> <td>    0.086</td> <td>    6.886</td> <td> 0.000</td> <td>    0.426</td> <td>    0.765</td>\n",
       "</tr>\n",
       "<tr>\n",
       "  <th>ML_Yes</th>               <td>    0.6184</td> <td>    0.089</td> <td>    6.970</td> <td> 0.000</td> <td>    0.445</td> <td>    0.792</td>\n",
       "</tr>\n",
       "<tr>\n",
       "  <th>Con_One year</th>         <td>   -0.9394</td> <td>    0.126</td> <td>   -7.467</td> <td> 0.000</td> <td>   -1.186</td> <td>   -0.693</td>\n",
       "</tr>\n",
       "<tr>\n",
       "  <th>Con_Two year</th>         <td>   -1.7922</td> <td>    0.205</td> <td>   -8.763</td> <td> 0.000</td> <td>   -2.193</td> <td>   -1.391</td>\n",
       "</tr>\n",
       "<tr>\n",
       "  <th>Senior Citizen</th>       <td>    0.2778</td> <td>    0.101</td> <td>    2.747</td> <td> 0.006</td> <td>    0.080</td> <td>    0.476</td>\n",
       "</tr>\n",
       "<tr>\n",
       "  <th>OS_Yes</th>               <td>   -0.3194</td> <td>    0.100</td> <td>   -3.195</td> <td> 0.001</td> <td>   -0.515</td> <td>   -0.123</td>\n",
       "</tr>\n",
       "<tr>\n",
       "  <th>Pay_Mailed check</th>     <td>   -0.2558</td> <td>    0.115</td> <td>   -2.223</td> <td> 0.026</td> <td>   -0.481</td> <td>   -0.030</td>\n",
       "</tr>\n",
       "</table>"
      ],
      "text/plain": [
       "<class 'statsmodels.iolib.summary.Summary'>\n",
       "\"\"\"\n",
       "                           Logit Regression Results                           \n",
       "==============================================================================\n",
       "Dep. Variable:            Churn Value   No. Observations:                 5274\n",
       "Model:                          Logit   Df Residuals:                     5262\n",
       "Method:                           MLE   Df Model:                           11\n",
       "Date:                Fri, 03 Mar 2023   Pseudo R-squ.:                  0.3188\n",
       "Time:                        00:00:45   Log-Likelihood:                -2058.6\n",
       "converged:                       True   LL-Null:                       -3022.1\n",
       "Covariance Type:            nonrobust   LLR p-value:                     0.000\n",
       "========================================================================================\n",
       "                           coef    std err          z      P>|z|      [0.025      0.975]\n",
       "----------------------------------------------------------------------------------------\n",
       "const                   -0.7875      0.109     -7.219      0.000      -1.001      -0.574\n",
       "Tenure Months           -0.0288      0.003    -11.077      0.000      -0.034      -0.024\n",
       "churn_category           1.6286      0.100     16.361      0.000       1.434       1.824\n",
       "Pay_Electronic check     0.5393      0.092      5.868      0.000       0.359       0.719\n",
       "Dependents              -1.4384      0.130    -11.091      0.000      -1.693      -1.184\n",
       "Paperless Billing        0.5954      0.086      6.886      0.000       0.426       0.765\n",
       "ML_Yes                   0.6184      0.089      6.970      0.000       0.445       0.792\n",
       "Con_One year            -0.9394      0.126     -7.467      0.000      -1.186      -0.693\n",
       "Con_Two year            -1.7922      0.205     -8.763      0.000      -2.193      -1.391\n",
       "Senior Citizen           0.2778      0.101      2.747      0.006       0.080       0.476\n",
       "OS_Yes                  -0.3194      0.100     -3.195      0.001      -0.515      -0.123\n",
       "Pay_Mailed check        -0.2558      0.115     -2.223      0.026      -0.481      -0.030\n",
       "========================================================================================\n",
       "\"\"\""
      ]
     },
     "execution_count": 71,
     "metadata": {},
     "output_type": "execute_result"
    }
   ],
   "source": [
    "log_reg_2.summary()"
   ]
  },
  {
   "cell_type": "code",
   "execution_count": 72,
   "metadata": {
    "id": "GoOaLB1Xktwr"
   },
   "outputs": [],
   "source": [
    "# define the model using data from stepwise\n",
    "lr_2 = LogisticRegression(max_iter=300, random_state=10)\n"
   ]
  },
  {
   "cell_type": "code",
   "execution_count": 73,
   "metadata": {
    "colab": {
     "base_uri": "https://localhost:8080/"
    },
    "id": "L2318Boaktwr",
    "outputId": "9e17f9c0-a2d9-4068-b8d0-fed23052dc8d"
   },
   "outputs": [
    {
     "data": {
      "text/plain": [
       "LogisticRegression(max_iter=300, random_state=10)"
      ]
     },
     "execution_count": 73,
     "metadata": {},
     "output_type": "execute_result"
    }
   ],
   "source": [
    "# fit the model\n",
    "lr_2.fit(x_train_2, y_train_2)\n"
   ]
  },
  {
   "cell_type": "code",
   "execution_count": 74,
   "metadata": {
    "colab": {
     "base_uri": "https://localhost:8080/"
    },
    "id": "-bdU18E3ktwr",
    "outputId": "be545e7c-5603-405e-b189-927059012f6c"
   },
   "outputs": [
    {
     "data": {
      "text/plain": [
       "array([[0.99151336, 0.00848664],\n",
       "       [0.55834751, 0.44165249],\n",
       "       [0.35390011, 0.64609989],\n",
       "       ...,\n",
       "       [0.96566577, 0.03433423],\n",
       "       [0.80466196, 0.19533804],\n",
       "       [0.94558567, 0.05441433]])"
      ]
     },
     "execution_count": 74,
     "metadata": {},
     "output_type": "execute_result"
    }
   ],
   "source": [
    "# predict the probability\n",
    "lr_2.predict_proba(x_train_2)\n"
   ]
  },
  {
   "cell_type": "code",
   "execution_count": 75,
   "metadata": {
    "id": "TnWayxE_ktwr"
   },
   "outputs": [],
   "source": [
    "# add the prob no churn and prob churn\n",
    "x_train_2[['prob_no_Churn', 'prob_Churn']] = lr_2.predict_proba(x_train_2)\n"
   ]
  },
  {
   "cell_type": "code",
   "execution_count": 76,
   "metadata": {
    "id": "iC7ZAhBgktwr"
   },
   "outputs": [],
   "source": [
    "# decide the cutoff point\n",
    "cut_off = 0.50\n",
    "x_train_2['y_pred_2'] = np.where(x_train_2['prob_Churn']>= cut_off, 1, 0)"
   ]
  },
  {
   "cell_type": "code",
   "execution_count": 77,
   "metadata": {
    "colab": {
     "base_uri": "https://localhost:8080/"
    },
    "id": "T5zgfjc9ktws",
    "outputId": "6a2f1d3e-9440-4928-8d79-7e103a5b6945"
   },
   "outputs": [
    {
     "name": "stdout",
     "output_type": "stream",
     "text": [
      "The confusion matrix for the Churning predictions is:\n",
      "[[3573  654]\n",
      " [ 330  717]] \n",
      "\n",
      "The accuracy of the Churning prediction model is: 0.8134243458475541\n",
      "The recall of the Churning prediction model is: 0.6848137535816619\n",
      "The precision of the Churning prediction model is: 0.5229759299781181\n",
      "The F1-score of the Churning prediction model is: 0.5930521091811415\n"
     ]
    }
   ],
   "source": [
    "# print the results\n",
    "get_results(y_train_2, x_train_2['y_pred_2'])\n"
   ]
  },
  {
   "cell_type": "code",
   "execution_count": 78,
   "metadata": {
    "colab": {
     "base_uri": "https://localhost:8080/",
     "height": 279
    },
    "id": "Q-2FyMw7ktws",
    "outputId": "53ba8659-4ec0-4036-ef40-3a7d2a8018c3"
   },
   "outputs": [
    {
     "data": {
      "image/png": "[encoded data removed]",
      "text/plain": [
       "<Figure size 504x360 with 2 Axes>"
      ]
     },
     "metadata": {},
     "output_type": "display_data"
    }
   ],
   "source": [
    "# display the confusion matrix\n",
    "cm = metrics.confusion_matrix(y_train_2,x_train_2['y_pred_2'])\n",
    "sns.set(font_scale=1.2)\n",
    "fig, ax = plt.subplots(figsize=(7, 5))\n",
    "sns.heatmap(cm, annot=True, fmt='g', cmap='cividis', cbar_kws={'label': 'Count'}, ax=ax)\n",
    "ax.set_xlabel('Predicted label', fontsize=14)\n",
    "ax.set_ylabel('True label', fontsize=14)\n",
    "ax.set_title('Confusion Matrix', fontsize=16,fontweight=\"bold\")\n",
    "\n",
    "plt.show()"
   ]
  },
  {
   "cell_type": "markdown",
   "metadata": {
    "id": "4Uvg3p4Aktws"
   },
   "source": [
    "### Model 3 (using VIF - Variance Inflation Factor)\n"
   ]
  },
  {
   "cell_type": "code",
   "execution_count": 79,
   "metadata": {
    "id": "FnYC9BUEktws"
   },
   "outputs": [],
   "source": [
    "\n",
    "## If any of them have a higher VIF than 5, it drops the max.\n",
    "## Then it keeps going until none of them have a higher VIF than 5.\n",
    "## This leaves us with a nice set of features with no collineraity\n",
    "from statsmodels.stats.outliers_influence import variance_inflation_factor # a module to evaluate the variance inflation factor (VIF)\n",
    "def calculate_vif(X, thresh=5.0):\n",
    "    variables = list(range(X.shape[1]))\n",
    "    dropped = True\n",
    "    while dropped:\n",
    "        dropped = False\n",
    "        # this bit uses list comprehension to gather all the VIF values of the different variables\n",
    "        vif = [variance_inflation_factor(X.iloc[:, variables].values, ix)\n",
    "               for ix in range(X.iloc[:, variables].shape[1])]\n",
    "\n",
    "        maxloc = vif.index(max(vif))  # getting the index of the highest VIF value\n",
    "        if max(vif) > thresh:\n",
    "            print('dropping \\'' + X.iloc[:, variables].columns[maxloc] +\n",
    "                  '\\' at index: ' + str(maxloc))\n",
    "            del variables[maxloc]  # we delete the highest VIF value on condition that it's higher than the threshold\n",
    "            dropped = True  # if we deleted anything, we set the 'dropped' value to True to stay in the while loop\n",
    "\n",
    "    print('Remaining variables:')\n",
    "    print(X.columns[variables])  # finally, we print the variables that are still in our set\n",
    "    return X.iloc[:, variables]  # and return our X cut down to the remaining variables"
   ]
  },
  {
   "cell_type": "code",
   "execution_count": 80,
   "metadata": {
    "colab": {
     "base_uri": "https://localhost:8080/"
    },
    "id": "GmhZCtGnktws",
    "outputId": "59fa5625-2def-4137-dcb9-5b6e6136c06d"
   },
   "outputs": [
    {
     "name": "stdout",
     "output_type": "stream",
     "text": [
      "dropping 'Tenure Months' at index: 0\n",
      "Remaining variables:\n",
      "Index(['churn_category', 'Pay_Electronic check', 'Dependents',\n",
      "       'Paperless Billing', 'ML_Yes', 'Con_One year', 'Con_Two year',\n",
      "       'Senior Citizen', 'OS_Yes', 'Pay_Mailed check'],\n",
      "      dtype='object')\n"
     ]
    }
   ],
   "source": [
    "X_train_3 = calculate_vif(X_train_f[['Tenure Months', 'churn_category', 'Pay_Electronic check', 'Dependents', \n",
    "                                     'Paperless Billing', 'ML_Yes', 'Con_One year',\n",
    "                                     'Con_Two year', 'Senior Citizen', 'OS_Yes', 'Pay_Mailed check']])"
   ]
  },
  {
   "cell_type": "code",
   "execution_count": 81,
   "metadata": {
    "id": "X7XahArzktws"
   },
   "outputs": [],
   "source": [
    "# define the feature columns\n",
    "feature_cols_3 = ['churn_category', 'Pay_Electronic check', 'Dependents', \n",
    "                                     'Paperless Billing', 'ML_Yes', 'Con_One year',\n",
    "                                     'Con_Two year', 'Senior Citizen', 'OS_Yes', 'Pay_Mailed check']"
   ]
  },
  {
   "cell_type": "code",
   "execution_count": 82,
   "metadata": {
    "id": "glEtw6FPktwt"
   },
   "outputs": [],
   "source": [
    "# define the x_train_3 and y_train_3 and add constant\n",
    "x_train_3 = X_train_f[feature_cols_3]\n",
    "y_train_3 = y_train\n",
    "x_train_3 = sm.add_constant(x_train_3, has_constant= 'skip')"
   ]
  },
  {
   "cell_type": "code",
   "execution_count": 83,
   "metadata": {},
   "outputs": [
    {
     "name": "stdout",
     "output_type": "stream",
     "text": [
      "Optimization terminated successfully.\n",
      "         Current function value: 0.402666\n",
      "         Iterations 8\n"
     ]
    }
   ],
   "source": [
    "# define the model\n",
    "log_reg_3 = sm.Logit(y_train_3 ,x_train_3).fit()"
   ]
  },
  {
   "cell_type": "code",
   "execution_count": 84,
   "metadata": {},
   "outputs": [
    {
     "data": {
      "text/html": [
       "<table class=\"simpletable\">\n",
       "<caption>Logit Regression Results</caption>\n",
       "<tr>\n",
       "  <th>Dep. Variable:</th>      <td>Churn Value</td>   <th>  No. Observations:  </th>  <td>  5274</td> \n",
       "</tr>\n",
       "<tr>\n",
       "  <th>Model:</th>                 <td>Logit</td>      <th>  Df Residuals:      </th>  <td>  5263</td> \n",
       "</tr>\n",
       "<tr>\n",
       "  <th>Method:</th>                 <td>MLE</td>       <th>  Df Model:          </th>  <td>    10</td> \n",
       "</tr>\n",
       "<tr>\n",
       "  <th>Date:</th>            <td>Fri, 03 Mar 2023</td> <th>  Pseudo R-squ.:     </th>  <td>0.2973</td> \n",
       "</tr>\n",
       "<tr>\n",
       "  <th>Time:</th>                <td>00:00:46</td>     <th>  Log-Likelihood:    </th> <td> -2123.7</td>\n",
       "</tr>\n",
       "<tr>\n",
       "  <th>converged:</th>             <td>True</td>       <th>  LL-Null:           </th> <td> -3022.1</td>\n",
       "</tr>\n",
       "<tr>\n",
       "  <th>Covariance Type:</th>     <td>nonrobust</td>    <th>  LLR p-value:       </th>  <td> 0.000</td> \n",
       "</tr>\n",
       "</table>\n",
       "<table class=\"simpletable\">\n",
       "<tr>\n",
       "            <td></td>              <th>coef</th>     <th>std err</th>      <th>z</th>      <th>P>|z|</th>  <th>[0.025</th>    <th>0.975]</th>  \n",
       "</tr>\n",
       "<tr>\n",
       "  <th>const</th>                <td>   -1.1585</td> <td>    0.104</td> <td>  -11.157</td> <td> 0.000</td> <td>   -1.362</td> <td>   -0.955</td>\n",
       "</tr>\n",
       "<tr>\n",
       "  <th>churn_category</th>       <td>    1.6152</td> <td>    0.097</td> <td>   16.623</td> <td> 0.000</td> <td>    1.425</td> <td>    1.806</td>\n",
       "</tr>\n",
       "<tr>\n",
       "  <th>Pay_Electronic check</th> <td>    0.6627</td> <td>    0.089</td> <td>    7.417</td> <td> 0.000</td> <td>    0.488</td> <td>    0.838</td>\n",
       "</tr>\n",
       "<tr>\n",
       "  <th>Dependents</th>           <td>   -1.4999</td> <td>    0.129</td> <td>  -11.647</td> <td> 0.000</td> <td>   -1.752</td> <td>   -1.248</td>\n",
       "</tr>\n",
       "<tr>\n",
       "  <th>Paperless Billing</th>    <td>    0.5094</td> <td>    0.085</td> <td>    6.003</td> <td> 0.000</td> <td>    0.343</td> <td>    0.676</td>\n",
       "</tr>\n",
       "<tr>\n",
       "  <th>ML_Yes</th>               <td>    0.2798</td> <td>    0.081</td> <td>    3.449</td> <td> 0.001</td> <td>    0.121</td> <td>    0.439</td>\n",
       "</tr>\n",
       "<tr>\n",
       "  <th>Con_One year</th>         <td>   -1.5583</td> <td>    0.114</td> <td>  -13.667</td> <td> 0.000</td> <td>   -1.782</td> <td>   -1.335</td>\n",
       "</tr>\n",
       "<tr>\n",
       "  <th>Con_Two year</th>         <td>   -2.7337</td> <td>    0.187</td> <td>  -14.590</td> <td> 0.000</td> <td>   -3.101</td> <td>   -2.367</td>\n",
       "</tr>\n",
       "<tr>\n",
       "  <th>Senior Citizen</th>       <td>    0.1502</td> <td>    0.098</td> <td>    1.540</td> <td> 0.124</td> <td>   -0.041</td> <td>    0.341</td>\n",
       "</tr>\n",
       "<tr>\n",
       "  <th>OS_Yes</th>               <td>   -0.5029</td> <td>    0.097</td> <td>   -5.180</td> <td> 0.000</td> <td>   -0.693</td> <td>   -0.313</td>\n",
       "</tr>\n",
       "<tr>\n",
       "  <th>Pay_Mailed check</th>     <td>    0.0304</td> <td>    0.111</td> <td>    0.273</td> <td> 0.785</td> <td>   -0.188</td> <td>    0.249</td>\n",
       "</tr>\n",
       "</table>"
      ],
      "text/plain": [
       "<class 'statsmodels.iolib.summary.Summary'>\n",
       "\"\"\"\n",
       "                           Logit Regression Results                           \n",
       "==============================================================================\n",
       "Dep. Variable:            Churn Value   No. Observations:                 5274\n",
       "Model:                          Logit   Df Residuals:                     5263\n",
       "Method:                           MLE   Df Model:                           10\n",
       "Date:                Fri, 03 Mar 2023   Pseudo R-squ.:                  0.2973\n",
       "Time:                        00:00:46   Log-Likelihood:                -2123.7\n",
       "converged:                       True   LL-Null:                       -3022.1\n",
       "Covariance Type:            nonrobust   LLR p-value:                     0.000\n",
       "========================================================================================\n",
       "                           coef    std err          z      P>|z|      [0.025      0.975]\n",
       "----------------------------------------------------------------------------------------\n",
       "const                   -1.1585      0.104    -11.157      0.000      -1.362      -0.955\n",
       "churn_category           1.6152      0.097     16.623      0.000       1.425       1.806\n",
       "Pay_Electronic check     0.6627      0.089      7.417      0.000       0.488       0.838\n",
       "Dependents              -1.4999      0.129    -11.647      0.000      -1.752      -1.248\n",
       "Paperless Billing        0.5094      0.085      6.003      0.000       0.343       0.676\n",
       "ML_Yes                   0.2798      0.081      3.449      0.001       0.121       0.439\n",
       "Con_One year            -1.5583      0.114    -13.667      0.000      -1.782      -1.335\n",
       "Con_Two year            -2.7337      0.187    -14.590      0.000      -3.101      -2.367\n",
       "Senior Citizen           0.1502      0.098      1.540      0.124      -0.041       0.341\n",
       "OS_Yes                  -0.5029      0.097     -5.180      0.000      -0.693      -0.313\n",
       "Pay_Mailed check         0.0304      0.111      0.273      0.785      -0.188       0.249\n",
       "========================================================================================\n",
       "\"\"\""
      ]
     },
     "execution_count": 84,
     "metadata": {},
     "output_type": "execute_result"
    }
   ],
   "source": [
    "log_reg_3.summary()"
   ]
  },
  {
   "cell_type": "code",
   "execution_count": 85,
   "metadata": {
    "id": "Q-S9wfAZktwt"
   },
   "outputs": [],
   "source": [
    "# define the model\n",
    "lr_3 = LogisticRegression(max_iter=300, random_state=10)\n"
   ]
  },
  {
   "cell_type": "code",
   "execution_count": 86,
   "metadata": {
    "colab": {
     "base_uri": "https://localhost:8080/"
    },
    "id": "kGtL-uNEktwt",
    "outputId": "70ebf720-aad1-427e-87a8-6b6a9641ea30"
   },
   "outputs": [
    {
     "data": {
      "text/plain": [
       "LogisticRegression(max_iter=300, random_state=10)"
      ]
     },
     "execution_count": 86,
     "metadata": {},
     "output_type": "execute_result"
    }
   ],
   "source": [
    "# fit the model\n",
    "lr_3.fit(x_train_3, y_train_3)\n"
   ]
  },
  {
   "cell_type": "code",
   "execution_count": 87,
   "metadata": {
    "colab": {
     "base_uri": "https://localhost:8080/"
    },
    "id": "-N3PaRfXktwt",
    "outputId": "f93102df-be3b-45d0-d22f-51e8c7a0d57d"
   },
   "outputs": [
    {
     "data": {
      "text/plain": [
       "array([[0.99476998, 0.00523002],\n",
       "       [0.41397181, 0.58602819],\n",
       "       [0.45900054, 0.54099946],\n",
       "       ...,\n",
       "       [0.97493364, 0.02506636],\n",
       "       [0.83710695, 0.16289305],\n",
       "       [0.93834121, 0.06165879]])"
      ]
     },
     "execution_count": 87,
     "metadata": {},
     "output_type": "execute_result"
    }
   ],
   "source": [
    "# predict the probability\n",
    "lr_3.predict_proba(x_train_3)\n"
   ]
  },
  {
   "cell_type": "code",
   "execution_count": 88,
   "metadata": {
    "id": "bqihVlTgktwt"
   },
   "outputs": [],
   "source": [
    "# add prob no churn and prob churn\n",
    "x_train_3[['prob_no_Churn', 'prob_Churn']] = lr_3.predict_proba(x_train_3)\n"
   ]
  },
  {
   "cell_type": "code",
   "execution_count": 89,
   "metadata": {
    "id": "vph4SBBrktwu"
   },
   "outputs": [],
   "source": [
    "# decide the cutoff point\n",
    "cut_off = 0.50\n",
    "x_train_3['y_pred_3'] = np.where(x_train_3['prob_Churn']>= cut_off, 1, 0)"
   ]
  },
  {
   "cell_type": "code",
   "execution_count": 90,
   "metadata": {
    "colab": {
     "base_uri": "https://localhost:8080/"
    },
    "id": "3dWVxrHOktwu",
    "outputId": "fee3b10b-3cdb-4b26-dae7-e1d763209207"
   },
   "outputs": [
    {
     "name": "stdout",
     "output_type": "stream",
     "text": [
      "The confusion matrix for the Churning predictions is:\n",
      "[[3513  647]\n",
      " [ 390  724]] \n",
      "\n",
      "The accuracy of the Churning prediction model is: 0.8033750474023511\n",
      "The recall of the Churning prediction model is: 0.6499102333931778\n",
      "The precision of the Churning prediction model is: 0.5280816921954777\n",
      "The F1-score of the Churning prediction model is: 0.5826961770623743\n"
     ]
    }
   ],
   "source": [
    "# print the results\n",
    "get_results(y_train_3, x_train_3['y_pred_3'])\n"
   ]
  },
  {
   "cell_type": "code",
   "execution_count": 91,
   "metadata": {
    "colab": {
     "base_uri": "https://localhost:8080/",
     "height": 280
    },
    "id": "BElMtDMuktwu",
    "outputId": "2f42b0c8-3b95-4a88-b4ac-25dff44b1094"
   },
   "outputs": [
    {
     "data": {
      "image/png": "[encoded data removed]",
      "text/plain": [
       "<Figure size 504x360 with 2 Axes>"
      ]
     },
     "metadata": {},
     "output_type": "display_data"
    }
   ],
   "source": [
    "# display the confusion matrix\n",
    "\n",
    "cm = metrics.confusion_matrix(y_train_3,x_train_3['y_pred_3'])\n",
    "sns.set(font_scale=1.2)\n",
    "fig, ax = plt.subplots(figsize=(7, 5))\n",
    "sns.heatmap(cm, annot=True, fmt='g', cmap='cividis', cbar_kws={'label': 'Count'}, ax=ax)\n",
    "ax.set_xlabel('Predicted label', fontsize=14)\n",
    "ax.set_ylabel('True label', fontsize=14)\n",
    "ax.set_title('Confusion Matrix', fontsize=16,fontweight=\"bold\")\n",
    "\n",
    "plt.show()"
   ]
  },
  {
   "cell_type": "markdown",
   "metadata": {
    "id": "KyiTV3PwbCb_"
   },
   "source": [
    "# Testing Data with the best performing model for training"
   ]
  },
  {
   "cell_type": "code",
   "execution_count": 92,
   "metadata": {
    "id": "dnzcCU4wktwu"
   },
   "outputs": [],
   "source": [
    "#The basemodel works the best after comparing all the 3 model results\n",
    "# So we go with choosing the basemodel parameters\n",
    "# Apply the same predictive model to testing data"
   ]
  },
  {
   "cell_type": "code",
   "execution_count": 93,
   "metadata": {
    "id": "v_AiU62MREg3"
   },
   "outputs": [],
   "source": [
    "# Apply feature engineering to test data only once\n",
    "X_test_f = feature_engineering(X_test)"
   ]
  },
  {
   "cell_type": "code",
   "execution_count": 94,
   "metadata": {
    "id": "qyc89D_VRMHO"
   },
   "outputs": [],
   "source": [
    "# add constant\n",
    "X_test_f = sm.add_constant(X_test_f, has_constant='skip')"
   ]
  },
  {
   "cell_type": "code",
   "execution_count": 95,
   "metadata": {
    "colab": {
     "base_uri": "https://localhost:8080/"
    },
    "id": "A3B0nitORMKM",
    "outputId": "34c26fb7-b288-4fb3-ce72-02a19e15c429"
   },
   "outputs": [
    {
     "data": {
      "text/plain": [
       "Index(['const', 'Gender', 'Senior Citizen', 'Partner', 'Dependents',\n",
       "       'Tenure Months', 'Phone Service', 'Paperless Billing',\n",
       "       'Monthly Charges', 'Total Charges', 'churn_category',\n",
       "       'Pay_Credit card (automatic)', 'Pay_Electronic check',\n",
       "       'Pay_Mailed check', 'ML_No phone service', 'ML_Yes', 'IS_Fiber optic',\n",
       "       'IS_No', 'OS_No internet service', 'OS_Yes', 'OB_No internet service',\n",
       "       'OB_Yes', 'DP_No internet service', 'DP_Yes', 'TS_No internet service',\n",
       "       'TS_Yes', 'ST_No internet service', 'ST_Yes', 'SM_No internet service',\n",
       "       'SM_Yes', 'Con_One year', 'Con_Two year'],\n",
       "      dtype='object')"
      ]
     },
     "execution_count": 95,
     "metadata": {},
     "output_type": "execute_result"
    }
   ],
   "source": [
    "# X_test_f columns\n",
    "X_test_f.columns"
   ]
  },
  {
   "cell_type": "code",
   "execution_count": 96,
   "metadata": {
    "id": "UUcwFynjRMMm"
   },
   "outputs": [],
   "source": [
    "## Let's store them in 2 columns then, called 'prob_no_Churn' and 'prob_Churn'\n",
    "X_test_f[['prob_no_Churn', 'prob_Churn']] = lr_2.predict_proba(X_test_f[['const','Tenure Months', 'churn_category', 'Pay_Electronic check', 'Dependents', \n",
    "'Paperless Billing', 'ML_Yes', 'Con_One year', \n",
    "'Con_Two year', 'Senior Citizen', 'OS_Yes', 'Pay_Mailed check']])"
   ]
  },
  {
   "cell_type": "code",
   "execution_count": 97,
   "metadata": {
    "id": "JAQwTNkLRMP6"
   },
   "outputs": [],
   "source": [
    "#Will this customer get churn?\n",
    "## This will be based on the probabilities offered. If prob_churn > .5, we can say they will churn.\n",
    "## Why .5? This is what we call a CUT-OFF POINT - and it's yet another parameter we can pick! We'll try .5, but it might indeed\n",
    "## not be the optimum value. Maybe we need to use .6, maybe .65: You should explore this on your own\n",
    "## We'll store our prediction in a column called 'y_pred' and use the np.where() method to do so\n",
    "\n",
    "cut_off = 0.50\n",
    "X_test_f['y_pred'] = np.where(X_test_f['prob_Churn']>= cut_off, 1, 0)"
   ]
  },
  {
   "cell_type": "code",
   "execution_count": 98,
   "metadata": {
    "colab": {
     "base_uri": "https://localhost:8080/"
    },
    "id": "ssOedlcyRnFz",
    "outputId": "4af3ff0e-8f7f-44aa-b3ac-ee2f43e35a64"
   },
   "outputs": [
    {
     "name": "stdout",
     "output_type": "stream",
     "text": [
      "[[1137  220]\n",
      " [ 123  278]]\n"
     ]
    }
   ],
   "source": [
    "## We'll use our trusty confusion matrix to answer the question above. \n",
    "print(metrics.confusion_matrix(X_test_f['y_pred'], y_test))"
   ]
  },
  {
   "cell_type": "code",
   "execution_count": 99,
   "metadata": {
    "colab": {
     "base_uri": "https://localhost:8080/"
    },
    "id": "YY_9pumCRnIu",
    "outputId": "eda2b966-9f25-46f0-835c-35d32824eec4"
   },
   "outputs": [
    {
     "name": "stdout",
     "output_type": "stream",
     "text": [
      "The confusion matrix for the Churning predictions is:\n",
      "[[1137  220]\n",
      " [ 123  278]] \n",
      "\n",
      "The accuracy of the Churning prediction model is: 0.8048919226393629\n",
      "The recall of the Churning prediction model is: 0.6932668329177057\n",
      "The precision of the Churning prediction model is: 0.5582329317269076\n",
      "The F1-score of the Churning prediction model is: 0.6184649610678532\n"
     ]
    }
   ],
   "source": [
    "## Now, we simply apply the function on our predictions\n",
    "get_results(y_test, X_test_f['y_pred'])"
   ]
  },
  {
   "cell_type": "code",
   "execution_count": 100,
   "metadata": {
    "colab": {
     "base_uri": "https://localhost:8080/"
    },
    "id": "QRy1j9FnRnPy",
    "outputId": "72f837be-1860-481a-f0c7-52fcad6fcd2d"
   },
   "outputs": [
    {
     "name": "stdout",
     "output_type": "stream",
     "text": [
      "              precision    recall  f1-score   support\n",
      "\n",
      "           0       0.84      0.90      0.87      1260\n",
      "           1       0.69      0.56      0.62       498\n",
      "\n",
      "    accuracy                           0.80      1758\n",
      "   macro avg       0.77      0.73      0.74      1758\n",
      "weighted avg       0.80      0.80      0.80      1758\n",
      "\n"
     ]
    }
   ],
   "source": [
    "## The classification report provides details! \n",
    "print(metrics.classification_report(y_test, X_test_f['y_pred']))"
   ]
  },
  {
   "cell_type": "code",
   "execution_count": 101,
   "metadata": {
    "colab": {
     "base_uri": "https://localhost:8080/",
     "height": 279
    },
    "id": "1wAdeccNRnSJ",
    "outputId": "2a502cb2-d92a-48ea-c244-08071be11ed7"
   },
   "outputs": [
    {
     "data": {
      "image/png": "[encoded data removed]",
      "text/plain": [
       "<Figure size 504x360 with 2 Axes>"
      ]
     },
     "metadata": {},
     "output_type": "display_data"
    }
   ],
   "source": [
    "# display the confusin matrix\n",
    "cm = metrics.confusion_matrix(y_test, X_test_f['y_pred'])\n",
    "sns.set(font_scale=1.2)\n",
    "fig, ax = plt.subplots(figsize=(7, 5))\n",
    "sns.heatmap(cm, annot=True, fmt='g', cmap='cividis', cbar_kws={'label': 'Count'}, ax=ax)\n",
    "ax.set_xlabel('Predicted label', fontsize=14)\n",
    "ax.set_ylabel('True label', fontsize=14)\n",
    "ax.set_title('Confusion Matrix', fontsize=16,fontweight=\"bold\")\n",
    "\n",
    "plt.show()"
   ]
  },
  {
   "cell_type": "markdown",
   "metadata": {
    "id": "uOkEAANQd1di"
   },
   "source": [
    "#### Finding the top 500 churners using the predictive model, who have not churned yet"
   ]
  },
  {
   "cell_type": "code",
   "execution_count": 102,
   "metadata": {
    "id": "AKokrfmYd1di"
   },
   "outputs": [],
   "source": [
    "## Once you have made a predictive model, you are able to apply it to new data. So we would take the data, untouched from the beginning, with everyone who has not yet churned. We'd then run the predictive model on that to find out their likelihood of churn - and the top 500 are your list"
   ]
  },
  {
   "cell_type": "code",
   "execution_count": 103,
   "metadata": {
    "id": "u2pQJ6iYd1dj",
    "outputId": "c72668c7-1e6b-4e4f-f4c4-0357fb8f24bc"
   },
   "outputs": [
    {
     "data": {
      "text/html": [
       "<div>\n",
       "<style scoped>\n",
       "    .dataframe tbody tr th:only-of-type {\n",
       "        vertical-align: middle;\n",
       "    }\n",
       "\n",
       "    .dataframe tbody tr th {\n",
       "        vertical-align: top;\n",
       "    }\n",
       "\n",
       "    .dataframe thead th {\n",
       "        text-align: right;\n",
       "    }\n",
       "</style>\n",
       "<table border=\"1\" class=\"dataframe\">\n",
       "  <thead>\n",
       "    <tr style=\"text-align: right;\">\n",
       "      <th></th>\n",
       "      <th>CustomerID</th>\n",
       "      <th>Count</th>\n",
       "      <th>Country</th>\n",
       "      <th>State</th>\n",
       "      <th>City</th>\n",
       "      <th>Zip Code</th>\n",
       "      <th>Lat Long</th>\n",
       "      <th>Latitude</th>\n",
       "      <th>Longitude</th>\n",
       "      <th>Gender</th>\n",
       "      <th>...</th>\n",
       "      <th>Streaming TV</th>\n",
       "      <th>Streaming Movies</th>\n",
       "      <th>Contract</th>\n",
       "      <th>Paperless Billing</th>\n",
       "      <th>Payment Method</th>\n",
       "      <th>Monthly Charges</th>\n",
       "      <th>Total Charges</th>\n",
       "      <th>Churn Label</th>\n",
       "      <th>Churn Value</th>\n",
       "      <th>Churn Reason</th>\n",
       "    </tr>\n",
       "  </thead>\n",
       "  <tbody>\n",
       "    <tr>\n",
       "      <th>1869</th>\n",
       "      <td>7590-VHVEG</td>\n",
       "      <td>1</td>\n",
       "      <td>United States</td>\n",
       "      <td>California</td>\n",
       "      <td>Los Angeles</td>\n",
       "      <td>90001</td>\n",
       "      <td>33.973616, -118.24902</td>\n",
       "      <td>33.973616</td>\n",
       "      <td>-118.249020</td>\n",
       "      <td>Female</td>\n",
       "      <td>...</td>\n",
       "      <td>No</td>\n",
       "      <td>No</td>\n",
       "      <td>Month-to-month</td>\n",
       "      <td>Yes</td>\n",
       "      <td>Electronic check</td>\n",
       "      <td>29.85</td>\n",
       "      <td>29.85</td>\n",
       "      <td>No</td>\n",
       "      <td>0</td>\n",
       "      <td>NaN</td>\n",
       "    </tr>\n",
       "    <tr>\n",
       "      <th>1870</th>\n",
       "      <td>5575-GNVDE</td>\n",
       "      <td>1</td>\n",
       "      <td>United States</td>\n",
       "      <td>California</td>\n",
       "      <td>Los Angeles</td>\n",
       "      <td>90002</td>\n",
       "      <td>33.949255, -118.246978</td>\n",
       "      <td>33.949255</td>\n",
       "      <td>-118.246978</td>\n",
       "      <td>Male</td>\n",
       "      <td>...</td>\n",
       "      <td>No</td>\n",
       "      <td>No</td>\n",
       "      <td>One year</td>\n",
       "      <td>No</td>\n",
       "      <td>Mailed check</td>\n",
       "      <td>56.95</td>\n",
       "      <td>1889.5</td>\n",
       "      <td>No</td>\n",
       "      <td>0</td>\n",
       "      <td>NaN</td>\n",
       "    </tr>\n",
       "    <tr>\n",
       "      <th>1871</th>\n",
       "      <td>7795-CFOCW</td>\n",
       "      <td>1</td>\n",
       "      <td>United States</td>\n",
       "      <td>California</td>\n",
       "      <td>Los Angeles</td>\n",
       "      <td>90004</td>\n",
       "      <td>34.076259, -118.310715</td>\n",
       "      <td>34.076259</td>\n",
       "      <td>-118.310715</td>\n",
       "      <td>Male</td>\n",
       "      <td>...</td>\n",
       "      <td>No</td>\n",
       "      <td>No</td>\n",
       "      <td>One year</td>\n",
       "      <td>No</td>\n",
       "      <td>Bank transfer (automatic)</td>\n",
       "      <td>42.30</td>\n",
       "      <td>1840.75</td>\n",
       "      <td>No</td>\n",
       "      <td>0</td>\n",
       "      <td>NaN</td>\n",
       "    </tr>\n",
       "    <tr>\n",
       "      <th>1872</th>\n",
       "      <td>1452-KIOVK</td>\n",
       "      <td>1</td>\n",
       "      <td>United States</td>\n",
       "      <td>California</td>\n",
       "      <td>Los Angeles</td>\n",
       "      <td>90007</td>\n",
       "      <td>34.027337, -118.28515</td>\n",
       "      <td>34.027337</td>\n",
       "      <td>-118.285150</td>\n",
       "      <td>Male</td>\n",
       "      <td>...</td>\n",
       "      <td>Yes</td>\n",
       "      <td>No</td>\n",
       "      <td>Month-to-month</td>\n",
       "      <td>Yes</td>\n",
       "      <td>Credit card (automatic)</td>\n",
       "      <td>89.10</td>\n",
       "      <td>1949.4</td>\n",
       "      <td>No</td>\n",
       "      <td>0</td>\n",
       "      <td>NaN</td>\n",
       "    </tr>\n",
       "    <tr>\n",
       "      <th>1873</th>\n",
       "      <td>6713-OKOMC</td>\n",
       "      <td>1</td>\n",
       "      <td>United States</td>\n",
       "      <td>California</td>\n",
       "      <td>Los Angeles</td>\n",
       "      <td>90008</td>\n",
       "      <td>34.008293, -118.346766</td>\n",
       "      <td>34.008293</td>\n",
       "      <td>-118.346766</td>\n",
       "      <td>Female</td>\n",
       "      <td>...</td>\n",
       "      <td>No</td>\n",
       "      <td>No</td>\n",
       "      <td>Month-to-month</td>\n",
       "      <td>No</td>\n",
       "      <td>Mailed check</td>\n",
       "      <td>29.75</td>\n",
       "      <td>301.9</td>\n",
       "      <td>No</td>\n",
       "      <td>0</td>\n",
       "      <td>NaN</td>\n",
       "    </tr>\n",
       "    <tr>\n",
       "      <th>...</th>\n",
       "      <td>...</td>\n",
       "      <td>...</td>\n",
       "      <td>...</td>\n",
       "      <td>...</td>\n",
       "      <td>...</td>\n",
       "      <td>...</td>\n",
       "      <td>...</td>\n",
       "      <td>...</td>\n",
       "      <td>...</td>\n",
       "      <td>...</td>\n",
       "      <td>...</td>\n",
       "      <td>...</td>\n",
       "      <td>...</td>\n",
       "      <td>...</td>\n",
       "      <td>...</td>\n",
       "      <td>...</td>\n",
       "      <td>...</td>\n",
       "      <td>...</td>\n",
       "      <td>...</td>\n",
       "      <td>...</td>\n",
       "      <td>...</td>\n",
       "    </tr>\n",
       "    <tr>\n",
       "      <th>7038</th>\n",
       "      <td>2569-WGERO</td>\n",
       "      <td>1</td>\n",
       "      <td>United States</td>\n",
       "      <td>California</td>\n",
       "      <td>Landers</td>\n",
       "      <td>92285</td>\n",
       "      <td>34.341737, -116.539416</td>\n",
       "      <td>34.341737</td>\n",
       "      <td>-116.539416</td>\n",
       "      <td>Female</td>\n",
       "      <td>...</td>\n",
       "      <td>No internet service</td>\n",
       "      <td>No internet service</td>\n",
       "      <td>Two year</td>\n",
       "      <td>Yes</td>\n",
       "      <td>Bank transfer (automatic)</td>\n",
       "      <td>21.15</td>\n",
       "      <td>1419.4</td>\n",
       "      <td>No</td>\n",
       "      <td>0</td>\n",
       "      <td>NaN</td>\n",
       "    </tr>\n",
       "    <tr>\n",
       "      <th>7039</th>\n",
       "      <td>6840-RESVB</td>\n",
       "      <td>1</td>\n",
       "      <td>United States</td>\n",
       "      <td>California</td>\n",
       "      <td>Adelanto</td>\n",
       "      <td>92301</td>\n",
       "      <td>34.667815, -117.536183</td>\n",
       "      <td>34.667815</td>\n",
       "      <td>-117.536183</td>\n",
       "      <td>Male</td>\n",
       "      <td>...</td>\n",
       "      <td>Yes</td>\n",
       "      <td>Yes</td>\n",
       "      <td>One year</td>\n",
       "      <td>Yes</td>\n",
       "      <td>Mailed check</td>\n",
       "      <td>84.80</td>\n",
       "      <td>1990.5</td>\n",
       "      <td>No</td>\n",
       "      <td>0</td>\n",
       "      <td>NaN</td>\n",
       "    </tr>\n",
       "    <tr>\n",
       "      <th>7040</th>\n",
       "      <td>2234-XADUH</td>\n",
       "      <td>1</td>\n",
       "      <td>United States</td>\n",
       "      <td>California</td>\n",
       "      <td>Amboy</td>\n",
       "      <td>92304</td>\n",
       "      <td>34.559882, -115.637164</td>\n",
       "      <td>34.559882</td>\n",
       "      <td>-115.637164</td>\n",
       "      <td>Female</td>\n",
       "      <td>...</td>\n",
       "      <td>Yes</td>\n",
       "      <td>Yes</td>\n",
       "      <td>One year</td>\n",
       "      <td>Yes</td>\n",
       "      <td>Credit card (automatic)</td>\n",
       "      <td>103.20</td>\n",
       "      <td>7362.9</td>\n",
       "      <td>No</td>\n",
       "      <td>0</td>\n",
       "      <td>NaN</td>\n",
       "    </tr>\n",
       "    <tr>\n",
       "      <th>7041</th>\n",
       "      <td>4801-JZAZL</td>\n",
       "      <td>1</td>\n",
       "      <td>United States</td>\n",
       "      <td>California</td>\n",
       "      <td>Angelus Oaks</td>\n",
       "      <td>92305</td>\n",
       "      <td>34.1678, -116.86433</td>\n",
       "      <td>34.167800</td>\n",
       "      <td>-116.864330</td>\n",
       "      <td>Female</td>\n",
       "      <td>...</td>\n",
       "      <td>No</td>\n",
       "      <td>No</td>\n",
       "      <td>Month-to-month</td>\n",
       "      <td>Yes</td>\n",
       "      <td>Electronic check</td>\n",
       "      <td>29.60</td>\n",
       "      <td>346.45</td>\n",
       "      <td>No</td>\n",
       "      <td>0</td>\n",
       "      <td>NaN</td>\n",
       "    </tr>\n",
       "    <tr>\n",
       "      <th>7042</th>\n",
       "      <td>3186-AJIEK</td>\n",
       "      <td>1</td>\n",
       "      <td>United States</td>\n",
       "      <td>California</td>\n",
       "      <td>Apple Valley</td>\n",
       "      <td>92308</td>\n",
       "      <td>34.424926, -117.184503</td>\n",
       "      <td>34.424926</td>\n",
       "      <td>-117.184503</td>\n",
       "      <td>Male</td>\n",
       "      <td>...</td>\n",
       "      <td>Yes</td>\n",
       "      <td>Yes</td>\n",
       "      <td>Two year</td>\n",
       "      <td>Yes</td>\n",
       "      <td>Bank transfer (automatic)</td>\n",
       "      <td>105.65</td>\n",
       "      <td>6844.5</td>\n",
       "      <td>No</td>\n",
       "      <td>0</td>\n",
       "      <td>NaN</td>\n",
       "    </tr>\n",
       "  </tbody>\n",
       "</table>\n",
       "<p>5174 rows × 31 columns</p>\n",
       "</div>"
      ],
      "text/plain": [
       "      CustomerID  Count        Country       State          City  Zip Code  \\\n",
       "1869  7590-VHVEG      1  United States  California   Los Angeles     90001   \n",
       "1870  5575-GNVDE      1  United States  California   Los Angeles     90002   \n",
       "1871  7795-CFOCW      1  United States  California   Los Angeles     90004   \n",
       "1872  1452-KIOVK      1  United States  California   Los Angeles     90007   \n",
       "1873  6713-OKOMC      1  United States  California   Los Angeles     90008   \n",
       "...          ...    ...            ...         ...           ...       ...   \n",
       "7038  2569-WGERO      1  United States  California       Landers     92285   \n",
       "7039  6840-RESVB      1  United States  California      Adelanto     92301   \n",
       "7040  2234-XADUH      1  United States  California         Amboy     92304   \n",
       "7041  4801-JZAZL      1  United States  California  Angelus Oaks     92305   \n",
       "7042  3186-AJIEK      1  United States  California  Apple Valley     92308   \n",
       "\n",
       "                    Lat Long   Latitude   Longitude  Gender  ...  \\\n",
       "1869   33.973616, -118.24902  33.973616 -118.249020  Female  ...   \n",
       "1870  33.949255, -118.246978  33.949255 -118.246978    Male  ...   \n",
       "1871  34.076259, -118.310715  34.076259 -118.310715    Male  ...   \n",
       "1872   34.027337, -118.28515  34.027337 -118.285150    Male  ...   \n",
       "1873  34.008293, -118.346766  34.008293 -118.346766  Female  ...   \n",
       "...                      ...        ...         ...     ...  ...   \n",
       "7038  34.341737, -116.539416  34.341737 -116.539416  Female  ...   \n",
       "7039  34.667815, -117.536183  34.667815 -117.536183    Male  ...   \n",
       "7040  34.559882, -115.637164  34.559882 -115.637164  Female  ...   \n",
       "7041     34.1678, -116.86433  34.167800 -116.864330  Female  ...   \n",
       "7042  34.424926, -117.184503  34.424926 -117.184503    Male  ...   \n",
       "\n",
       "             Streaming TV     Streaming Movies        Contract  \\\n",
       "1869                   No                   No  Month-to-month   \n",
       "1870                   No                   No        One year   \n",
       "1871                   No                   No        One year   \n",
       "1872                  Yes                   No  Month-to-month   \n",
       "1873                   No                   No  Month-to-month   \n",
       "...                   ...                  ...             ...   \n",
       "7038  No internet service  No internet service        Two year   \n",
       "7039                  Yes                  Yes        One year   \n",
       "7040                  Yes                  Yes        One year   \n",
       "7041                   No                   No  Month-to-month   \n",
       "7042                  Yes                  Yes        Two year   \n",
       "\n",
       "      Paperless Billing             Payment Method Monthly Charges  \\\n",
       "1869                Yes           Electronic check           29.85   \n",
       "1870                 No               Mailed check           56.95   \n",
       "1871                 No  Bank transfer (automatic)           42.30   \n",
       "1872                Yes    Credit card (automatic)           89.10   \n",
       "1873                 No               Mailed check           29.75   \n",
       "...                 ...                        ...             ...   \n",
       "7038                Yes  Bank transfer (automatic)           21.15   \n",
       "7039                Yes               Mailed check           84.80   \n",
       "7040                Yes    Credit card (automatic)          103.20   \n",
       "7041                Yes           Electronic check           29.60   \n",
       "7042                Yes  Bank transfer (automatic)          105.65   \n",
       "\n",
       "     Total Charges Churn Label Churn Value Churn Reason  \n",
       "1869         29.85          No           0          NaN  \n",
       "1870        1889.5          No           0          NaN  \n",
       "1871       1840.75          No           0          NaN  \n",
       "1872        1949.4          No           0          NaN  \n",
       "1873         301.9          No           0          NaN  \n",
       "...            ...         ...         ...          ...  \n",
       "7038        1419.4          No           0          NaN  \n",
       "7039        1990.5          No           0          NaN  \n",
       "7040        7362.9          No           0          NaN  \n",
       "7041        346.45          No           0          NaN  \n",
       "7042        6844.5          No           0          NaN  \n",
       "\n",
       "[5174 rows x 31 columns]"
      ]
     },
     "execution_count": 103,
     "metadata": {},
     "output_type": "execute_result"
    }
   ],
   "source": [
    "# the customers who have not yet churned\n",
    "df_churn"
   ]
  },
  {
   "cell_type": "code",
   "execution_count": 104,
   "metadata": {
    "id": "Z0Uwv_vUd1dj"
   },
   "outputs": [],
   "source": [
    "# drop the columns\n",
    "df_churn.drop(columns = ['Count', 'Country', 'State', 'Churn Label','Total Charges','Latitude','Longitude', 'Zip Code','Lat Long','Churn Reason' ], inplace = True)\n"
   ]
  },
  {
   "cell_type": "code",
   "execution_count": 105,
   "metadata": {
    "id": "b-Kv9sIsd1dj"
   },
   "outputs": [],
   "source": [
    "# Calculate the Churn rate and apply\n",
    "df_churn_counts = df_churn.groupby(\"City\")[\"Churn Value\"].sum()\n",
    "df_customer_counts = df_churn.groupby(\"City\")[\"CustomerID\"].nunique()\n",
    "\n",
    "churn_rate = df_churn_counts / df_customer_counts\n",
    "\n",
    "\n",
    "def categorise_city(churn_rate):\n",
    "    if churn_rate >= 0.5:\n",
    "        return \"High Churning City\"\n",
    "    else:\n",
    "        return \"Low Churning City\"\n",
    "\n",
    "\n",
    "df_churn[\"churn_category\"] = df_churn[\"City\"].map(churn_rate.apply(categorise_city))\n",
    "# Drop the \"City\" column\n",
    "df_churn.drop(\"City\", axis=1, inplace=True)"
   ]
  },
  {
   "cell_type": "code",
   "execution_count": 106,
   "metadata": {
    "id": "exY2zcMHd1dk",
    "outputId": "373bb82f-42de-4f39-b732-46a5c26084b5"
   },
   "outputs": [
    {
     "data": {
      "text/html": [
       "<div>\n",
       "<style scoped>\n",
       "    .dataframe tbody tr th:only-of-type {\n",
       "        vertical-align: middle;\n",
       "    }\n",
       "\n",
       "    .dataframe tbody tr th {\n",
       "        vertical-align: top;\n",
       "    }\n",
       "\n",
       "    .dataframe thead th {\n",
       "        text-align: right;\n",
       "    }\n",
       "</style>\n",
       "<table border=\"1\" class=\"dataframe\">\n",
       "  <thead>\n",
       "    <tr style=\"text-align: right;\">\n",
       "      <th></th>\n",
       "      <th>CustomerID</th>\n",
       "      <th>Gender</th>\n",
       "      <th>Senior Citizen</th>\n",
       "      <th>Partner</th>\n",
       "      <th>Dependents</th>\n",
       "      <th>Tenure Months</th>\n",
       "      <th>Phone Service</th>\n",
       "      <th>Multiple Lines</th>\n",
       "      <th>Internet Service</th>\n",
       "      <th>Online Security</th>\n",
       "      <th>...</th>\n",
       "      <th>Device Protection</th>\n",
       "      <th>Tech Support</th>\n",
       "      <th>Streaming TV</th>\n",
       "      <th>Streaming Movies</th>\n",
       "      <th>Contract</th>\n",
       "      <th>Paperless Billing</th>\n",
       "      <th>Payment Method</th>\n",
       "      <th>Monthly Charges</th>\n",
       "      <th>Churn Value</th>\n",
       "      <th>churn_category</th>\n",
       "    </tr>\n",
       "  </thead>\n",
       "  <tbody>\n",
       "    <tr>\n",
       "      <th>1869</th>\n",
       "      <td>7590-VHVEG</td>\n",
       "      <td>Female</td>\n",
       "      <td>No</td>\n",
       "      <td>Yes</td>\n",
       "      <td>No</td>\n",
       "      <td>1</td>\n",
       "      <td>No</td>\n",
       "      <td>No phone service</td>\n",
       "      <td>DSL</td>\n",
       "      <td>No</td>\n",
       "      <td>...</td>\n",
       "      <td>No</td>\n",
       "      <td>No</td>\n",
       "      <td>No</td>\n",
       "      <td>No</td>\n",
       "      <td>Month-to-month</td>\n",
       "      <td>Yes</td>\n",
       "      <td>Electronic check</td>\n",
       "      <td>29.85</td>\n",
       "      <td>0</td>\n",
       "      <td>Low Churning City</td>\n",
       "    </tr>\n",
       "    <tr>\n",
       "      <th>1870</th>\n",
       "      <td>5575-GNVDE</td>\n",
       "      <td>Male</td>\n",
       "      <td>No</td>\n",
       "      <td>No</td>\n",
       "      <td>No</td>\n",
       "      <td>34</td>\n",
       "      <td>Yes</td>\n",
       "      <td>No</td>\n",
       "      <td>DSL</td>\n",
       "      <td>Yes</td>\n",
       "      <td>...</td>\n",
       "      <td>Yes</td>\n",
       "      <td>No</td>\n",
       "      <td>No</td>\n",
       "      <td>No</td>\n",
       "      <td>One year</td>\n",
       "      <td>No</td>\n",
       "      <td>Mailed check</td>\n",
       "      <td>56.95</td>\n",
       "      <td>0</td>\n",
       "      <td>Low Churning City</td>\n",
       "    </tr>\n",
       "    <tr>\n",
       "      <th>1871</th>\n",
       "      <td>7795-CFOCW</td>\n",
       "      <td>Male</td>\n",
       "      <td>No</td>\n",
       "      <td>No</td>\n",
       "      <td>No</td>\n",
       "      <td>45</td>\n",
       "      <td>No</td>\n",
       "      <td>No phone service</td>\n",
       "      <td>DSL</td>\n",
       "      <td>Yes</td>\n",
       "      <td>...</td>\n",
       "      <td>Yes</td>\n",
       "      <td>Yes</td>\n",
       "      <td>No</td>\n",
       "      <td>No</td>\n",
       "      <td>One year</td>\n",
       "      <td>No</td>\n",
       "      <td>Bank transfer (automatic)</td>\n",
       "      <td>42.30</td>\n",
       "      <td>0</td>\n",
       "      <td>Low Churning City</td>\n",
       "    </tr>\n",
       "    <tr>\n",
       "      <th>1872</th>\n",
       "      <td>1452-KIOVK</td>\n",
       "      <td>Male</td>\n",
       "      <td>No</td>\n",
       "      <td>No</td>\n",
       "      <td>Yes</td>\n",
       "      <td>22</td>\n",
       "      <td>Yes</td>\n",
       "      <td>Yes</td>\n",
       "      <td>Fiber optic</td>\n",
       "      <td>No</td>\n",
       "      <td>...</td>\n",
       "      <td>No</td>\n",
       "      <td>No</td>\n",
       "      <td>Yes</td>\n",
       "      <td>No</td>\n",
       "      <td>Month-to-month</td>\n",
       "      <td>Yes</td>\n",
       "      <td>Credit card (automatic)</td>\n",
       "      <td>89.10</td>\n",
       "      <td>0</td>\n",
       "      <td>Low Churning City</td>\n",
       "    </tr>\n",
       "    <tr>\n",
       "      <th>1873</th>\n",
       "      <td>6713-OKOMC</td>\n",
       "      <td>Female</td>\n",
       "      <td>No</td>\n",
       "      <td>No</td>\n",
       "      <td>No</td>\n",
       "      <td>10</td>\n",
       "      <td>No</td>\n",
       "      <td>No phone service</td>\n",
       "      <td>DSL</td>\n",
       "      <td>Yes</td>\n",
       "      <td>...</td>\n",
       "      <td>No</td>\n",
       "      <td>No</td>\n",
       "      <td>No</td>\n",
       "      <td>No</td>\n",
       "      <td>Month-to-month</td>\n",
       "      <td>No</td>\n",
       "      <td>Mailed check</td>\n",
       "      <td>29.75</td>\n",
       "      <td>0</td>\n",
       "      <td>Low Churning City</td>\n",
       "    </tr>\n",
       "  </tbody>\n",
       "</table>\n",
       "<p>5 rows × 21 columns</p>\n",
       "</div>"
      ],
      "text/plain": [
       "      CustomerID  Gender Senior Citizen Partner Dependents  Tenure Months  \\\n",
       "1869  7590-VHVEG  Female             No     Yes         No              1   \n",
       "1870  5575-GNVDE    Male             No      No         No             34   \n",
       "1871  7795-CFOCW    Male             No      No         No             45   \n",
       "1872  1452-KIOVK    Male             No      No        Yes             22   \n",
       "1873  6713-OKOMC  Female             No      No         No             10   \n",
       "\n",
       "     Phone Service    Multiple Lines Internet Service Online Security  ...  \\\n",
       "1869            No  No phone service              DSL              No  ...   \n",
       "1870           Yes                No              DSL             Yes  ...   \n",
       "1871            No  No phone service              DSL             Yes  ...   \n",
       "1872           Yes               Yes      Fiber optic              No  ...   \n",
       "1873            No  No phone service              DSL             Yes  ...   \n",
       "\n",
       "     Device Protection Tech Support Streaming TV Streaming Movies  \\\n",
       "1869                No           No           No               No   \n",
       "1870               Yes           No           No               No   \n",
       "1871               Yes          Yes           No               No   \n",
       "1872                No           No          Yes               No   \n",
       "1873                No           No           No               No   \n",
       "\n",
       "            Contract Paperless Billing             Payment Method  \\\n",
       "1869  Month-to-month               Yes           Electronic check   \n",
       "1870        One year                No               Mailed check   \n",
       "1871        One year                No  Bank transfer (automatic)   \n",
       "1872  Month-to-month               Yes    Credit card (automatic)   \n",
       "1873  Month-to-month                No               Mailed check   \n",
       "\n",
       "     Monthly Charges  Churn Value     churn_category  \n",
       "1869           29.85            0  Low Churning City  \n",
       "1870           56.95            0  Low Churning City  \n",
       "1871           42.30            0  Low Churning City  \n",
       "1872           89.10            0  Low Churning City  \n",
       "1873           29.75            0  Low Churning City  \n",
       "\n",
       "[5 rows x 21 columns]"
      ]
     },
     "execution_count": 106,
     "metadata": {},
     "output_type": "execute_result"
    }
   ],
   "source": [
    "# display the data frame\n",
    "df_churn.head()"
   ]
  },
  {
   "cell_type": "code",
   "execution_count": 107,
   "metadata": {
    "id": "yj9en8iqd1dk"
   },
   "outputs": [],
   "source": [
    "#apply feature engineering to this dataset\n",
    "df_churn_f = feature_engineering(df_churn)"
   ]
  },
  {
   "cell_type": "code",
   "execution_count": 108,
   "metadata": {
    "id": "ww8Qwscbd1dk",
    "outputId": "c7696d67-b1ca-4cc9-9f9b-cf67a0be7b36"
   },
   "outputs": [
    {
     "data": {
      "text/html": [
       "<div>\n",
       "<style scoped>\n",
       "    .dataframe tbody tr th:only-of-type {\n",
       "        vertical-align: middle;\n",
       "    }\n",
       "\n",
       "    .dataframe tbody tr th {\n",
       "        vertical-align: top;\n",
       "    }\n",
       "\n",
       "    .dataframe thead th {\n",
       "        text-align: right;\n",
       "    }\n",
       "</style>\n",
       "<table border=\"1\" class=\"dataframe\">\n",
       "  <thead>\n",
       "    <tr style=\"text-align: right;\">\n",
       "      <th></th>\n",
       "      <th>CustomerID</th>\n",
       "      <th>Gender</th>\n",
       "      <th>Senior Citizen</th>\n",
       "      <th>Partner</th>\n",
       "      <th>Dependents</th>\n",
       "      <th>Tenure Months</th>\n",
       "      <th>Phone Service</th>\n",
       "      <th>Paperless Billing</th>\n",
       "      <th>Monthly Charges</th>\n",
       "      <th>Churn Value</th>\n",
       "      <th>...</th>\n",
       "      <th>DP_No internet service</th>\n",
       "      <th>DP_Yes</th>\n",
       "      <th>TS_No internet service</th>\n",
       "      <th>TS_Yes</th>\n",
       "      <th>ST_No internet service</th>\n",
       "      <th>ST_Yes</th>\n",
       "      <th>SM_No internet service</th>\n",
       "      <th>SM_Yes</th>\n",
       "      <th>Con_One year</th>\n",
       "      <th>Con_Two year</th>\n",
       "    </tr>\n",
       "  </thead>\n",
       "  <tbody>\n",
       "    <tr>\n",
       "      <th>1869</th>\n",
       "      <td>7590-VHVEG</td>\n",
       "      <td>0</td>\n",
       "      <td>0</td>\n",
       "      <td>1</td>\n",
       "      <td>0</td>\n",
       "      <td>1</td>\n",
       "      <td>0</td>\n",
       "      <td>1</td>\n",
       "      <td>29.85</td>\n",
       "      <td>0</td>\n",
       "      <td>...</td>\n",
       "      <td>0</td>\n",
       "      <td>0</td>\n",
       "      <td>0</td>\n",
       "      <td>0</td>\n",
       "      <td>0</td>\n",
       "      <td>0</td>\n",
       "      <td>0</td>\n",
       "      <td>0</td>\n",
       "      <td>0</td>\n",
       "      <td>0</td>\n",
       "    </tr>\n",
       "    <tr>\n",
       "      <th>1870</th>\n",
       "      <td>5575-GNVDE</td>\n",
       "      <td>1</td>\n",
       "      <td>0</td>\n",
       "      <td>0</td>\n",
       "      <td>0</td>\n",
       "      <td>34</td>\n",
       "      <td>1</td>\n",
       "      <td>0</td>\n",
       "      <td>56.95</td>\n",
       "      <td>0</td>\n",
       "      <td>...</td>\n",
       "      <td>0</td>\n",
       "      <td>1</td>\n",
       "      <td>0</td>\n",
       "      <td>0</td>\n",
       "      <td>0</td>\n",
       "      <td>0</td>\n",
       "      <td>0</td>\n",
       "      <td>0</td>\n",
       "      <td>1</td>\n",
       "      <td>0</td>\n",
       "    </tr>\n",
       "    <tr>\n",
       "      <th>1871</th>\n",
       "      <td>7795-CFOCW</td>\n",
       "      <td>1</td>\n",
       "      <td>0</td>\n",
       "      <td>0</td>\n",
       "      <td>0</td>\n",
       "      <td>45</td>\n",
       "      <td>0</td>\n",
       "      <td>0</td>\n",
       "      <td>42.30</td>\n",
       "      <td>0</td>\n",
       "      <td>...</td>\n",
       "      <td>0</td>\n",
       "      <td>1</td>\n",
       "      <td>0</td>\n",
       "      <td>1</td>\n",
       "      <td>0</td>\n",
       "      <td>0</td>\n",
       "      <td>0</td>\n",
       "      <td>0</td>\n",
       "      <td>1</td>\n",
       "      <td>0</td>\n",
       "    </tr>\n",
       "    <tr>\n",
       "      <th>1872</th>\n",
       "      <td>1452-KIOVK</td>\n",
       "      <td>1</td>\n",
       "      <td>0</td>\n",
       "      <td>0</td>\n",
       "      <td>1</td>\n",
       "      <td>22</td>\n",
       "      <td>1</td>\n",
       "      <td>1</td>\n",
       "      <td>89.10</td>\n",
       "      <td>0</td>\n",
       "      <td>...</td>\n",
       "      <td>0</td>\n",
       "      <td>0</td>\n",
       "      <td>0</td>\n",
       "      <td>0</td>\n",
       "      <td>0</td>\n",
       "      <td>1</td>\n",
       "      <td>0</td>\n",
       "      <td>0</td>\n",
       "      <td>0</td>\n",
       "      <td>0</td>\n",
       "    </tr>\n",
       "    <tr>\n",
       "      <th>1873</th>\n",
       "      <td>6713-OKOMC</td>\n",
       "      <td>0</td>\n",
       "      <td>0</td>\n",
       "      <td>0</td>\n",
       "      <td>0</td>\n",
       "      <td>10</td>\n",
       "      <td>0</td>\n",
       "      <td>0</td>\n",
       "      <td>29.75</td>\n",
       "      <td>0</td>\n",
       "      <td>...</td>\n",
       "      <td>0</td>\n",
       "      <td>0</td>\n",
       "      <td>0</td>\n",
       "      <td>0</td>\n",
       "      <td>0</td>\n",
       "      <td>0</td>\n",
       "      <td>0</td>\n",
       "      <td>0</td>\n",
       "      <td>0</td>\n",
       "      <td>0</td>\n",
       "    </tr>\n",
       "  </tbody>\n",
       "</table>\n",
       "<p>5 rows × 32 columns</p>\n",
       "</div>"
      ],
      "text/plain": [
       "      CustomerID  Gender  Senior Citizen  Partner  Dependents  Tenure Months  \\\n",
       "1869  7590-VHVEG       0               0        1           0              1   \n",
       "1870  5575-GNVDE       1               0        0           0             34   \n",
       "1871  7795-CFOCW       1               0        0           0             45   \n",
       "1872  1452-KIOVK       1               0        0           1             22   \n",
       "1873  6713-OKOMC       0               0        0           0             10   \n",
       "\n",
       "      Phone Service  Paperless Billing  Monthly Charges  Churn Value  ...  \\\n",
       "1869              0                  1            29.85            0  ...   \n",
       "1870              1                  0            56.95            0  ...   \n",
       "1871              0                  0            42.30            0  ...   \n",
       "1872              1                  1            89.10            0  ...   \n",
       "1873              0                  0            29.75            0  ...   \n",
       "\n",
       "      DP_No internet service  DP_Yes  TS_No internet service  TS_Yes  \\\n",
       "1869                       0       0                       0       0   \n",
       "1870                       0       1                       0       0   \n",
       "1871                       0       1                       0       1   \n",
       "1872                       0       0                       0       0   \n",
       "1873                       0       0                       0       0   \n",
       "\n",
       "      ST_No internet service  ST_Yes  SM_No internet service  SM_Yes  \\\n",
       "1869                       0       0                       0       0   \n",
       "1870                       0       0                       0       0   \n",
       "1871                       0       0                       0       0   \n",
       "1872                       0       1                       0       0   \n",
       "1873                       0       0                       0       0   \n",
       "\n",
       "      Con_One year  Con_Two year  \n",
       "1869             0             0  \n",
       "1870             1             0  \n",
       "1871             1             0  \n",
       "1872             0             0  \n",
       "1873             0             0  \n",
       "\n",
       "[5 rows x 32 columns]"
      ]
     },
     "execution_count": 108,
     "metadata": {},
     "output_type": "execute_result"
    }
   ],
   "source": [
    "# prin the head\n",
    "df_churn_f.head()"
   ]
  },
  {
   "cell_type": "code",
   "execution_count": 109,
   "metadata": {
    "id": "YQaT_UGvd1dl",
    "outputId": "ab64a0ad-fc8a-468b-8afa-86f017934624"
   },
   "outputs": [
    {
     "data": {
      "text/html": [
       "<div>\n",
       "<style scoped>\n",
       "    .dataframe tbody tr th:only-of-type {\n",
       "        vertical-align: middle;\n",
       "    }\n",
       "\n",
       "    .dataframe tbody tr th {\n",
       "        vertical-align: top;\n",
       "    }\n",
       "\n",
       "    .dataframe thead th {\n",
       "        text-align: right;\n",
       "    }\n",
       "</style>\n",
       "<table border=\"1\" class=\"dataframe\">\n",
       "  <thead>\n",
       "    <tr style=\"text-align: right;\">\n",
       "      <th></th>\n",
       "      <th>CustomerID</th>\n",
       "      <th>churn_prob</th>\n",
       "    </tr>\n",
       "  </thead>\n",
       "  <tbody>\n",
       "    <tr>\n",
       "      <th>256</th>\n",
       "      <td>0021-IKXGC</td>\n",
       "      <td>0.771480</td>\n",
       "    </tr>\n",
       "    <tr>\n",
       "      <th>2472</th>\n",
       "      <td>2545-EBUPK</td>\n",
       "      <td>0.766295</td>\n",
       "    </tr>\n",
       "    <tr>\n",
       "      <th>2329</th>\n",
       "      <td>5150-ITWWB</td>\n",
       "      <td>0.761029</td>\n",
       "    </tr>\n",
       "    <tr>\n",
       "      <th>698</th>\n",
       "      <td>6630-UJZMY</td>\n",
       "      <td>0.755682</td>\n",
       "    </tr>\n",
       "    <tr>\n",
       "      <th>1813</th>\n",
       "      <td>1197-BVMVG</td>\n",
       "      <td>0.755682</td>\n",
       "    </tr>\n",
       "    <tr>\n",
       "      <th>...</th>\n",
       "      <td>...</td>\n",
       "      <td>...</td>\n",
       "    </tr>\n",
       "    <tr>\n",
       "      <th>2013</th>\n",
       "      <td>4236-UJPWO</td>\n",
       "      <td>0.425210</td>\n",
       "    </tr>\n",
       "    <tr>\n",
       "      <th>4408</th>\n",
       "      <td>2080-GKCWQ</td>\n",
       "      <td>0.425210</td>\n",
       "    </tr>\n",
       "    <tr>\n",
       "      <th>1596</th>\n",
       "      <td>3995-WFCSM</td>\n",
       "      <td>0.425210</td>\n",
       "    </tr>\n",
       "    <tr>\n",
       "      <th>2639</th>\n",
       "      <td>1730-ZMAME</td>\n",
       "      <td>0.424923</td>\n",
       "    </tr>\n",
       "    <tr>\n",
       "      <th>2858</th>\n",
       "      <td>9348-YVOMK</td>\n",
       "      <td>0.424420</td>\n",
       "    </tr>\n",
       "  </tbody>\n",
       "</table>\n",
       "<p>500 rows × 2 columns</p>\n",
       "</div>"
      ],
      "text/plain": [
       "      CustomerID  churn_prob\n",
       "256   0021-IKXGC    0.771480\n",
       "2472  2545-EBUPK    0.766295\n",
       "2329  5150-ITWWB    0.761029\n",
       "698   6630-UJZMY    0.755682\n",
       "1813  1197-BVMVG    0.755682\n",
       "...          ...         ...\n",
       "2013  4236-UJPWO    0.425210\n",
       "4408  2080-GKCWQ    0.425210\n",
       "1596  3995-WFCSM    0.425210\n",
       "2639  1730-ZMAME    0.424923\n",
       "2858  9348-YVOMK    0.424420\n",
       "\n",
       "[500 rows x 2 columns]"
      ]
     },
     "execution_count": 109,
     "metadata": {},
     "output_type": "execute_result"
    }
   ],
   "source": [
    "# Send the mailers to the top 500 customers after identifying them, who have not yet churned and might churn in future\n",
    "import warnings\n",
    "warnings.filterwarnings(\"ignore\")\n",
    "\n",
    "df_churn_f =  sm.add_constant(df_churn_f, has_constant='skip')\n",
    "df_churn_f = df_churn_f.set_index('CustomerID')\n",
    "\n",
    "# Predict the probability of churn for each customer\n",
    "churn_probs = lr_2.predict_proba(df_churn_f[['const','Tenure Months', 'churn_category', 'Pay_Electronic check', 'Dependents', \n",
    "'Paperless Billing', 'ML_Yes', 'Con_One year', \n",
    "'Con_Two year', 'Senior Citizen', 'OS_Yes', 'Pay_Mailed check']])[:, 1]\n",
    "\n",
    "# Combine the customer ID and churn probability into a DataFrame\n",
    "customer_churn_probs = pd.DataFrame({'CustomerID': df_churn_f.index, 'churn_prob': churn_probs})\n",
    "\n",
    "# Sort the customers in decreasing order of churn probability and select the top 500\n",
    "top_customers = customer_churn_probs.sort_values(by='churn_prob', ascending=False).head(500)\n",
    "top_customers\n"
   ]
  },
  {
   "cell_type": "code",
   "execution_count": 110,
   "metadata": {
    "id": "6ZvmlQKpd1dl"
   },
   "outputs": [],
   "source": [
    "#sending the customer list to a .csv file\n",
    "top_customers.to_csv('top_customers.csv')\n"
   ]
  },
  {
   "cell_type": "code",
   "execution_count": 111,
   "metadata": {
    "id": "DYPjz6Xcd1dl",
    "outputId": "e1e57942-f13b-4168-9805-bc57a24a7aef"
   },
   "outputs": [
    {
     "data": {
      "text/html": [
       "<div>\n",
       "<style scoped>\n",
       "    .dataframe tbody tr th:only-of-type {\n",
       "        vertical-align: middle;\n",
       "    }\n",
       "\n",
       "    .dataframe tbody tr th {\n",
       "        vertical-align: top;\n",
       "    }\n",
       "\n",
       "    .dataframe thead th {\n",
       "        text-align: right;\n",
       "    }\n",
       "</style>\n",
       "<table border=\"1\" class=\"dataframe\">\n",
       "  <thead>\n",
       "    <tr style=\"text-align: right;\">\n",
       "      <th></th>\n",
       "      <th>CustomerID</th>\n",
       "      <th>churn_prob</th>\n",
       "    </tr>\n",
       "  </thead>\n",
       "  <tbody>\n",
       "    <tr>\n",
       "      <th>2899</th>\n",
       "      <td>5712-VBOXD</td>\n",
       "      <td>0.424420</td>\n",
       "    </tr>\n",
       "    <tr>\n",
       "      <th>1027</th>\n",
       "      <td>8714-CTZJW</td>\n",
       "      <td>0.424420</td>\n",
       "    </tr>\n",
       "    <tr>\n",
       "      <th>2118</th>\n",
       "      <td>1564-HJUVY</td>\n",
       "      <td>0.424420</td>\n",
       "    </tr>\n",
       "    <tr>\n",
       "      <th>5020</th>\n",
       "      <td>7976-CICYS</td>\n",
       "      <td>0.424420</td>\n",
       "    </tr>\n",
       "    <tr>\n",
       "      <th>1647</th>\n",
       "      <td>3420-ZDBMA</td>\n",
       "      <td>0.422436</td>\n",
       "    </tr>\n",
       "    <tr>\n",
       "      <th>...</th>\n",
       "      <td>...</td>\n",
       "      <td>...</td>\n",
       "    </tr>\n",
       "    <tr>\n",
       "      <th>3847</th>\n",
       "      <td>3511-BFTJW</td>\n",
       "      <td>0.001772</td>\n",
       "    </tr>\n",
       "    <tr>\n",
       "      <th>4409</th>\n",
       "      <td>2193-SFWQW</td>\n",
       "      <td>0.001772</td>\n",
       "    </tr>\n",
       "    <tr>\n",
       "      <th>3768</th>\n",
       "      <td>7113-HIPFI</td>\n",
       "      <td>0.001627</td>\n",
       "    </tr>\n",
       "    <tr>\n",
       "      <th>4221</th>\n",
       "      <td>8882-TLVRW</td>\n",
       "      <td>0.001491</td>\n",
       "    </tr>\n",
       "    <tr>\n",
       "      <th>2345</th>\n",
       "      <td>1814-WFGVS</td>\n",
       "      <td>0.001366</td>\n",
       "    </tr>\n",
       "  </tbody>\n",
       "</table>\n",
       "<p>4674 rows × 2 columns</p>\n",
       "</div>"
      ],
      "text/plain": [
       "      CustomerID  churn_prob\n",
       "2899  5712-VBOXD    0.424420\n",
       "1027  8714-CTZJW    0.424420\n",
       "2118  1564-HJUVY    0.424420\n",
       "5020  7976-CICYS    0.424420\n",
       "1647  3420-ZDBMA    0.422436\n",
       "...          ...         ...\n",
       "3847  3511-BFTJW    0.001772\n",
       "4409  2193-SFWQW    0.001772\n",
       "3768  7113-HIPFI    0.001627\n",
       "4221  8882-TLVRW    0.001491\n",
       "2345  1814-WFGVS    0.001366\n",
       "\n",
       "[4674 rows x 2 columns]"
      ]
     },
     "execution_count": 111,
     "metadata": {},
     "output_type": "execute_result"
    }
   ],
   "source": [
    "# to find the risk of the remaining customers who have not yet churned and might churn in the future\n",
    "# Predict the probability of churn for each customer, who is from the remaining list\n",
    "churn_probs_remaining = lr_2.predict_proba(df_churn_f[['const','Tenure Months', 'churn_category', 'Pay_Electronic check', 'Dependents', \n",
    "'Paperless Billing', 'ML_Yes', 'Con_One year', \n",
    "'Con_Two year', 'Senior Citizen', 'OS_Yes', 'Pay_Mailed check']])[:, 1]\n",
    "\n",
    "# Combine the customer ID and churn probability into a DataFrame\n",
    "customer_churn_probs_remaining = pd.DataFrame({'CustomerID': df_churn_f.index, 'churn_prob': churn_probs_remaining})\n",
    "\n",
    "# Sort the customers in decreasing order of churn probability and select the top 500\n",
    "remaining_customers = customer_churn_probs.sort_values(by='churn_prob', ascending=False)\n",
    "# Select all customers beyond the top 500\n",
    "remaining_customers = remaining_customers.iloc[500:]\n",
    "remaining_customers"
   ]
  },
  {
   "cell_type": "code",
   "execution_count": 112,
   "metadata": {
    "id": "__xgChpSd1dm"
   },
   "outputs": [],
   "source": [
    "#to create another list of the remaining customers and convert to another .csv file\n",
    "remaining_customers.to_csv('remaining_customers.csv')"
   ]
  }
 ],
 "metadata": {
  "colab": {
   "provenance": []
  },
  "kernelspec": {
   "display_name": "Python 3 (ipykernel)",
   "language": "python",
   "name": "python3"
  },
  "language_info": {
   "codemirror_mode": {
    "name": "ipython",
    "version": 3
   },
   "file_extension": ".py",
   "mimetype": "text/x-python",
   "name": "python",
   "nbconvert_exporter": "python",
   "pygments_lexer": "ipython3",
   "version": "3.8.12"
  }
 },
 "nbformat": 4,
 "nbformat_minor": 1
}
